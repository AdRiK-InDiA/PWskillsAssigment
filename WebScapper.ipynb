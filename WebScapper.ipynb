{
 "cells": [
  {
   "cell_type": "markdown",
   "id": "7d5e514b-c422-4e9d-ba53-a13b4c1172be",
   "metadata": {},
   "source": [
    "## Q1. What is Web Scraping? Why is it Used? Give three areas where Web Scraping is used to get data.\n"
   ]
  },
  {
   "cell_type": "markdown",
   "id": "f0c8010c-6de6-4a54-8517-4ab1752492fd",
   "metadata": {},
   "source": [
    "Web scraping is the process of collecting structured web data in an automated fashion. It's also known as web data extraction. Some of the main use cases of web scraping include price monitoring, price intelligence, news monitoring, lead generation, and market research among many others."
   ]
  },
  {
   "cell_type": "markdown",
   "id": "8b596a93-4826-4fc1-a08c-8becb620c681",
   "metadata": {},
   "source": [
    "## Q2. What are the different methods used for Web Scraping?\n"
   ]
  },
  {
   "cell_type": "markdown",
   "id": "480835db-ac7e-479c-ae06-d172e75cc321",
   "metadata": {},
   "source": [
    "Google Sheets is a popular tool for data scraping. Scarpers can use the IMPORTXML function in Sheets to scrape from a website, which is useful if they want to extract a specific pattern or data from the website. This command also makes it possible to check if a website can be scraped or is protected."
   ]
  },
  {
   "cell_type": "markdown",
   "id": "4331428a-52f1-4747-bbd1-60293d4bea9c",
   "metadata": {},
   "source": [
    "## Q3. What is Beautiful Soup? Why is it used?\n"
   ]
  },
  {
   "cell_type": "markdown",
   "id": "dcc77f90-7285-480a-b887-39d4c13be2bd",
   "metadata": {},
   "source": [
    "Beautiful Soup is a Python package for parsing HTML and XML documents (including having malformed markup, i.e. non-closed tags, so named after tag soup). It creates a parse tree for parsed pages that can be used to extract data from HTML, which is useful for web scraping."
   ]
  },
  {
   "cell_type": "markdown",
   "id": "aa72fed5-4092-418c-b1d3-25c7f065af0c",
   "metadata": {},
   "source": [
    "## Q4. Why is flask used in this Web Scraping project?\n"
   ]
  },
  {
   "cell_type": "markdown",
   "id": "e5af7e46-2c0a-49af-a35d-03740b3babbf",
   "metadata": {},
   "source": [
    "Flask is a lightweight framework to build websites. We'll use this to parse our collected data and display it as HTML in a new HTML file. The requests module allows us to send http requests to the website we want to scrape. The first line imports the Flask class and the render_template method from the flask library."
   ]
  },
  {
   "cell_type": "markdown",
   "id": "422df5c6-95ba-46a8-8f57-bf65ec7258e6",
   "metadata": {},
   "source": [
    "## Q5. Write the names of AWS services used in this project. Also, explain the use of each service"
   ]
  },
  {
   "cell_type": "markdown",
   "id": "5763c58c-703c-41c9-a9e7-27f4d8f64eff",
   "metadata": {},
   "source": [
    "What is AWS explain any 5 services of AWS?\n",
    "Amazon web service is an online platform that provides scalable and cost-effective cloud computing solutions. AWS is a broadly adopted cloud platform that offers several on-demand operations like compute power, database storage, content delivery, etc., to help corporates scale and grow."
   ]
  },
  {
   "cell_type": "code",
   "execution_count": null,
   "id": "ce3b2b56-32fd-45a1-b4ef-d30276a87781",
   "metadata": {},
   "outputs": [],
   "source": []
  }
 ],
 "metadata": {
  "kernelspec": {
   "display_name": "Python 3 (ipykernel)",
   "language": "python",
   "name": "python3"
  },
  "language_info": {
   "codemirror_mode": {
    "name": "ipython",
    "version": 3
   },
   "file_extension": ".py",
   "mimetype": "text/x-python",
   "name": "python",
   "nbconvert_exporter": "python",
   "pygments_lexer": "ipython3",
   "version": "3.9.13"
  }
 },
 "nbformat": 4,
 "nbformat_minor": 5
}
