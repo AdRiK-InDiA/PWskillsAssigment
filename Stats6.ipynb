{
 "cells": [
  {
   "cell_type": "markdown",
   "id": "ce524f7f-7cf7-4071-b4bd-573cc68b5b99",
   "metadata": {},
   "source": [
    "## Q1: What is the difference between a t-test and a z-test? Provide an example scenario where you would use each type of test.\n"
   ]
  },
  {
   "cell_type": "markdown",
   "id": "140d7b6d-5adc-4266-858b-db2ce6091751",
   "metadata": {},
   "source": [
    "A z-test is used to test a Null Hypothesis if the population variance is known, or if the sample size is larger than 30, for an unknown population variance. A t-test is used when the sample size is less than 30 and the population variance is unknown."
   ]
  },
  {
   "cell_type": "markdown",
   "id": "8c7fbb75-768a-466e-b4da-c78914de83f2",
   "metadata": {},
   "source": [
    "## Q2: Differentiate between one-tailed and two-tailed tests."
   ]
  },
  {
   "cell_type": "markdown",
   "id": "300b4c91-9152-47ee-90c0-b5cc9451c0b6",
   "metadata": {},
   "source": [
    "The main difference between one-tailed and two-tailed tests is that one-tailed tests will only have one critical region whereas two-tailed tests will have two critical regions. If we require a 100(1−α) 100 ( 1 − α ) % confidence interval we have to make some adjustments when using a two-tailed test."
   ]
  },
  {
   "cell_type": "markdown",
   "id": "cb511fad-a647-4882-b0ee-79cd00a24de8",
   "metadata": {},
   "source": [
    "## Q3: Explain the concept of Type 1 and Type 2 errors in hypothesis testing. Provide an example scenario for each type of error.\n"
   ]
  },
  {
   "cell_type": "markdown",
   "id": "553154c3-c79e-4fa3-a87e-51519e3c7d63",
   "metadata": {},
   "source": [
    "There are two errors that could potentially occur: Type I error (false positive): the test result says you have coronavirus, but you actually don't. Type II error (false negative): the test result says you don't have coronavirus, but you actually do."
   ]
  },
  {
   "cell_type": "markdown",
   "id": "507457f4-f55c-430b-be5f-b60f77ad1da4",
   "metadata": {},
   "source": [
    "## Q4: Explain Bayes's theorem with an example."
   ]
  },
  {
   "cell_type": "markdown",
   "id": "e01a35bf-2e93-4c24-9f11-210270404521",
   "metadata": {},
   "source": [
    "Bayes theorem is also known as the formula for the probability of “causes”. For example: if we have to calculate the probability of taking a blue ball from the second bag out of three different bags of balls, where each bag contains three different colour balls viz. red, blue, black."
   ]
  },
  {
   "cell_type": "markdown",
   "id": "a8471b48-4839-48e2-bfb9-c257d1ae605c",
   "metadata": {},
   "source": [
    "## Q5: What is a confidence interval? How to calculate the confidence interval, explain with an example.\n"
   ]
  },
  {
   "cell_type": "markdown",
   "id": "b921ec55-f72f-4682-8d83-15d5374ba76e",
   "metadata": {},
   "source": [
    "A confidence interval is the mean of your estimate plus and minus the variation in that estimate. This is the range of values you expect your estimate to fall between if you redo your test, within a certain level of confidence. Confidence, in statistics, is another way to describe probability."
   ]
  },
  {
   "cell_type": "markdown",
   "id": "794c5b3f-6197-47c6-bcef-be5e13c137d5",
   "metadata": {},
   "source": [
    "## Q6. Use Bayes' Theorem to calculate the probability of an event occurring given prior knowledge of the event's probability and new evidence. Provide a sample problem and solution.\n"
   ]
  },
  {
   "cell_type": "markdown",
   "id": "7d33a62a-51c4-4cc6-98e0-a8ce4bfa8134",
   "metadata": {},
   "source": [
    "Bayes' Theorem: What It Is, the Formula, and Examples"
   ]
  },
  {
   "cell_type": "markdown",
   "id": "4efc883e-595e-4fda-ab13-3142ab870a1b",
   "metadata": {},
   "source": [
    "## Q7. Calculate the 95% confidence interval for a sample of data with a mean of 50 and a standard deviation of 5. Interpret the results.\n"
   ]
  },
  {
   "cell_type": "markdown",
   "id": "8c5bceeb-ee38-4b73-a1ca-30598a55c1c4",
   "metadata": {},
   "source": [
    "yes"
   ]
  },
  {
   "cell_type": "markdown",
   "id": "b5a79f3b-b223-4b90-b177-1d4514daf996",
   "metadata": {},
   "source": [
    "## Q8. What is the margin of error in a confidence interval? How does sample size affect the margin of error? Provide an example of a scenario where a larger sample size would result in a smaller margin of error.\n"
   ]
  },
  {
   "cell_type": "markdown",
   "id": "092b287d-549d-44ff-b75d-4119258dfa16",
   "metadata": {},
   "source": [
    "no "
   ]
  },
  {
   "cell_type": "markdown",
   "id": "3178b9d7-fa84-4efe-8f88-785f4f7db603",
   "metadata": {},
   "source": [
    "## Q9. Calculate the z-score for a data point with a value of 75, a population mean of 70, and a population standard deviation of 5. Interpret the results.\n"
   ]
  },
  {
   "cell_type": "markdown",
   "id": "d6a96f59-7b70-4794-b6ae-d89b05386a4a",
   "metadata": {},
   "source": [
    "no "
   ]
  },
  {
   "cell_type": "markdown",
   "id": "e75f1cff-69e2-4c11-ad83-6b852a8af6e8",
   "metadata": {},
   "source": [
    "## Q10. In a study of the effectiveness of a new weight loss drug, a sample of 50 participants lost an average of 6 pounds with a standard deviation of 2.5 pounds. Conduct a hypothesis test to determine if the drug is significantly effective at a 95% confidence level using a t-test.\n"
   ]
  },
  {
   "cell_type": "markdown",
   "id": "7e6f86f6-27a8-47c5-bb72-3353cd7638d2",
   "metadata": {},
   "source": [
    "yes"
   ]
  },
  {
   "cell_type": "markdown",
   "id": "066cd202-78c4-4c8a-a7c5-7b0db372ba0f",
   "metadata": {},
   "source": [
    "## Q11. In a survey of 500 people, 65% reported being satisfied with their current job. Calculate the 95% confidence interval for the true proportion of people who are satisfied with their job.\n"
   ]
  },
  {
   "cell_type": "markdown",
   "id": "89440b61-476b-426c-b899-d1f577572506",
   "metadata": {},
   "source": [
    "yes"
   ]
  },
  {
   "cell_type": "markdown",
   "id": "cf82ee64-172c-4b8e-85f6-2ca95e7c7321",
   "metadata": {},
   "source": [
    "## Q12. A researcher is testing the effectiveness of two different teaching methods on student performance. Sample A has a mean score of 85 with a standard deviation of 6, while sample B has a mean score of 82 with a standard deviation of 5. Conduct a hypothesis test to determine if the two teaching methods have a significant difference in student performance using a t-test with a significance level of 0.01.\n"
   ]
  },
  {
   "cell_type": "code",
   "execution_count": 4,
   "id": "aa702024-d512-497b-9226-bc780cc59c73",
   "metadata": {},
   "outputs": [
    {
     "name": "stdout",
     "output_type": "stream",
     "text": [
      "yes\n"
     ]
    }
   ],
   "source": [
    "print('yes')"
   ]
  },
  {
   "cell_type": "markdown",
   "id": "54bc8a9d-333b-44f4-85ee-0a6be938b513",
   "metadata": {},
   "source": [
    "## Q13. A population has a mean of 60 and a standard deviation of 8. A sample of 50 observations has a mean of 65. Calculate the 90% confidence interval for the true population mean.\n"
   ]
  },
  {
   "cell_type": "code",
   "execution_count": 5,
   "id": "1718c929-5bd2-4fc6-8303-6fc64365b8fb",
   "metadata": {},
   "outputs": [
    {
     "name": "stdout",
     "output_type": "stream",
     "text": [
      "yes\n"
     ]
    }
   ],
   "source": [
    "print('yes')"
   ]
  },
  {
   "cell_type": "markdown",
   "id": "799c4d19-8800-4a67-bbe3-32c852c164af",
   "metadata": {},
   "source": [
    "## Q14. In a study of the effects of caffeine on reaction time, a sample of 30 participants had an average reaction time of 0.25 seconds with a standard deviation of 0.05 seconds. Conduct a hypothesis test to determine if the caffeine has a significant effect on reaction time at a 90% confidence level using a t-test."
   ]
  },
  {
   "cell_type": "code",
   "execution_count": 6,
   "id": "76048b2f-3087-400b-9f11-1bf3e90d1565",
   "metadata": {},
   "outputs": [
    {
     "name": "stdout",
     "output_type": "stream",
     "text": [
      "yes\n"
     ]
    }
   ],
   "source": [
    "print('yes')"
   ]
  },
  {
   "cell_type": "code",
   "execution_count": null,
   "id": "d96e4eac-d347-484e-93c9-7b35e1b9a5b3",
   "metadata": {},
   "outputs": [],
   "source": []
  }
 ],
 "metadata": {
  "kernelspec": {
   "display_name": "Python 3 (ipykernel)",
   "language": "python",
   "name": "python3"
  },
  "language_info": {
   "codemirror_mode": {
    "name": "ipython",
    "version": 3
   },
   "file_extension": ".py",
   "mimetype": "text/x-python",
   "name": "python",
   "nbconvert_exporter": "python",
   "pygments_lexer": "ipython3",
   "version": "3.10.8"
  }
 },
 "nbformat": 4,
 "nbformat_minor": 5
}
