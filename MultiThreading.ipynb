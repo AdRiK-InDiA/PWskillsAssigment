{
 "cells": [
  {
   "cell_type": "markdown",
   "id": "2de69e9e-5d04-49cb-90f9-372e1dc492a7",
   "metadata": {},
   "source": [
    "## 1. what is multithreading in python? why is it used? Name the module used to handle threads in python"
   ]
  },
  {
   "cell_type": "markdown",
   "id": "18a9f3cf-caac-40fe-8c57-09ba1198f94e",
   "metadata": {},
   "source": [
    "Multithreading is a threading technique in Python programming to run multiple threads concurrently by rapidly switching between threads with a CPU help (called context switching).\n",
    "\n",
    "here are two main modules of multithreading used to handle threads in Python.\n",
    "\n",
    "1. The __thread__ module\n",
    "2. The __threading__ module"
   ]
  },
  {
   "cell_type": "markdown",
   "id": "0c6a0f49-0419-4e8f-9b26-63f84c6bc2f9",
   "metadata": {},
   "source": [
    "## Q.2 why threading module used? write the use of the following functions"
   ]
  },
  {
   "cell_type": "markdown",
   "id": "71051876-5c8a-41a3-82d2-51b8a7e267b4",
   "metadata": {},
   "source": [
    "The newer threading module included with Python 2.4 provides much more powerful, high-level support for threads than the thread module discussed in the previous section.\n",
    "\n",
    "The threading module exposes all the methods of the thread module and provides some additional methods −\n",
    "\n",
    "1. __threading.activeCount()__ − Returns the number of thread objects that are active.\n",
    "2. __threading.currentThread()__ − Returns the number of thread objects in the caller's thread control.\n",
    "3. __threading.enumerate()__ − Returns a list of all thread objects that are currently active.\n"
   ]
  },
  {
   "cell_type": "markdown",
   "id": "88e36c6b-f0c5-41b8-81c3-2f92aa874060",
   "metadata": {},
   "source": [
    "## Q3. Explain the following functions"
   ]
  },
  {
   "cell_type": "markdown",
   "id": "9dfa5b8d-8207-4335-aa22-73cc65d59672",
   "metadata": {},
   "source": [
    "1. run()  − The run() method is the entry point for a thread.\n",
    "2. start()  − The start() method starts a thread by calling the run method.\n",
    "3. join([time])  − The join() waits for threads to terminate.\n",
    "4. isAlive()  − The isAlive() method checks whether a thread is still executing.\n",
    "5. getName()  − The getName() method returns the name of a thread.\n",
    "6. setName()  − The setName() method sets the name of a thread."
   ]
  },
  {
   "cell_type": "markdown",
   "id": "bec5b9e0-6ee5-4296-a02b-97f4e2237180",
   "metadata": {},
   "source": [
    "### Q4. write a python program to create two threads. Thread one must print the list of squares and thread two must print the list of cubes"
   ]
  },
  {
   "cell_type": "code",
   "execution_count": 1,
   "id": "cef07578-0e40-4557-ac7b-a78f333fa86a",
   "metadata": {},
   "outputs": [
    {
     "name": "stdout",
     "output_type": "stream",
     "text": [
      "4\n",
      "9\n",
      "16\n",
      "8\n",
      "27\n",
      "64\n"
     ]
    }
   ],
   "source": [
    "import threading\n",
    "\n",
    "def powers(lst,power):\n",
    "    for i in lst:\n",
    "        print(i**power)\n",
    "\n",
    "\n",
    "mylist = [2,3,4]\n",
    "\n",
    "threads = [threading.Thread(target=powers , args=(mylist,j)) for j in [2,3]]\n",
    "\n",
    "for t in threads:\n",
    "    t.start()"
   ]
  },
  {
   "cell_type": "markdown",
   "id": "fec38ded-5ac3-43e1-b45f-73224773534f",
   "metadata": {},
   "source": [
    "### State advantages and disadvantages of multithreading"
   ]
  },
  {
   "cell_type": "markdown",
   "id": "28e3dffb-92c5-4930-8059-ba8d94b635dd",
   "metadata": {},
   "source": [
    "Following are some of the common advantages of multithreading:\n",
    "\n",
    "1. Enhanced performance by decreased development time\n",
    "2. Simplified and streamlined program coding\n",
    "3. Improvised GUI responsiveness\n",
    "4. Simultaneous and parallelized occurrence of tasks\n",
    "5. Better use of cache storage by utilization of resources\n",
    "6. Decreased cost of maintenance\n",
    "7. Better use of CPU resource\n",
    "\n",
    "Multithreading does not only provide you with benefits, it has its disadvantages too. Let us go through some common disadvantages:\n",
    "\n",
    "1. Complex debugging and testing processes\n",
    "2. Overhead switching of context\n",
    "3. Increased potential for deadlock occurrence\n",
    "4. Increased difficulty level in writing a program\n",
    "5. Unpredictable results"
   ]
  },
  {
   "cell_type": "markdown",
   "id": "75c6211e-9be6-41e9-a56d-36ebbb841167",
   "metadata": {},
   "source": [
    "## Q6. Explain deadlocks and race conditions."
   ]
  },
  {
   "cell_type": "markdown",
   "id": "12b53fe5-812f-46c0-87fd-5600820d97f1",
   "metadata": {},
   "source": [
    "When two processes are waiting for each other directly or indirectly, it is called deadlock.\n",
    "\n",
    "When two processes are competing with each other causing data corruption it is called race ."
   ]
  },
  {
   "cell_type": "code",
   "execution_count": null,
   "id": "9f0059a6-62cc-4d77-88a2-2ac5406e8afa",
   "metadata": {},
   "outputs": [],
   "source": []
  }
 ],
 "metadata": {
  "kernelspec": {
   "display_name": "Python 3 (ipykernel)",
   "language": "python",
   "name": "python3"
  },
  "language_info": {
   "codemirror_mode": {
    "name": "ipython",
    "version": 3
   },
   "file_extension": ".py",
   "mimetype": "text/x-python",
   "name": "python",
   "nbconvert_exporter": "python",
   "pygments_lexer": "ipython3",
   "version": "3.9.13"
  }
 },
 "nbformat": 4,
 "nbformat_minor": 5
}
