{
 "cells": [
  {
   "cell_type": "markdown",
   "id": "4f1f7ddf-775c-4bb2-a5b7-678344f64be3",
   "metadata": {},
   "source": [
    "## Q1."
   ]
  },
  {
   "cell_type": "markdown",
   "id": "4650a7f0-9e43-49af-a845-54c30c82e09d",
   "metadata": {},
   "source": [
    "A decision tree algorithm is a machine learning algorithm that uses a decision tree to make predictions. It follows a tree-like model of decisions and their possible consequences. The algorithm works by recursively splitting the data into subsets based on the most significant feature at each node of the tree."
   ]
  },
  {
   "cell_type": "markdown",
   "id": "520bbc67-43bc-41ff-b7d3-24d9df0c97d6",
   "metadata": {},
   "source": [
    "## Q2."
   ]
  },
  {
   "cell_type": "markdown",
   "id": "51d8c774-b70d-41ba-a8ec-96d0475edd9f",
   "metadata": {},
   "source": [
    "First, we calculate the percentage of records that fall into each class (p). Then we square those numbers and add them together. Finally, we subtract that number from one. Because decision trees split data into more than one group, our final step is to calculate the weighted average of the Gini Impurity in each group."
   ]
  },
  {
   "cell_type": "markdown",
   "id": "59568823-8e32-449b-bb0c-ed91aeb221d1",
   "metadata": {},
   "source": [
    "## Q3."
   ]
  },
  {
   "cell_type": "markdown",
   "id": "c51d3351-2dc3-4e42-a86a-ed40a70e782b",
   "metadata": {},
   "source": [
    "How to use decision tree for binary classification?\n",
    "A Binary Decision Tree is a structure based on a sequential decision process. Starting from the root, a feature is evaluated and one of the two branches is selected. This procedure is repeated until a final leaf is reached, which normally represents the classification target you're looking for."
   ]
  },
  {
   "cell_type": "markdown",
   "id": "362b1b31-d6c8-4c86-bcd6-04d02e2eaf77",
   "metadata": {},
   "source": [
    "## Q4."
   ]
  },
  {
   "cell_type": "markdown",
   "id": "5d066ee0-4684-43ce-9ea3-13f46cc8d35f",
   "metadata": {},
   "source": [
    "How a decision tree is used for classification and prediction?\n",
    "A decision tree model is formed using a hierarchy of branches. Each path from the root node through internal nodes to a leaf node represents a classification decision rule. These decision tree pathways can also be represented as 'if-then' rules."
   ]
  },
  {
   "cell_type": "markdown",
   "id": "db37b0bf-63cf-4c5c-b400-99762f1228ee",
   "metadata": {},
   "source": [
    "## Q5."
   ]
  },
  {
   "cell_type": "markdown",
   "id": "30a3b015-20bd-4db0-8109-aa8f02f36026",
   "metadata": {},
   "source": [
    "A Confusion matrix is an N x N matrix used for evaluating the performance of a classification model, where N is the total number of target classes. The matrix compares the actual target values with those predicted by the machine learning model."
   ]
  },
  {
   "cell_type": "markdown",
   "id": "0bd01172-8995-4d1d-b541-c416fb80eb5d",
   "metadata": {},
   "source": [
    "## Q6."
   ]
  },
  {
   "cell_type": "markdown",
   "id": "a52ac740-1e81-4624-b48e-14b4592e191f",
   "metadata": {},
   "source": [
    "How to calculate accuracy precision recall and F1 score from confusion matrix?\n",
    "- Accuracy = Correct Predictions / Total Cases * 100%\n",
    "- Accuracy = (TP + TN) / (TP + TN + FP + FN +) * 100% Where True Positive (TP), True Negative (TN), False -   Positive (FP) and False Negative (FN). ...\n",
    "- Precision = TP / (TP + FP) * 100% ...\n",
    "- Recall = TP / TP + FN. ...\n",
    "- F1 Score = 2 * Precision * Recall / Precision + Recall."
   ]
  },
  {
   "cell_type": "markdown",
   "id": "713ec8a7-b113-4eb2-92f9-e0411ce31535",
   "metadata": {},
   "source": [
    "## Q7."
   ]
  },
  {
   "cell_type": "markdown",
   "id": "f9b32cc6-a249-4a37-8cfb-4b6fdf286518",
   "metadata": {},
   "source": [
    "How do you choose an evaluation metric for classification?\n",
    "Metrics like accuracy, precision, recall are good ways to evaluate classification models for balanced datasets, but if the data is imbalanced then other methods like ROC/AUC perform better in evaluating the model performance"
   ]
  },
  {
   "cell_type": "code",
   "execution_count": null,
   "id": "204484f6-8709-4172-8813-fb2512422065",
   "metadata": {},
   "outputs": [],
   "source": []
  }
 ],
 "metadata": {
  "kernelspec": {
   "display_name": "Python 3 (ipykernel)",
   "language": "python",
   "name": "python3"
  },
  "language_info": {
   "codemirror_mode": {
    "name": "ipython",
    "version": 3
   },
   "file_extension": ".py",
   "mimetype": "text/x-python",
   "name": "python",
   "nbconvert_exporter": "python",
   "pygments_lexer": "ipython3",
   "version": "3.10.8"
  }
 },
 "nbformat": 4,
 "nbformat_minor": 5
}
