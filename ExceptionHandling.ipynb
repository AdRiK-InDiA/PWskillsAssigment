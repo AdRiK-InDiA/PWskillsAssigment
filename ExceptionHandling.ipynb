{
 "cells": [
  {
   "cell_type": "markdown",
   "id": "3bd97a9e-ac35-4f8a-9591-c1b918722b1c",
   "metadata": {},
   "source": [
    "## What is an Exception is python ? what is the differnece between exception and syntax error?"
   ]
  },
  {
   "cell_type": "markdown",
   "id": "a8f1b5b8-a861-4d51-8f55-1501f512ae5c",
   "metadata": {},
   "source": [
    "When in the runtime an error that occurs it is called __exception__ or logical type. For example, when we divide any number by zero then the ZeroDivisionError exception is raised, or when we import a module that does not exist then ImportError is raised.\n",
    "\n",
    "Difference  - __syntax error__ as caught by compilers . __Exceptions__ are raised during runtime ."
   ]
  },
  {
   "cell_type": "markdown",
   "id": "a108e4a8-fa47-4208-b59f-ee5f862345ba",
   "metadata": {},
   "source": [
    "## What happens when exceptions are not handled ? Explain with example ."
   ]
  },
  {
   "cell_type": "markdown",
   "id": "64a9e2c7-f45b-4922-b0f5-7b37b39998bc",
   "metadata": {},
   "source": [
    "When exceptions are not handled we get an error during runtime ."
   ]
  },
  {
   "cell_type": "code",
   "execution_count": 1,
   "id": "f8fc7d9b-e114-4cf4-9bf4-8b73e127c8fa",
   "metadata": {},
   "outputs": [
    {
     "ename": "ZeroDivisionError",
     "evalue": "division by zero",
     "output_type": "error",
     "traceback": [
      "\u001b[1;31m---------------------------------------------------------------------------\u001b[0m",
      "\u001b[1;31mZeroDivisionError\u001b[0m                         Traceback (most recent call last)",
      "\u001b[1;32m~\\AppData\\Local\\Temp\\ipykernel_18608\\59148766.py\u001b[0m in \u001b[0;36m<module>\u001b[1;34m\u001b[0m\n\u001b[1;32m----> 1\u001b[1;33m \u001b[0ma\u001b[0m \u001b[1;33m=\u001b[0m \u001b[1;36m5\u001b[0m\u001b[1;33m/\u001b[0m\u001b[1;36m0\u001b[0m\u001b[1;33m\u001b[0m\u001b[1;33m\u001b[0m\u001b[0m\n\u001b[0m\u001b[0;32m      2\u001b[0m \u001b[1;33m\u001b[0m\u001b[0m\n\u001b[0;32m      3\u001b[0m \u001b[0mprint\u001b[0m\u001b[1;33m(\u001b[0m\u001b[0ma\u001b[0m\u001b[1;33m)\u001b[0m\u001b[1;33m\u001b[0m\u001b[1;33m\u001b[0m\u001b[0m\n",
      "\u001b[1;31mZeroDivisionError\u001b[0m: division by zero"
     ]
    }
   ],
   "source": [
    "a = 5/0\n",
    "\n",
    "print(a)"
   ]
  },
  {
   "cell_type": "markdown",
   "id": "88ede632-f5ff-4279-b676-2f46b594cfb6",
   "metadata": {},
   "source": [
    "### Q4. Explain with an example:\n",
    "1. try and else\n",
    "2. finally\n",
    "3. raise\n"
   ]
  },
  {
   "cell_type": "markdown",
   "id": "44ed67d9-1cba-4072-910a-469a80a70864",
   "metadata": {},
   "source": [
    "any code with can cause error is kept inside try block .\n",
    "\n",
    "when try block executes succesfully without raising any exceptions , else block is executed.\n",
    "\n",
    "Python provides a keyword finally, which is always executed after try and except blocks. The finally block always executes after normal termination of try block or after try block terminates due to some exception. Even if you return in the except block still the finally block will execute\n",
    "\n",
    "The raise keyword is used to raise an exception.\n",
    "\n",
    "You can define what kind of error to raise, and the text to print to the user."
   ]
  },
  {
   "cell_type": "markdown",
   "id": "530828f5-cd25-454a-a5ce-907d228d30db",
   "metadata": {},
   "source": [
    "### What are Custom Exeptions in pthon? What do we need Custom Exeptions? Explain with an example"
   ]
  },
  {
   "cell_type": "markdown",
   "id": "ce3efa7e-dec6-4d0e-8d85-5dbac1a2ce30",
   "metadata": {},
   "source": [
    "user defined exceptions are called custom exceptions."
   ]
  },
  {
   "cell_type": "code",
   "execution_count": 2,
   "id": "3e7bc5a0-b78f-4308-bf03-caf7c37ba92d",
   "metadata": {},
   "outputs": [
    {
     "name": "stdin",
     "output_type": "stream",
     "text": [
      "Enter your age . -12\n"
     ]
    },
    {
     "ename": "Exception",
     "evalue": "Age should be more than 0",
     "output_type": "error",
     "traceback": [
      "\u001b[1;31m---------------------------------------------------------------------------\u001b[0m",
      "\u001b[1;31mException\u001b[0m                                 Traceback (most recent call last)",
      "\u001b[1;32m~\\AppData\\Local\\Temp\\ipykernel_18608\\680261634.py\u001b[0m in \u001b[0;36m<module>\u001b[1;34m\u001b[0m\n\u001b[0;32m      2\u001b[0m \u001b[1;33m\u001b[0m\u001b[0m\n\u001b[0;32m      3\u001b[0m \u001b[1;32mif\u001b[0m \u001b[0mage\u001b[0m\u001b[1;33m<\u001b[0m\u001b[1;36m0\u001b[0m\u001b[1;33m:\u001b[0m\u001b[1;33m\u001b[0m\u001b[1;33m\u001b[0m\u001b[0m\n\u001b[1;32m----> 4\u001b[1;33m     \u001b[1;32mraise\u001b[0m \u001b[0mException\u001b[0m\u001b[1;33m(\u001b[0m\u001b[1;34m'Age should be more than 0'\u001b[0m\u001b[1;33m)\u001b[0m\u001b[1;33m\u001b[0m\u001b[1;33m\u001b[0m\u001b[0m\n\u001b[0m\u001b[0;32m      5\u001b[0m \u001b[1;32melse\u001b[0m \u001b[1;33m:\u001b[0m\u001b[1;33m\u001b[0m\u001b[1;33m\u001b[0m\u001b[0m\n\u001b[0;32m      6\u001b[0m     \u001b[0mprint\u001b[0m\u001b[1;33m(\u001b[0m\u001b[1;34m'Ok'\u001b[0m\u001b[1;33m)\u001b[0m\u001b[1;33m\u001b[0m\u001b[1;33m\u001b[0m\u001b[0m\n",
      "\u001b[1;31mException\u001b[0m: Age should be more than 0"
     ]
    }
   ],
   "source": [
    "age = int(input('Enter your age .'))\n",
    "\n",
    "if age<0:\n",
    "    raise Exception('Age should be more than 0')\n",
    "else :\n",
    "    print('Ok')"
   ]
  },
  {
   "cell_type": "markdown",
   "id": "72695723-902d-4925-ab51-130616a39cfe",
   "metadata": {},
   "source": [
    "### Q6. Create a custom exception class. Use this class to handle an exception."
   ]
  },
  {
   "cell_type": "code",
   "execution_count": 12,
   "id": "ac6deafc-1183-4cdd-8156-7e95cf0e074d",
   "metadata": {},
   "outputs": [],
   "source": [
    "class ValidPercentage(Exception):\n",
    "    \n",
    "    def __init__(self,msg):\n",
    "        self.msg = msg "
   ]
  },
  {
   "cell_type": "code",
   "execution_count": 20,
   "id": "93a00488-7a87-4c8b-bc4c-cd34747d5b12",
   "metadata": {},
   "outputs": [],
   "source": [
    "def validatepercentage(percent):\n",
    "    \n",
    "    if percent<0:\n",
    "        raise ValidPercentage('Perecentage cannot be negative')\n",
    "    elif percent>100:\n",
    "        raise ValidPercentage('Percentage cannot be more than 100%')\n",
    "    else :\n",
    "        print('ok')"
   ]
  },
  {
   "cell_type": "code",
   "execution_count": 23,
   "id": "a2138781-a6b9-4b49-a711-84b93d35983c",
   "metadata": {},
   "outputs": [
    {
     "name": "stdin",
     "output_type": "stream",
     "text": [
      "Enter your Marks percentage : 110\n"
     ]
    },
    {
     "name": "stdout",
     "output_type": "stream",
     "text": [
      "Percentage cannot be more than 100%\n"
     ]
    }
   ],
   "source": [
    "try:\n",
    "    percent  = int(input('Enter your Marks percentage :'))\n",
    "    validatepercentage(percent)\n",
    "    \n",
    "except ValidPercentage as e :\n",
    "    print(e)"
   ]
  },
  {
   "cell_type": "code",
   "execution_count": null,
   "id": "5dcabfec-126e-4dc3-b5bc-9f6df90e407c",
   "metadata": {},
   "outputs": [],
   "source": []
  }
 ],
 "metadata": {
  "kernelspec": {
   "display_name": "Python 3 (ipykernel)",
   "language": "python",
   "name": "python3"
  },
  "language_info": {
   "codemirror_mode": {
    "name": "ipython",
    "version": 3
   },
   "file_extension": ".py",
   "mimetype": "text/x-python",
   "name": "python",
   "nbconvert_exporter": "python",
   "pygments_lexer": "ipython3",
   "version": "3.9.13"
  }
 },
 "nbformat": 4,
 "nbformat_minor": 5
}
