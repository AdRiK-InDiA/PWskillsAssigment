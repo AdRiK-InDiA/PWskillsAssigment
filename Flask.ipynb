{
 "cells": [
  {
   "cell_type": "markdown",
   "id": "e07d2b3b-faaf-4df3-911b-837557c8f143",
   "metadata": {},
   "source": [
    "## Q1. What is Flask Framework? What are the advantages of Flask Framework?\n"
   ]
  },
  {
   "cell_type": "markdown",
   "id": "64ce6595-964d-421d-8d71-3ff58c00ed10",
   "metadata": {},
   "source": [
    "Flask is a microframework offering all the basic features of a web application. It's easy to get started on and expand with Python's wealth of libraries and extensions. On its own, the framework's capabilities are limited and extra functionalities need to be added with supplemental technologies."
   ]
  },
  {
   "cell_type": "markdown",
   "id": "d7c499fa-6d14-47f5-971d-80f7a4ac54e3",
   "metadata": {},
   "source": [
    "## Q2. Create a simple Flask application to display ‘Hello World!!’. Attach the screenshot of the output in Jupyter Notebook.\n"
   ]
  },
  {
   "cell_type": "markdown",
   "id": "9f2e906d-b81b-4d5b-96ba-12760ae8da42",
   "metadata": {},
   "source": [
    " <img src=\"img1.png\" width=400 height=400 />"
   ]
  },
  {
   "cell_type": "markdown",
   "id": "0df1561f-0bb3-41b5-9328-c0b10047c80c",
   "metadata": {},
   "source": [
    "## Q3. What is App routing in Flask? Why do we use app routes?\n"
   ]
  },
  {
   "cell_type": "markdown",
   "id": "dd01e570-6b3a-4d27-b569-bebf07ca0343",
   "metadata": {},
   "source": [
    "App Routing means mapping the URLs to a specific function that will handle the logic for that URL. Modern web frameworks use more meaningful URLs to help users remember the URLs and make navigation simpler. Example: In our application, the URL (“/”) is associated with the root URL."
   ]
  },
  {
   "cell_type": "markdown",
   "id": "4e5bf352-8dfe-4453-9b3c-3253363ca684",
   "metadata": {},
   "source": [
    "## Q4. Create a “/welcome” route to display the welcome message “Welcome to ABC Corporation” and a “/” route to show the following details:\n",
    "1. Company Name: ABC Corporation\n",
    "2. Location: India\n",
    "3. Contact Detail: 999-999-9999\n",
    "4. Attach the screenshot of the output in Jupyter Notebook.\n"
   ]
  },
  {
   "cell_type": "markdown",
   "id": "20246dee-0f60-4dce-9b43-05f16c0843e5",
   "metadata": {},
   "source": [
    "<img src=\"img2.png\" width=400 height=400 />"
   ]
  },
  {
   "cell_type": "markdown",
   "id": "40a8818e-6d4a-4755-a13b-2f8b5af1e6d3",
   "metadata": {},
   "source": [
    "## Q5. What function is used in Flask for URL Building? Write a Python code to demonstrate the working of the url_for() function."
   ]
  },
  {
   "cell_type": "markdown",
   "id": "f86d4259-98d1-42e1-808d-3df21fb61767",
   "metadata": {},
   "source": [
    "The url_for() function is very useful for dynamically building a URL for a specific function. The function accepts the name of a function as first argument, and one or more keyword arguments, each corresponding to the variable part of URL."
   ]
  },
  {
   "cell_type": "code",
   "execution_count": null,
   "id": "30aea93c-2987-4d15-a86d-681653a6c3c1",
   "metadata": {},
   "outputs": [],
   "source": [
    "from flask import Flask, redirect, url_for\n",
    "app = Flask(__name__)\n",
    "\n",
    "@app.route('/admin')\n",
    "def hello_admin():\n",
    "   return 'Hello Admin'\n",
    "\n",
    "@app.route('/guest/<guest>')\n",
    "def hello_guest(guest):\n",
    "   return 'Hello %s as Guest' % guest\n",
    "\n",
    "@app.route('/user/<name>')\n",
    "def hello_user(name):\n",
    "   if name =='admin':\n",
    "      return redirect(url_for('hello_admin'))\n",
    "   else:\n",
    "      return redirect(url_for('hello_guest',guest = name))\n",
    "\n",
    "if __name__ == '__main__':\n",
    "   app.run(debug = True)"
   ]
  },
  {
   "cell_type": "code",
   "execution_count": null,
   "id": "255897b5-63a4-48c5-a246-b7ec38804ebd",
   "metadata": {},
   "outputs": [],
   "source": []
  }
 ],
 "metadata": {
  "kernelspec": {
   "display_name": "Python 3 (ipykernel)",
   "language": "python",
   "name": "python3"
  },
  "language_info": {
   "codemirror_mode": {
    "name": "ipython",
    "version": 3
   },
   "file_extension": ".py",
   "mimetype": "text/x-python",
   "name": "python",
   "nbconvert_exporter": "python",
   "pygments_lexer": "ipython3",
   "version": "3.9.13"
  }
 },
 "nbformat": 4,
 "nbformat_minor": 5
}
