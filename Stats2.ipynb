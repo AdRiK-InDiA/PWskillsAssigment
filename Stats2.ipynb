{
 "cells": [
  {
   "cell_type": "markdown",
   "id": "fadbafea-6fb2-4047-a422-891f9f4a095f",
   "metadata": {},
   "source": [
    "## Q1. What are the three measures of central tendency?"
   ]
  },
  {
   "cell_type": "markdown",
   "id": "fb38f603-0fbe-4413-9e90-09c9ac75abd0",
   "metadata": {},
   "source": [
    "The central tendency of the dataset can be found out using the three important measures namely mean, median and mode.\n",
    "\n"
   ]
  },
  {
   "cell_type": "markdown",
   "id": "763b5e74-5fb8-4709-8bd2-0e0da5507210",
   "metadata": {},
   "source": [
    "## Q2. What is the difference between the mean, median, and mode? How are they used to measure the central tendency of a dataset?"
   ]
  },
  {
   "cell_type": "markdown",
   "id": "cc03712c-8e15-45b3-ae04-40b355414cb1",
   "metadata": {},
   "source": [
    "Mean is the average (or arithmetic mean) of the values of a data set, whereas median is the middlemost value of the data."
   ]
  },
  {
   "cell_type": "markdown",
   "id": "ddbb0f07-32c3-4770-b622-db4fab71c9f8",
   "metadata": {},
   "source": [
    "Q3. Measure the three measures of central tendency for the given height data:\n",
    "[178,177,176,177,178.2,178,175,179,180,175,178.9,176.2,177,172.5,178,176.5]"
   ]
  },
  {
   "cell_type": "code",
   "execution_count": 2,
   "id": "72058d0f-238a-4c3e-b3a1-05a486e77d1a",
   "metadata": {},
   "outputs": [
    {
     "name": "stdout",
     "output_type": "stream",
     "text": [
      "Mean = 177.01875\n",
      "Median = 177.0\n",
      "No mode \n"
     ]
    }
   ],
   "source": [
    "import stats as st\n",
    "arr = [178,177,176,177,178.2,178,175,179,180,175,178.9,176.2,177,172.5,178,176.5]\n",
    "\n",
    "print(f'Mean = {st.mean(arr)}')\n",
    "print(f'Median = {st.median(arr)}')\n",
    "try:\n",
    "    print(f'Mode = {st.mode(arr)}')\n",
    "except:\n",
    "    print('No mode ')"
   ]
  },
  {
   "cell_type": "markdown",
   "id": "8a00c958-db00-4e57-85c3-bbaa90daecbb",
   "metadata": {},
   "source": [
    "## Q4. Find the standard deviation for the given data:\n",
    "[178,177,176,177,178.2,178,175,179,180,175,178.9,176.2,177,172.5,178,176.5]"
   ]
  },
  {
   "cell_type": "code",
   "execution_count": 6,
   "id": "1326fd67-5cf1-49ae-a873-33993572b520",
   "metadata": {},
   "outputs": [
    {
     "name": "stdout",
     "output_type": "stream",
     "text": [
      "std = 1.847238930584419\n"
     ]
    }
   ],
   "source": [
    "import math\n",
    "arr2 = [178,177,176,177,178.2,178,175,179,180,175,178.9,176.2,177,172.5,178,176.5]\n",
    "\n",
    "print(f'std = {st.stdev(arr2)}')"
   ]
  },
  {
   "cell_type": "markdown",
   "id": "d22c67cb-dc5a-4780-8701-ae33451d5f6b",
   "metadata": {},
   "source": [
    "## Q5. How are measures of dispersion such as range, variance, and standard deviation used to describe the spread of a dataset? Provide an example."
   ]
  },
  {
   "cell_type": "markdown",
   "id": "0528d334-d93a-494d-bfb0-ef755c0463a2",
   "metadata": {},
   "source": [
    "A statistic that tells us how the data values are dispersed or spread out is called the measure of dispersion. A simple measure of dispersion is the range. The range is equivalent to the difference between the highest and least data values. Another measure of dispersion is the standard deviation, representing the expected difference (or deviation) among a data value and the mean."
   ]
  },
  {
   "cell_type": "markdown",
   "id": "73029d20-f87e-4b79-8889-7ae3cdef5e92",
   "metadata": {},
   "source": [
    "## Q6. What is a Venn diagram?"
   ]
  },
  {
   "cell_type": "markdown",
   "id": "e1a9ef08-b7e4-4a1f-907a-b0403ddbcf99",
   "metadata": {},
   "source": [
    "A Venn diagram illustrates the relationships between two or more data sets. Venn diagrams are especially useful for highlighting similarities and differences and are commonly used to compare and contrast the characteristics of different data sets. In a Venn diagram, circles are used to represent each data set."
   ]
  },
  {
   "cell_type": "markdown",
   "id": "e27032fe-5436-493c-bfad-464643f1ae8a",
   "metadata": {},
   "source": [
    "## Q7. For the two given sets A = (2,3,4,5,6,7) & B = (0,2,6,8,10). Find:\n",
    "(i) A U' B\n",
    "(ii) A ⋃ B"
   ]
  },
  {
   "cell_type": "code",
   "execution_count": 9,
   "id": "e5ed29df-ec62-484e-aab0-f2e82d228586",
   "metadata": {},
   "outputs": [
    {
     "name": "stdout",
     "output_type": "stream",
     "text": [
      " A intersection B = {2, 6}\n",
      " A union B = {0, 2, 3, 4, 5, 6, 7, 8, 10}\n"
     ]
    }
   ],
   "source": [
    "A = {2,3,4,5,6,7}\n",
    "B = {0,2,6,8,10}\n",
    "\n",
    "print(f' A intersection B = {A.intersection(B)}')\n",
    "print(f' A union B = {A.union(B)}')"
   ]
  },
  {
   "cell_type": "markdown",
   "id": "0eb081ab-0bb4-41a7-9a05-5830822ab3bb",
   "metadata": {},
   "source": [
    "## Q8. What do you understand about skewness in data?"
   ]
  },
  {
   "cell_type": "markdown",
   "id": "5a7d9753-e959-4317-ba65-f08188570c7f",
   "metadata": {},
   "source": [
    " Skewness is a measurement of the distortion of symmetrical distribution or asymmetry in a data set. Skewness is demonstrated on a bell curve when data points are not distributed symmetrically to the left and right sides of the median on a bell curve."
   ]
  },
  {
   "cell_type": "markdown",
   "id": "0d19400b-d903-4526-9132-97fca5e2b330",
   "metadata": {},
   "source": [
    "## Q9. If a data is right skewed then what will be the position of median with respect to mean?"
   ]
  },
  {
   "cell_type": "markdown",
   "id": "a334dc4e-c8dd-41cf-9d6a-a5ab52ff0811",
   "metadata": {},
   "source": [
    "If the distribution of data is skewed to the right, the mode is often less than the median, which is less than the mean. Skewness and symmetry become important when we discuss probability distributions in later chapters"
   ]
  },
  {
   "cell_type": "markdown",
   "id": "0162cf4e-0e74-4a3b-8be8-2e0f134af561",
   "metadata": {},
   "source": [
    "## Q10. Explain the difference between covariance and correlation. How are these measures used in statistical analysis?"
   ]
  },
  {
   "cell_type": "markdown",
   "id": "3eaac5d0-97de-4b73-aac6-eeec7b5e2971",
   "metadata": {},
   "source": [
    "Covariance and correlation are two terms that are opposed and are both used in statistics and regression analysis. Covariance shows you how the two variables differ, whereas correlation shows you how the two variables are related."
   ]
  },
  {
   "cell_type": "markdown",
   "id": "0c4cd694-9d66-46aa-b82a-d70605c8f255",
   "metadata": {},
   "source": [
    "## Q11. What is the formula for calculating the sample mean? Provide an example calculation for a dataset."
   ]
  },
  {
   "cell_type": "markdown",
   "id": "4c88c13e-4d76-4c9b-a0f5-30cb03e8129d",
   "metadata": {},
   "source": [
    "The general formula for calculating the sample mean is given by x̄ = ( Σ xi ) / n. Here, x̄ represents the sample mean, xi refers all X sample values and n stands for the number of sample terms in the data set. When calculating the sample mean the following steps can be considered: Add the total sample items."
   ]
  },
  {
   "cell_type": "markdown",
   "id": "895f1f5f-6c66-474f-b483-1b6ee54a9e38",
   "metadata": {},
   "source": [
    "## Q12. For a normal distribution data what is the relationship between its measure of central tendency?"
   ]
  },
  {
   "cell_type": "markdown",
   "id": "1b21a3bb-c508-48a5-91cb-21acc14bfeb6",
   "metadata": {},
   "source": [
    "Any normal distribution has a graph that is perfectly symmetric about a vertical line through its peak. Therefore, all measures of central tendency (most commonly, the mean, median, and mode) give the same answer: the x -value of the peak."
   ]
  },
  {
   "cell_type": "markdown",
   "id": "7cd7e629-9c8b-4e9e-8b3a-b435598d4f27",
   "metadata": {},
   "source": [
    "## Q13. How is covariance different from correlation?"
   ]
  },
  {
   "cell_type": "markdown",
   "id": "07cc6363-a44a-4214-8053-4e1213a3674a",
   "metadata": {},
   "source": [
    "The value of covariance lies in the range of -∞ and +∞.\n",
    "\n",
    "Correlation is limited to values between the range -1 and +1"
   ]
  },
  {
   "cell_type": "markdown",
   "id": "a151978a-20d1-4fb5-b1e3-ea335f2e59a2",
   "metadata": {},
   "source": [
    "## Q14. How do outliers affect measures of central tendency and dispersion? Provide an example."
   ]
  },
  {
   "cell_type": "markdown",
   "id": "8046845a-2916-48af-97af-bf5345dd8b10",
   "metadata": {},
   "source": [
    "Outliers are numbers in a data set that are vastly larger or smaller than the other values in the set. Mean, median and mode are measures of central tendency. Mean is the only measure of central tendency that is always affected by an outlier. Mean, the average, is the most popular measure of central tendency."
   ]
  },
  {
   "cell_type": "code",
   "execution_count": null,
   "id": "b701a82f-a0ef-453a-ba08-24961573bce1",
   "metadata": {},
   "outputs": [],
   "source": []
  }
 ],
 "metadata": {
  "kernelspec": {
   "display_name": "Python 3 (ipykernel)",
   "language": "python",
   "name": "python3"
  },
  "language_info": {
   "codemirror_mode": {
    "name": "ipython",
    "version": 3
   },
   "file_extension": ".py",
   "mimetype": "text/x-python",
   "name": "python",
   "nbconvert_exporter": "python",
   "pygments_lexer": "ipython3",
   "version": "3.10.8"
  }
 },
 "nbformat": 4,
 "nbformat_minor": 5
}
