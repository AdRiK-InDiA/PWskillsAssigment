{
 "cells": [
  {
   "cell_type": "markdown",
   "id": "24b7e2ea-efd1-4644-beb9-04de941f005b",
   "metadata": {},
   "source": [
    "## Q1. What is multiprocessing in python? Why is it useful?"
   ]
  },
  {
   "cell_type": "markdown",
   "id": "c68c23c6-afb6-4783-9f4c-beb8651773c2",
   "metadata": {},
   "source": [
    "Multiprocessing in Python is a built-in package that allows the system to run multiple processes simultaneously. It will enable the breaking of applications into smaller threads that can run independently."
   ]
  },
  {
   "cell_type": "markdown",
   "id": "e6600714-2590-494a-b69a-252a4d0793da",
   "metadata": {
    "tags": []
   },
   "source": [
    "## Q2. What are the differences between multiprocessing and multithreading?"
   ]
  },
  {
   "cell_type": "markdown",
   "id": "e548ce10-99dc-4b65-8398-369789b7fcc7",
   "metadata": {},
   "source": [
    "Multiprocessing uses two or more CPUs to increase computing power, whereas multithreading uses a single process with multiple code segments to increase computing power. Multithreading focuses on generating computing threads from a single process, whereas multiprocessing increases computing power by adding CPUs."
   ]
  },
  {
   "cell_type": "markdown",
   "id": "bac30adc-80a3-4d66-b6b4-c05d8763aa3a",
   "metadata": {},
   "source": [
    "## Q3. Write a python code to create a process using the multiprocessing module."
   ]
  },
  {
   "cell_type": "code",
   "execution_count": 13,
   "id": "cb417b17-d1d8-4835-85ff-b4ef55d05803",
   "metadata": {},
   "outputs": [],
   "source": [
    "# importing the multiprocessing module\n",
    "import multiprocessing\n",
    "\n",
    "def print_cube(num):\n",
    "\tprint(\"Cube: {}\".format(num * num * num))\n",
    "\n",
    "def print_square(num):\n",
    "\tprint(\"Square: {}\".format(num * num))\n",
    "\n",
    "if __name__ == \"__main__\":\n",
    "    p1 = multiprocessing.Process(target=print_square, args=(10, ))\n",
    "    p2 = multiprocessing.Process(target=print_cube, args=(10, ))\n",
    "    p1.start()\n",
    "    p2.start()\n",
    "    p1.join()\n",
    "    p2.join()\n",
    "    \n",
    "\t\n"
   ]
  },
  {
   "cell_type": "markdown",
   "id": "904f3ffa-558c-49be-9991-38d9552099cb",
   "metadata": {},
   "source": [
    "## Q4. What is a multiprocessing pool in python? Why is it used?"
   ]
  },
  {
   "cell_type": "markdown",
   "id": "21114490-8391-42da-a8ac-69d43d21b52c",
   "metadata": {},
   "source": [
    "Python multiprocessing Pool can be used for parallel execution of a function across multiple input values, distributing the input data across processes (data parallelism). Below is a simple Python multiprocessing Pool example. Below image shows the output of the above program."
   ]
  },
  {
   "cell_type": "markdown",
   "id": "9b2bd5a2-9a2d-46f4-9b4c-0571704bc39e",
   "metadata": {},
   "source": [
    "## Q5. How can we create a pool of worker processes in python using the multiprocessing module?"
   ]
  },
  {
   "cell_type": "markdown",
   "id": "37dca877-4b2a-4354-b4d6-b68d1195d6c9",
   "metadata": {},
   "source": [
    "Create: Create the process pool by calling the constructor multiprocessing. Pool(). Submit: Submit tasks synchronously or asynchronously. Wait: Wait and get results as tasks complete (optional)."
   ]
  },
  {
   "cell_type": "markdown",
   "id": "8be7136b-0090-465f-be6a-b8001662dec8",
   "metadata": {},
   "source": [
    "## Q6. Write a python program to create 4 processes, each process should print a different number using the multiprocessing module in python."
   ]
  },
  {
   "cell_type": "code",
   "execution_count": 15,
   "id": "230823b7-5b1e-44dd-862c-724109380854",
   "metadata": {},
   "outputs": [],
   "source": [
    "import multiprocessing\n",
    "\n",
    "def square(n):\n",
    "    print(n**2)\n",
    "\n",
    "\n",
    "processes = [multiprocessing.Process(target=square,args=(i,)) for i in [2,3,4]]\n",
    "\n",
    "for p in processes:\n",
    "\n",
    "    p.start()\n",
    "    p.join()\n",
    "    \n",
    "print('end')\n"
   ]
  },
  {
   "cell_type": "code",
   "execution_count": null,
   "id": "af6ab15b-3c49-4263-a811-4c38a65b2dd9",
   "metadata": {},
   "outputs": [],
   "source": []
  }
 ],
 "metadata": {
  "kernelspec": {
   "display_name": "Python 3 (ipykernel)",
   "language": "python",
   "name": "python3"
  },
  "language_info": {
   "codemirror_mode": {
    "name": "ipython",
    "version": 3
   },
   "file_extension": ".py",
   "mimetype": "text/x-python",
   "name": "python",
   "nbconvert_exporter": "python",
   "pygments_lexer": "ipython3",
   "version": "3.9.13"
  }
 },
 "nbformat": 4,
 "nbformat_minor": 5
}
