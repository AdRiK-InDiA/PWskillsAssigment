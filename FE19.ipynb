{
 "cells": [
  {
   "cell_type": "markdown",
   "id": "c6424f8c-3b72-49e1-baa8-a53209b44c54",
   "metadata": {},
   "source": [
    " ## Q1."
   ]
  },
  {
   "cell_type": "markdown",
   "id": "1738af45-ecfb-4d35-86e6-4b0c0f092488",
   "metadata": {},
   "source": [
    "in min-max you will subtract the minimum value in the dataset with all the values and then divide this by the range of the dataset(maximum-minimum). In this case, your dataset will lie between 0 and 1 in all cases whereas in the previous case, it was between -1 and +1."
   ]
  },
  {
   "cell_type": "markdown",
   "id": "0a3d5ef9-ab46-42b0-860b-268592bd7456",
   "metadata": {},
   "source": [
    "## Q2."
   ]
  },
  {
   "cell_type": "markdown",
   "id": "fee3c0b4-dc86-47de-8be1-f4973fc7a83b",
   "metadata": {},
   "source": [
    "\n",
    "StandardScaler follows Standard Normal Distribution (SND). Therefore, it makes mean = 0 and scales the data to unit variance. MinMaxScaler scales all the data features in the range [0, 1] or else in the range [-1, 1] if there are negative values in the dataset."
   ]
  },
  {
   "cell_type": "markdown",
   "id": "d52ec662-c46c-4434-859c-798a51d4facc",
   "metadata": {},
   "source": [
    "## Q3."
   ]
  },
  {
   "cell_type": "markdown",
   "id": "80be8b1b-b6fd-4fcf-ac50-61211b5e854f",
   "metadata": {},
   "source": [
    "Principal component analysis is a popular technique for analyzing large datasets containing a high number of dimensions/features per observation, increasing the interpretability of data while preserving the maximum amount of information, and enabling the visualization of multidimensional data."
   ]
  },
  {
   "cell_type": "markdown",
   "id": "4e171ded-0412-465d-9316-128ffa09007f",
   "metadata": {},
   "source": [
    "## Q4."
   ]
  },
  {
   "cell_type": "markdown",
   "id": "7ae48e73-417d-4086-90ae-84e8a3001642",
   "metadata": {},
   "source": [
    "PCA Algorithm for Feature Extraction\n",
    "The PCA calculates a new projection of the given data set representing one or more features. The new axes are based on the standard deviation of the value of these features."
   ]
  },
  {
   "cell_type": "markdown",
   "id": "df90ecfd-9ebb-4339-802b-ec7071609409",
   "metadata": {},
   "source": [
    "## Q5."
   ]
  },
  {
   "cell_type": "markdown",
   "id": "dec07925-3335-48b2-92f1-5f7e4af9debd",
   "metadata": {},
   "source": [
    "How do you apply min max scaling to a dataset?\n",
    "A Min-Max scaling is typically done via the following equation: Xsc=X−XminXmax−Xmin. One family of algorithms that is scale-invariant encompasses tree-based learning algorithms."
   ]
  },
  {
   "cell_type": "markdown",
   "id": "07ce51d9-996b-4ada-a16f-bc1ba102c270",
   "metadata": {},
   "source": [
    "## Q6."
   ]
  },
  {
   "cell_type": "markdown",
   "id": "46f367f2-0bb4-4036-9f18-44d492703261",
   "metadata": {},
   "source": [
    "PCA generally tries to find the lower-dimensional surface to project the high-dimensional data. PCA works by considering the variance of each attribute because the high attribute shows the good split between the classes, and hence it reduces the dimensionality."
   ]
  },
  {
   "cell_type": "markdown",
   "id": "083f087a-fce6-46ba-9226-b0a01ff27986",
   "metadata": {},
   "source": [
    "## Q7."
   ]
  },
  {
   "cell_type": "code",
   "execution_count": 17,
   "id": "372f734e-b4a0-4ca3-bd27-beb38ff30cea",
   "metadata": {},
   "outputs": [],
   "source": [
    "import numpy as np \n",
    "import pandas as pd\n",
    "from sklearn.preprocessing import MinMaxScaler\n",
    "\n",
    "array = np.array([1, 5, 10, 15, 20])\n",
    "\n",
    "df = pd.DataFrame({'f1':array})\n",
    "min_max=MinMaxScaler()\n",
    "\n",
    "scaled_array = min_max.fit_transform(df[['f1']])\n",
    "\n",
    "from sklearn.preprocessing import normalize\n",
    "\n",
    "df2 = pd.DataFrame(scaled_array,columns=['f1_std'])"
   ]
  },
  {
   "cell_type": "code",
   "execution_count": 20,
   "id": "35a536ab-7faa-453b-bd22-41ee2d95a948",
   "metadata": {},
   "outputs": [
    {
     "data": {
      "text/html": [
       "<div>\n",
       "<style scoped>\n",
       "    .dataframe tbody tr th:only-of-type {\n",
       "        vertical-align: middle;\n",
       "    }\n",
       "\n",
       "    .dataframe tbody tr th {\n",
       "        vertical-align: top;\n",
       "    }\n",
       "\n",
       "    .dataframe thead th {\n",
       "        text-align: right;\n",
       "    }\n",
       "</style>\n",
       "<table border=\"1\" class=\"dataframe\">\n",
       "  <thead>\n",
       "    <tr style=\"text-align: right;\">\n",
       "      <th></th>\n",
       "      <th>f1</th>\n",
       "      <th>f1_std</th>\n",
       "    </tr>\n",
       "  </thead>\n",
       "  <tbody>\n",
       "    <tr>\n",
       "      <th>0</th>\n",
       "      <td>1</td>\n",
       "      <td>0.000000</td>\n",
       "    </tr>\n",
       "    <tr>\n",
       "      <th>1</th>\n",
       "      <td>5</td>\n",
       "      <td>0.210526</td>\n",
       "    </tr>\n",
       "    <tr>\n",
       "      <th>2</th>\n",
       "      <td>10</td>\n",
       "      <td>0.473684</td>\n",
       "    </tr>\n",
       "    <tr>\n",
       "      <th>3</th>\n",
       "      <td>15</td>\n",
       "      <td>0.736842</td>\n",
       "    </tr>\n",
       "    <tr>\n",
       "      <th>4</th>\n",
       "      <td>20</td>\n",
       "      <td>1.000000</td>\n",
       "    </tr>\n",
       "  </tbody>\n",
       "</table>\n",
       "</div>"
      ],
      "text/plain": [
       "   f1    f1_std\n",
       "0   1  0.000000\n",
       "1   5  0.210526\n",
       "2  10  0.473684\n",
       "3  15  0.736842\n",
       "4  20  1.000000"
      ]
     },
     "execution_count": 20,
     "metadata": {},
     "output_type": "execute_result"
    }
   ],
   "source": [
    "pd.concat([df,df2],axis=1)"
   ]
  },
  {
   "cell_type": "markdown",
   "id": "3faa3abe-08f2-47ad-8d48-9bd13ef21ea2",
   "metadata": {},
   "source": [
    "## Q8."
   ]
  },
  {
   "cell_type": "markdown",
   "id": "478e9698-d638-4a8c-8efd-ae492f31a71f",
   "metadata": {},
   "source": [
    "PCA is an important method for feature extraction and image representation. In PCA, matrix transformation of the image takes place into high dimension vectors and its covariance matrix is obtained consuming high-dimension vector space."
   ]
  },
  {
   "cell_type": "code",
   "execution_count": null,
   "id": "329deb0d-7a86-4549-bc82-6d90f2d030b9",
   "metadata": {},
   "outputs": [],
   "source": []
  }
 ],
 "metadata": {
  "kernelspec": {
   "display_name": "Python 3 (ipykernel)",
   "language": "python",
   "name": "python3"
  },
  "language_info": {
   "codemirror_mode": {
    "name": "ipython",
    "version": 3
   },
   "file_extension": ".py",
   "mimetype": "text/x-python",
   "name": "python",
   "nbconvert_exporter": "python",
   "pygments_lexer": "ipython3",
   "version": "3.10.8"
  }
 },
 "nbformat": 4,
 "nbformat_minor": 5
}
