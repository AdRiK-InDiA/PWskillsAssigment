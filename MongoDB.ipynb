{
 "cells": [
  {
   "cell_type": "markdown",
   "id": "2430947e-cacd-4eb2-a205-3d3b787aa1dc",
   "metadata": {},
   "source": [
    "## Q1. What is MongoDB? Explain non-relational databases in short. In which scenarios it is preferred to use MongoDB over SQL databases?"
   ]
  },
  {
   "cell_type": "markdown",
   "id": "720ab1bb-767c-4e03-97f1-63fdfc7642d7",
   "metadata": {},
   "source": [
    "MongoDB is a source-available cross-platform document-oriented database program. Classified as a NoSQL database program, MongoDB uses JSON-like documents with optional schemas. MongoDB is developed by MongoDB Inc. and licensed under the Server Side Public License which is deemed non-free by several distributions.\n",
    "\n",
    "Organizations of all sizes are adopting MongoDB, especially as a cloud database, because it enables them to build applications faster, handle highly diverse data types, and manage applications more efficiently at scale."
   ]
  },
  {
   "cell_type": "markdown",
   "id": "2c744f00-9dc8-491a-a1b4-ae1d0de7c00f",
   "metadata": {},
   "source": [
    "## Q2. State and Explain the features of MongoDB.\n"
   ]
  },
  {
   "cell_type": "markdown",
   "id": "cc558061-d7b4-42de-8e2b-e38e3a79ae12",
   "metadata": {},
   "source": [
    "MongoDB is a scalable, flexible NoSQL document database platform designed to overcome the relational databases approach and the limitations of other NoSQL solutions. MongoDB is well known for its horizontal scaling and load balancing capabilities, which has given application developers an unprecedented level of flexibility and scalability.\n",
    "\n",
    "MongoDB Atlas is the leading global cloud database service for modern applications. Using Atlas, developers can deploy fully managed cloud databases across AWS, Azure, or Google Cloud. Best-in-class data security and privacy standards practices means that developers can rest easy knowing that they have instant access to the availability, scalability, and compliance they require for enterprise-level application development.\n",
    "\n",
    "As of 2020, MongoDB has been downloaded over 30 million times with over 730,000 MongoDB University registrations. There are drivers for 10+ languages, with dozens more added by the community. Best of all, MongoDB is completely free to use.\n",
    "\n",
    "MongoDB provides developers with a number of useful out-of-the-box capabilities, whether you need to run privately on site or in the public cloud.\n",
    "\n",
    "Let’s take a look at MongoDB’s top five technical features:\n",
    "\n",
    "\n",
    "\n",
    "1. Ad-hoc queries for optimized, real-time analytics\n",
    "When designing the schema of a database, it is impossible to know in advance all the queries that will be performed by end users. An ad hoc query is a short-lived command whose value depends on a variable. Each time an ad hoc query is executed, the result may be different, depending on the variables in question.\n",
    "\n",
    "Optimizing the way in which ad-hoc queries are handled can make a significant difference at scale, when thousands to millions of variables may need to be considered. This is why MongoDB, a document-oriented, flexible schema database, stands apart as the cloud database platform of choice for enterprise applications that require real-time analytics. With ad-hoc query support that allows developers to update ad-hoc queries in real time, the improvement in performance can be game-changing.\n",
    "\n",
    "MongoDB supports field queries, range queries, and regular expression searches. Queries can return specific fields and also account for user-defined functions. This is made possible because MongoDB indexes BSON documents and uses the MongoDB Query Language (MQL).\n",
    "\n",
    "\n",
    "\n",
    "2. Indexing appropriately for better query executions\n",
    "In our experience, the number one issue that many technical support teams fail to address with their users is indexing. Done right, indexes are intended to improve search speed and performance. A failure to properly define appropriate indices can and usually will lead to a myriad of accessibility issues, such as problems with query execution and load balancing.\n",
    "\n",
    "Without the right indices, a database is forced to scan documents one by one to identify the ones that match the query statement. But if an appropriate index exists for each query, user requests can be optimally executed by the server. MongoDB offers a broad range of indices and features with language-specific sort orders that support complex access patterns to datasets.\n",
    "\n",
    "Notably, MongoDB indices can be created on demand to accommodate real-time, ever-changing query patterns and application requirements. They can also be declared on any field within any of your documents, including those nested within arrays.\n",
    "\n",
    "Learn more about MongoDB indexing\n",
    "\n",
    "Best Practices for MongoDB Indexing\n",
    "\n",
    "\n",
    "\n",
    "3. Replication for better data availability and stability\n",
    "When your data only resides in a single database, it is exposed to multiple potential points of failure, such as a server crash, service interruptions, or even good old hardware failure. Any of these events would make accessing your data nearly impossible.\n",
    "\n",
    "Replication allows you to sidestep these vulnerabilities by deploying multiple servers for disaster recovery and backup. Horizontal scaling across multiple servers that house the same data (or shards of that same data) means greatly increased data availability and stability. Naturally, replication also helps with load balancing. When multiple users access the same data, the load can be distributed evenly across servers.\n",
    "\n",
    "In MongoDB, replica sets are employed for this purpose. A primary server or node accepts all write operations and applies those same operations across secondary servers, replicating the data. If the primary server should ever experience a critical failure, any one of the secondary servers can be elected to become the new primary node. And if the former primary node comes back online, it does so as a secondary server for the new primary node.\n",
    "\n",
    "Learn more about MongoDB replication\n",
    "\n",
    "\n",
    "\n",
    "4. Sharding\n",
    "When dealing with particularly large datasets, sharding—the process of splitting larger datasets across multiple distributed collections, or “shards”—helps the database distribute and better execute what might otherwise be problematic and cumbersome queries. Without sharding, scaling a growing web application with millions of daily users is nearly impossible.\n",
    "\n",
    "Like replication via replication sets, sharding in MongoDB allows for much greater horizontal scalability. Horizontal scaling means that each shard in every cluster houses a portion of the dataset in question, essentially functioning as a separate database. The collection of distributed server shards forms a single, comprehensive database much better suited to handling the needs of a popular, growing application with zero downtime.\n",
    "\n",
    "All operations in a sharding environment are handled through a lightweight process called mongos. Mongos can direct queries to the correct shard based on the shard key. Naturally, proper sharding also contributes significantly to better load balancing.\n",
    "\n",
    "Learn more about MongoDB sharding\n",
    "\n",
    "Best Practices for MongoDB Sharding\n",
    "\n",
    "\n",
    "\n",
    "5. Load balancing\n",
    "At the end of the day, optimal load balancing remains one of the holy grails of large-scale database management for growing enterprise applications. Properly distributing millions of client requests to hundreds or thousands of servers can lead to a noticeable (and much appreciated) difference in performance.\n",
    "\n",
    "Fortunately, via horizontal scaling features like replication and sharding, MongoDB supports large-scale load balancing. The platform can handle multiple concurrent read and write requests for the same data with best-in-class concurrency control and locking protocols that ensure data consistency. There’s no need to add an external load balancer—MongoDB ensures that each and every user has a consistent view and quality experience with the data they need to access"
   ]
  },
  {
   "cell_type": "markdown",
   "id": "0e2f5d1c-0173-4937-8d2e-6e03c67f04a3",
   "metadata": {},
   "source": [
    "## Q3. Write a code to connect MongoDB to Python. Also, create a database and a collection in MongoDB.\n"
   ]
  },
  {
   "cell_type": "code",
   "execution_count": null,
   "id": "af2bd07a-4449-48f5-965b-5144f5752c09",
   "metadata": {},
   "outputs": [],
   "source": [
    "import pymongo\n",
    "\n",
    "client = pymongo.MongoClient(\"mongodb+srv://<name>:<password>@mongopwskills.xtszi1l.mongodb.net/?retryWrites=true&w=majority\")\n",
    "db = client.test\n",
    "\n",
    "db = client['pwskills']\n",
    "\n",
    "coll_create = db['Collections']"
   ]
  },
  {
   "cell_type": "markdown",
   "id": "63aa2bc0-4a2c-47ba-b43d-7d35e19fd967",
   "metadata": {},
   "source": [
    "## Q4. Using the database and the collection created in question number 3, write a code to insert one record, and insert many records. Use the find() and find_one() methods to print the inserted record."
   ]
  },
  {
   "cell_type": "code",
   "execution_count": null,
   "id": "e67088cb-61bf-4c3a-9c93-f472e86d5ebe",
   "metadata": {},
   "outputs": [],
   "source": [
    "import pymongo\n",
    "\n",
    "client = pymongo.MongoClient(\"mongodb+srv://<name>:<password>@mongopwskills.xtszi1l.mongodb.net/?retryWrites=true&w=majority\")\n",
    "db = client.test\n",
    "\n",
    "db = client['pwskills']\n",
    "\n",
    "coll_create = db['Students']\n",
    "\n",
    "data = {\n",
    "    'name':'adrik giri',\n",
    "    'class':9,\n",
    "    'section': 'M',\n",
    "    'age':14\n",
    "}\n",
    "\n",
    "coll_create.insert_one(data)\n",
    "\n",
    "data_many = [\n",
    "    {\n",
    "    '_id':'1',\n",
    "    'name':'adrik giri',\n",
    "    'class':9,\n",
    "    'section': 'M',\n",
    "    'age':14\n",
    "},\n",
    "{\n",
    "    '_id':'2',\n",
    "    'name':'Souradeep Das',\n",
    "    'class':8,\n",
    "    'section': 'B',\n",
    "    'age':13\n",
    "},\n",
    "{\n",
    "    '_id':'3',\n",
    "    'name':'abhinav maity',\n",
    "    'class':12,\n",
    "    'section': 'M',\n",
    "    'age':18\n",
    "},\n",
    "{\n",
    "    '_id':'4','name':'soham dey',\n",
    "    'class':10,\n",
    "    'section': 'C',\n",
    "    'age':16\n",
    "    }\n",
    "]\n",
    "\n",
    "coll_create.insert_many(data_many)\n"
   ]
  },
  {
   "cell_type": "markdown",
   "id": "0b957bfe-a10c-475d-ad0a-6b5649610e7b",
   "metadata": {},
   "source": [
    "## Q5. Explain how you can use the find() method to query the MongoDB database. Write a simple code to demonstrate this."
   ]
  },
  {
   "cell_type": "code",
   "execution_count": null,
   "id": "c3e1fe4f-2f28-4dcc-8ccb-a36448e7771d",
   "metadata": {},
   "outputs": [],
   "source": [
    "import pymongo\n",
    "\n",
    "client = pymongo.MongoClient(\"mongodb+srv://<name>:<password>@mongopwskills.xtszi1l.mongodb.net/?retryWrites=true&w=majority\")\n",
    "\n",
    "db = client.test\n",
    "\n",
    "db = client['pwskills']\n",
    "\n",
    "coll_create = db['Students']\n",
    "\n",
    "for i in coll_create.find():\n",
    "    print(i)"
   ]
  },
  {
   "cell_type": "markdown",
   "id": "9bf32697-2f28-4581-9f3f-314e0306c8c2",
   "metadata": {},
   "source": [
    "## Q6. Explain the sort() method. Give an example to demonstrate sorting in MongoDB.\n"
   ]
  },
  {
   "cell_type": "code",
   "execution_count": 4,
   "id": "9f2b164c-7ba9-443c-9247-af80710b5b86",
   "metadata": {},
   "outputs": [
    {
     "name": "stdout",
     "output_type": "stream",
     "text": [
      "{'_id': '2', 'name': 'Aryan Das', 'class': 8, 'section': 'B', 'age': 13}\n",
      "{'_id': '1', 'name': 'adrik giri', 'class': 9, 'section': 'M', 'age': 14}\n",
      "{'_id': 4, 'name': 'soham dey', 'class': 11, 'age': 16}\n",
      "{'_id': '3', 'name': 'abhinav maity', 'class': 12, 'section': 'M', 'age': 18}\n"
     ]
    }
   ],
   "source": [
    "import pymongo\n",
    "\n",
    "client = pymongo.MongoClient(\"mongodb+srv://<name>:<password>@mongopwskills.xtszi1l.mongodb.net/?retryWrites=true&w=majority\")\n",
    "\n",
    "db = client.test\n",
    "\n",
    "db = client['pwskills']\n",
    "\n",
    "coll_create = db['Students']\n",
    "\n",
    "\n",
    "for i in coll_create.find().sort('age'):\n",
    "    print(i)\n",
    "## sorted by age "
   ]
  },
  {
   "cell_type": "markdown",
   "id": "b2e0e8e3-46bd-4457-ab8a-6ee68ea9e067",
   "metadata": {},
   "source": [
    "## Q7. Explain why delete_one(), delete_many(), and drop() is used."
   ]
  },
  {
   "cell_type": "markdown",
   "id": "47cf914b-dd50-4230-be1d-537d2ac031f9",
   "metadata": {},
   "source": [
    "1. Delete_many()\n",
    "\n",
    "Delete_many() is used when one needs to delete more than one document. A query object containing which document to be deleted is created and is passed as the first parameter to the delete_many().\n",
    "\n",
    "2. Delte_one()\n",
    "\n",
    "To delete one document, we use the delete_one() method. The first parameter of the delete_one() method is a query object defining which document to delete. Note: If the query finds more than one document\n",
    "\n",
    "3. drop()\n",
    "\n",
    "In MongoDB, db. collection. drop() method is used to drop a collection from a database. It completely removes a collection from the database and does not leave any indexes associated with the dropped collections."
   ]
  }
 ],
 "metadata": {
  "kernelspec": {
   "display_name": "Python 3 (ipykernel)",
   "language": "python",
   "name": "python3"
  },
  "language_info": {
   "codemirror_mode": {
    "name": "ipython",
    "version": 3
   },
   "file_extension": ".py",
   "mimetype": "text/x-python",
   "name": "python",
   "nbconvert_exporter": "python",
   "pygments_lexer": "ipython3",
   "version": "3.9.13"
  }
 },
 "nbformat": 4,
 "nbformat_minor": 5
}
