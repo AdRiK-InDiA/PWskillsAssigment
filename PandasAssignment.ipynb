{
 "cells": [
  {
   "cell_type": "markdown",
   "id": "8c224d44-70bb-4984-8399-63de33867394",
   "metadata": {},
   "source": [
    "## Q1. Create a Pandas Series that contains the following data: 4, 8, 15, 16, 23, and 42. Then, print the series.\n"
   ]
  },
  {
   "cell_type": "code",
   "execution_count": 3,
   "id": "0d204be4-d0a6-4484-83dc-d47b691ab8ab",
   "metadata": {},
   "outputs": [],
   "source": [
    "import pandas as pd"
   ]
  },
  {
   "cell_type": "code",
   "execution_count": 6,
   "id": "b06d1977-7542-4259-a293-8e29305b227b",
   "metadata": {},
   "outputs": [
    {
     "data": {
      "text/plain": [
       "0     4\n",
       "1     8\n",
       "2    15\n",
       "3    16\n",
       "4    23\n",
       "5    42\n",
       "dtype: int64"
      ]
     },
     "execution_count": 6,
     "metadata": {},
     "output_type": "execute_result"
    }
   ],
   "source": [
    "my_list = [4, 8, 15, 16, 23,42]\n",
    "\n",
    "pd_series = pd.Series(my_list)\n",
    "\n",
    "pd_series"
   ]
  },
  {
   "cell_type": "markdown",
   "id": "4ec715fa-6511-49fe-8015-b951eca0662b",
   "metadata": {},
   "source": [
    "## Q2. Create a variable of list type containing 10 elements in it, and apply pandas.Series function on the variable print it."
   ]
  },
  {
   "cell_type": "code",
   "execution_count": 7,
   "id": "fc0a3702-ba07-44c1-bdd9-adc4df8857d8",
   "metadata": {},
   "outputs": [
    {
     "name": "stdout",
     "output_type": "stream",
     "text": [
      "0     a\n",
      "1     b\n",
      "2     c\n",
      "3     d\n",
      "4     e\n",
      "5     f\n",
      "6     g\n",
      "7     h\n",
      "8     i\n",
      "9     j\n",
      "10    k\n",
      "dtype: object\n"
     ]
    }
   ],
   "source": [
    "my_list2 = ['a','b','c','d','e','f','g','h','i','j','k']\n",
    "\n",
    "pd_series = pd.Series(my_list2)\n",
    "\n",
    "print(pd_series)"
   ]
  },
  {
   "cell_type": "markdown",
   "id": "c54f4a4d-c71c-4934-aaeb-12113fcb3dbe",
   "metadata": {},
   "source": [
    "## Q3. Create a Pandas DataFrame that contains the following data: Then, print the DataFrame."
   ]
  },
  {
   "cell_type": "code",
   "execution_count": 9,
   "id": "1275d438-7c1b-4e9d-9a7d-09b9868ed3af",
   "metadata": {},
   "outputs": [
    {
     "name": "stdout",
     "output_type": "stream",
     "text": [
      "     Name  Age  Gender\n",
      "0   Alice   25  Female\n",
      "1     Bob   30    Male\n",
      "2  Claire   27  Female\n"
     ]
    }
   ],
   "source": [
    "dict_table = {'Name':['Alice','Bob','Claire'],\n",
    "              'Age':[25,30,27],\n",
    "              'Gender':['Female','Male','Female']}\n",
    "\n",
    "pd_frame = pd.DataFrame(dict_table)\n",
    "\n",
    "print(pd_frame)"
   ]
  },
  {
   "cell_type": "markdown",
   "id": "70c8870f-a630-4631-99f0-8b5daf3d5cce",
   "metadata": {},
   "source": [
    "## Q4. What is ‘DataFrame’ in pandas and how is it different from pandas.series? Explain with an example."
   ]
  },
  {
   "cell_type": "markdown",
   "id": "91d0a386-582e-470a-af46-235a58b9418d",
   "metadata": {},
   "source": [
    "DataFrame is a class whose object show a table with organised data.\n",
    "DataFrame Shows data in Tabular format where Series show data in a non tabluar format .\n"
   ]
  },
  {
   "cell_type": "markdown",
   "id": "2fbcd7df-709c-44ec-8a32-c80f5c98b148",
   "metadata": {},
   "source": [
    "## Q5. What are some common functions you can use to manipulate data in a Pandas DataFrame? \n"
   ]
  },
  {
   "cell_type": "markdown",
   "id": "d10df85e-6d11-4aa7-be52-bd6274ce9ff4",
   "metadata": {},
   "source": [
    "1. dtypes()\n",
    "2. head()\n",
    "3. tail()\n",
    "4. read_csv()\n",
    "5. to_csv()"
   ]
  },
  {
   "cell_type": "markdown",
   "id": "9bb022d0-4daa-448c-bffb-1c250e39adb6",
   "metadata": {},
   "source": [
    "## Can  you give an example of when you might use one of these functions?\n"
   ]
  },
  {
   "cell_type": "markdown",
   "id": "396dd58e-1095-4e39-85a2-08e5e7770a88",
   "metadata": {},
   "source": [
    "1. dtypes() -> check data type of data in each column\n",
    "2. head() -> return data from start\n",
    "3. tail() -> return data from back\n",
    "4. read_csv() -> reads csv file\n",
    "5. to_csv() -> writes csv file"
   ]
  },
  {
   "cell_type": "markdown",
   "id": "942299cd-9684-4b75-877f-60b6df2894dd",
   "metadata": {},
   "source": [
    "## Q6. Which of the following is mutable in nature Series, DataFrame, Panel?\n"
   ]
  },
  {
   "cell_type": "markdown",
   "id": "4f5cfe21-0b52-487e-9d91-2ab5c3b15f5f",
   "metadata": {},
   "source": [
    "All pandas data structures are value-mutable (the values they contain can be altered) but not always size-mutable. The length of a Series cannot be changed, but, for example, columns can be inserted into a DataFrame."
   ]
  },
  {
   "cell_type": "markdown",
   "id": "e370e802-3f5a-444f-ae31-db2d8f0d83af",
   "metadata": {},
   "source": [
    "## Q7. Create a DataFrame using multiple Series. Explain with an example."
   ]
  },
  {
   "cell_type": "code",
   "execution_count": 10,
   "id": "27a735ab-84fb-4387-aa60-8c767ca16903",
   "metadata": {},
   "outputs": [
    {
     "data": {
      "text/html": [
       "<div>\n",
       "<style scoped>\n",
       "    .dataframe tbody tr th:only-of-type {\n",
       "        vertical-align: middle;\n",
       "    }\n",
       "\n",
       "    .dataframe tbody tr th {\n",
       "        vertical-align: top;\n",
       "    }\n",
       "\n",
       "    .dataframe thead th {\n",
       "        text-align: right;\n",
       "    }\n",
       "</style>\n",
       "<table border=\"1\" class=\"dataframe\">\n",
       "  <thead>\n",
       "    <tr style=\"text-align: right;\">\n",
       "      <th></th>\n",
       "      <th>0</th>\n",
       "      <th>1</th>\n",
       "      <th>2</th>\n",
       "    </tr>\n",
       "  </thead>\n",
       "  <tbody>\n",
       "    <tr>\n",
       "      <th>0</th>\n",
       "      <td>Spark</td>\n",
       "      <td>22000</td>\n",
       "      <td>1000</td>\n",
       "    </tr>\n",
       "    <tr>\n",
       "      <th>1</th>\n",
       "      <td>PySpark</td>\n",
       "      <td>25000</td>\n",
       "      <td>2300</td>\n",
       "    </tr>\n",
       "    <tr>\n",
       "      <th>2</th>\n",
       "      <td>Hadoop</td>\n",
       "      <td>23000</td>\n",
       "      <td>1000</td>\n",
       "    </tr>\n",
       "  </tbody>\n",
       "</table>\n",
       "</div>"
      ],
      "text/plain": [
       "         0      1     2\n",
       "0    Spark  22000  1000\n",
       "1  PySpark  25000  2300\n",
       "2   Hadoop  23000  1000"
      ]
     },
     "execution_count": 10,
     "metadata": {},
     "output_type": "execute_result"
    }
   ],
   "source": [
    "import pandas as pd\n",
    "# Create pandas Series\n",
    "courses = pd.Series([\"Spark\",\"PySpark\",\"Hadoop\"])\n",
    "fees = pd.Series([22000,25000,23000])\n",
    "discount  = pd.Series([1000,2300,1000])\n",
    "\n",
    "# Combine two series.\n",
    "df=pd.concat([courses,fees],axis=1)\n",
    "\n",
    "# It also supports to combine multiple series.\n",
    "df=pd.concat([courses,fees,discount],axis=1)\n",
    "\n",
    "df"
   ]
  },
  {
   "cell_type": "code",
   "execution_count": null,
   "id": "4e59727a-4a85-47ec-acfa-af241bcd6ae0",
   "metadata": {},
   "outputs": [],
   "source": []
  }
 ],
 "metadata": {
  "kernelspec": {
   "display_name": "Python 3 (ipykernel)",
   "language": "python",
   "name": "python3"
  },
  "language_info": {
   "codemirror_mode": {
    "name": "ipython",
    "version": 3
   },
   "file_extension": ".py",
   "mimetype": "text/x-python",
   "name": "python",
   "nbconvert_exporter": "python",
   "pygments_lexer": "ipython3",
   "version": "3.9.13"
  }
 },
 "nbformat": 4,
 "nbformat_minor": 5
}
