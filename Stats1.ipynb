{
 "cells": [
  {
   "cell_type": "markdown",
   "id": "d6e262f0-95eb-4066-9c26-d758ff94bab5",
   "metadata": {},
   "source": [
    "## Q1. What is Statistics?"
   ]
  },
  {
   "cell_type": "markdown",
   "id": "255c37a5-b0f9-4223-8f9c-fa1801b5f6f9",
   "metadata": {},
   "source": [
    "In Mathematics, statistics concerns the collection of data, organisation, interpretation, analysis and data presentation. The main purpose of using statistics is to plan the collected data in terms of experimental designs and statistical surveys. Statistics is considered a mathematical science that works with numerical data. In short, statistics is a crucial process which helps to make the decision based on the data."
   ]
  },
  {
   "cell_type": "markdown",
   "id": "fcfd9d5f-04df-46b7-9cf0-290c4a52c71a",
   "metadata": {},
   "source": [
    "## Q2. Define the different types of statistics and give an example of when each type might be used."
   ]
  },
  {
   "cell_type": "markdown",
   "id": "28fdf55c-bd70-459e-93f6-bc2dd0dfa468",
   "metadata": {},
   "source": [
    "Statistics Example\n",
    "An example of statistical analysis is when we have to determine the number of people in a town who watch TV out of the total population in the town. The small group of people is called the sample here, which is taken from the population. \n",
    "\n",
    "Types of Statistics\n",
    "The two main branches of statistics are:\n",
    "\n",
    "Descriptive Statistics\n",
    "Inferential Statistics\n",
    "Descriptive Statistics – Through graphs or tables, or numerical calculations, descriptive statistics uses the data to provide descriptions of the population.\n",
    "\n",
    "Inferential Statistics – Based on the data sample taken from the population, inferential statistics makes the predictions and inferences.\n",
    "\n",
    "Both types of statistics are equally employed in the field of statistical analysis. Learn in detail descriptive and inferential statistics here at BYJU’S.\n",
    "\n",
    "Characteristics of Statistics\n",
    "The important characteristics of Statistics are as follows:\n",
    "\n",
    "Statistics are numerically expressed.\n",
    "It has an aggregate of facts\n",
    "Data are collected in systematic order\n",
    "It should be comparable to each other\n",
    "Data are collected for a planned purpose\n",
    "Importance of Statistics\n",
    "The important functions of statistics are:\n",
    "\n",
    "Statistics helps in gathering information about the appropriate quantitative data\n",
    "It depicts the complex data in graphical form, tabular form and in diagrammatic representation to understand it easily\n",
    "It provides the exact description and a better understanding\n",
    "It helps in designing the effective and proper planning of the statistical inquiry in any field\n",
    "It gives valid inferences with the reliability measures about the population parameters from the sample data\n",
    "It helps to understand the variability pattern through the quantitative observations"
   ]
  },
  {
   "cell_type": "markdown",
   "id": "4b772006-c2f9-4bd7-9167-2800befd9edb",
   "metadata": {},
   "source": [
    "## Q3. What are the different types of data and how do they differ from each other? Provide an example of each type of data."
   ]
  },
  {
   "cell_type": "markdown",
   "id": "d76db675-d695-464b-9bc2-e2d0dc0baabf",
   "metadata": {},
   "source": [
    "What are Types of Data in Statistics?\n",
    "The data is classified into majorly four categories:\n",
    "\n",
    "1. Nominal data\n",
    "2. Ordinal data\n",
    "3. Discrete data\n",
    "4. Continuous data\n",
    "\n",
    "Qualitative or Categorical Data\n",
    "Qualitative data, also known as the categorical data, describes the data that fits into the categories. Qualitative data are not numerical. The categorical information involves categorical variables that describe the features such as a person’s gender, home town etc. Categorical measures are defined in terms of natural language specifications, but not in terms of numbers.\n",
    "\n",
    "Sometimes categorical data can hold numerical values (quantitative value), but those values do not have a mathematical sense. Examples of the categorical data are birthdate, favourite sport, school postcode. Here, the birthdate and school postcode hold the quantitative value, but it does not give numerical meaning.\n",
    "\n",
    "Nominal Data\n",
    "Nominal data is one of the types of qualitative information which helps to label the variables without providing the numerical value. Nominal data is also called the nominal scale. It cannot be ordered and measured. But sometimes, the data can be qualitative and quantitative. Examples of nominal data are letters, symbols, words, gender etc.\n",
    "\n",
    "The nominal data are examined using the grouping method. In this method, the data are grouped into categories, and then the frequency or the percentage of the data can be calculated. These data are visually represented using the pie charts.\n",
    "\n",
    "Ordinal Data\n",
    "Ordinal data/variable is a type of data that follows a natural order. The significant feature of the nominal data is that the difference between the data values is not determined. This variable is mostly found in surveys, finance, economics, questionnaires, and so on.\n",
    "\n",
    "The ordinal data is commonly represented using a bar chart. These data are investigated and interpreted through many visualisation tools. The information may be expressed using tables in which each row in the table shows the distinct category.\n",
    "\n",
    "Quantitative or Numerical Data\n",
    "Quantitative data is also known as numerical data which represents the numerical value (i.e., how much, how often, how many). Numerical data gives information about the quantities of a specific thing. Some examples of numerical data are height, length, size, weight, and so on. The quantitative data can be classified into two different types based on the data sets. The two different classifications of numerical data are discrete data and continuous data.\n",
    "\n",
    "Discrete Data\n",
    "Discrete data can take only discrete values. Discrete information contains only a finite number of possible values. Those values cannot be subdivided meaningfully. Here, things can be counted in whole numbers.\n",
    "\n",
    "Example: Number of students in the class\n",
    "\n",
    "Continuous Data\n",
    "Continuous data is data that can be calculated. It has an infinite number of probable values that can be selected within a given specific range.\n",
    "\n",
    "Example: Temperature range"
   ]
  },
  {
   "cell_type": "markdown",
   "id": "32553c95-3ef2-468c-b3de-f202b1438624",
   "metadata": {},
   "source": [
    "## Q4. Categorise the following datasets with respect to quantitative and qualitative data types:\n",
    "1. Grading in exam: A+, A, B+, B, C+, C, D, E\n",
    "2. Colour of mangoes: yellow, green, orange, red\n",
    "3. Height data of a class: [178.9, 179, 179.5, 176, 177.2, 178.3, 175.8,...]\n",
    "5. Number of mangoes exported by a farm: [500, 600, 478, 672, ...]"
   ]
  },
  {
   "cell_type": "markdown",
   "id": "7f0b7f9a-7314-4095-8bf9-d57913cade2a",
   "metadata": {},
   "source": [
    "ans-\n",
    "1. Ordinal\n",
    "2. Nominal\n",
    "3. Continous\n",
    "4. Discrete"
   ]
  },
  {
   "cell_type": "markdown",
   "id": "fa66879d-5514-427c-af15-1ac6cba8a7a9",
   "metadata": {},
   "source": [
    "## Q5. Explain the concept of levels of measurement and give an example of a variable for each level."
   ]
  },
  {
   "cell_type": "markdown",
   "id": "6d7a9275-3701-4fc6-8e39-86d01db7ab0c",
   "metadata": {},
   "source": [
    "Levels of measurement, also called scales of measurement, tell you how precisely variables are recorded. In scientific research, a variable is anything that can take on different values across your data set (e.g., height or test scores).\n",
    "\n",
    "There are 4 levels of measurement:\n",
    "\n",
    "1. Nominal: the data can only be categorized\n",
    "2. Ordinal: the data can be categorized and ranked\n",
    "3. Interval: the data can be categorized, ranked, and evenly spaced\n",
    "4. Ratio: the data can be categorized, ranked, evenly spaced, and has a natural zero.\n",
    "5. Depending on the level of measurement of the variable, what you can do to analyze your data may be limited. There is a hierarchy in the complexity and precision of the level of measurement, from low (nominal) to high (ratio).\n",
    "\n",
    "The nominal scale simply categorizes variables according to qualitative labels (or names). These labels and groupings don’t have any order or hierarchy to them, nor do they convey any numerical value. For example, the variable “hair color” could be measured on a nominal scale according to the following categories: blonde hair, brown hair, gray hair, and so on. Learn more in this complete guide to nominal data.\n",
    "The ordinal scale also categorizes variables into labeled groups, and these categories have an order or hierarchy to them. For example, you could measure the variable “income” on an ordinal scale as follows: low income, medium income, high income. Another example could be level of education, classified as follows: high school, master’s degree, doctorate. These are still qualitative labels (as with the nominal scale), but you can see that they follow a hierarchical order. Learn more in this guide to ordinal data.\n",
    "The interval scale is a numerical scale which labels and orders variables, with a known, evenly spaced interval between each of the values. An oft-cited example of interval data is temperature in Fahrenheit, where the difference between 10 and 20 degrees Fahrenheit is exactly the same as the difference between, say, 50 and 60 degrees Fahrenheit. Learn more about interval data in this guide.\n",
    "The ratio scale is exactly the same as the interval scale, with one key difference: The ratio scale has what’s known as a “true zero.” A good example of ratio data is weight in kilograms. If something weighs zero kilograms, it truly weighs nothing—compared to temperature (interval data), where a value of zero degrees doesn’t mean there is “no temperature,” it simply means it’s extremely cold! You’ll find a full guide to ratio data here.\n"
   ]
  },
  {
   "cell_type": "markdown",
   "id": "f85c17dc-795b-431a-9bb6-fce8c38de99e",
   "metadata": {},
   "source": [
    "## Q6. Why is it important to understand the level of measurement when analyzing data? Provide a example to illustrate your answer."
   ]
  },
  {
   "cell_type": "markdown",
   "id": "0c6b864f-e457-41a4-85eb-74ef5dd44fab",
   "metadata": {},
   "source": [
    "### 1. What are levels of measurement in data and statistics?\n",
    "When gathering data, you collect different types of information, depending on what you hope to investigate or find out. For example, if you wanted to analyze the spending habits of people living in Tokyo, you might send out a survey to 500 people asking questions about their income, their exact location, their age, and how much they spend on various products and services. These are your variables: data that can be measured and recorded, and whose values will differ from one individual to the next.\n",
    "\n",
    "When we talk about levels of measurement, we’re talking about how each variable is measured, and the mathematical nature of the values assigned to each variable. This, in turn, determines what type of analysis can be carried out.\n",
    "\n",
    "Let’s imagine you want to gather data relating to people’s income. There are various levels of measurement you could use for this variable. You could ask people to provide an exact figure, or you could ask them to select their answer from a variety of ranges—for example: (a) 10-19k, (b) 20-29k, (c) 30-39k, and so on. You could ask them to simply categorize their income as “high,” “medium,” or “low.”\n",
    "\n",
    "Can you see how these levels vary in their precision? If you ask participants for an exact figure, you can calculate just how much the incomes vary across your entire dataset (for example). However, if you only have classifications of “high,” “medium,” and “low,” you can’t see exactly how much one participant earns compared to another. You also have no concept of what salary counts as “high” and what counts as “low”—these classifications have no numerical value. Thus, the latter is a less precise level of measurement.\n",
    "\n",
    "So, in a nutshell: Level of measurement refers to how precisely a variable has been measured.\n",
    "\n",
    "### 2. Why are levels of measurement important?\n",
    "Level of measurement is important as it determines the type of statistical analysis you can carry out. As a result, it affects both the nature and the depth of insights you’re able to glean from your data. Certain statistical tests can only be performed where more precise levels of measurement have been used, so it’s essential to plan in advance how you’ll gather and measure your data.\n",
    "\n",
    "### 3. What are the four levels of measurement? Nominal, ordinal, interval, and ratio scales explained\n",
    "There are four levels of measurement (or scales) to be aware of: nominal, ordinal, interval, and ratio. Each scale builds upon the last, meaning that each scale not only “ticks the same boxes” as the previous scale, but also adds another level of precision.\n",
    "\n",
    "The four levels of measurement displayed in a table: Nominal, ordinal, interval, and ratio So:\n",
    "\n",
    "The nominal scale simply categorizes variables according to qualitative labels (or names). These labels and groupings don’t have any order or hierarchy to them, nor do they convey any numerical value. For example, the variable “hair color” could be measured on a nominal scale according to the following categories: blonde hair, brown hair, gray hair, and so on. Learn more in this complete guide to nominal data.\n",
    "The ordinal scale also categorizes variables into labeled groups, and these categories have an order or hierarchy to them. For example, you could measure the variable “income” on an ordinal scale as follows: low income, medium income, high income. Another example could be level of education, classified as follows: high school, master’s degree, doctorate. These are still qualitative labels (as with the nominal scale), but you can see that they follow a hierarchical order. Learn more in this guide to ordinal data.\n",
    "The interval scale is a numerical scale which labels and orders variables, with a known, evenly spaced interval between each of the values. An oft-cited example of interval data is temperature in Fahrenheit, where the difference between 10 and 20 degrees Fahrenheit is exactly the same as the difference between, say, 50 and 60 degrees Fahrenheit. Learn more about interval data in this guide.\n",
    "The ratio scale is exactly the same as the interval scale, with one key difference: The ratio scale has what’s known as a “true zero.” A good example of ratio data is weight in kilograms. If something weighs zero kilograms, it truly weighs nothing—compared to temperature (interval data), where a value of zero degrees doesn’t mean there is “no temperature,” it simply means it’s extremely cold! You’ll find a full guide to ratio data here.\n",
    "Another way to think about levels of measurement is in terms of the relationship between the values assigned to a given variable. With the nominal scale, there is no relationship between the values; there is no relationship between the categories “blonde hair” and “black hair” when looking at hair color, for example. The ratio scale, on the other hand, is very telling about the relationship between variable values.\n",
    "\n",
    "For example, if your variable is “number of clients” (which constitutes ratio data), you know that a value of four clients is double the value of two clients. As such, you can get a much more accurate and precise understanding of the relationship between the values in mathematical terms.\n",
    "\n",
    "In that sense, there is an implied hierarchy to the four levels of measurement. Analysis of nominal and ordinal data tends to be less sensitive, while interval and ratio scales lend themselves to more complex statistical analysis. With that in mind, it’s generally preferable to work with interval and ratio data.\n",
    "\n",
    "Now we’ve introduced the four levels of measurement, let’s take a look at each level in more detail.\n",
    "\n",
    "### 4. Nominal level\n",
    "A definition of nominal data with examples and a brief summary of how it's analyzed\n",
    "What is the nominal level?\n",
    "The nominal level is the first level of measurement, and the simplest. It classifies and labels variables qualitatively. In other words, it divides them into named groups without any quantitative meaning. It’s important to note that, even where numbers are used to label different categories, these numbers don’t have any numerical value.\n",
    "\n",
    "For example: If you collected data on hair color, when entering your data into a spreadsheet, you might use the number 1 to represent blonde hair, the number 2 to represent gray hair, and so on. These numbers are just labels; they don’t convey any mathematical meaning.\n",
    "\n",
    "When using the nominal scale, bear in mind that there is no order to the groups you use to classify your variable. One category is not higher than, better than, or greater than another.\n",
    "\n",
    "Examples of nominal data\n",
    "Some examples of nominal data include:\n",
    "\n",
    "Eye color (e.g. blue, brown, green)\n",
    "Nationality (e.g. German, Cameroonian, Lebanese)\n",
    "Personality type (e.g. introvert, extrovert, ambivert)\n",
    "Employment status (e.g. unemployed, part-time, retired)\n",
    "Political party voted for in the last election (e.g. party X, party Y, party Z)\n",
    "Type of smartphone owned (e.g. iPhone, Samsung, Google Pixel)\n",
    "As you can see, nominal data describes certain attributes or characteristics.\n",
    "\n",
    "How to analyze nominal data\n",
    "### 5. Descriptive statistics for nominal data\n",
    "Descriptive statistics describe or summarize the characteristics of your dataset. Two useful descriptive statistics for nominal data are:\n",
    "\n",
    "Frequency distribution\n",
    "Mode\n",
    "A frequency distribution table (e.g. a pivot table) summarizes how many responses there were for each category—for example, how many people selected “brown hair,” how many selected “blonde,” and so on. You can also use percentages rather than count, in which case your table will show you what percentage of the overall sample has what color hair."
   ]
  },
  {
   "cell_type": "markdown",
   "id": "92774532-eb81-4163-beb8-d2c608657794",
   "metadata": {},
   "source": [
    "## Q7. How nominal data type is different from ordinal data type."
   ]
  },
  {
   "cell_type": "markdown",
   "id": "c45fa874-0e6f-4f6b-9034-403ffa505b6e",
   "metadata": {},
   "source": [
    "Nominal data is classified without a natural order or rank, whereas ordinal data has a predetermined or natural order. On the other hand, numerical or quantitative data will always be a number that can be measured."
   ]
  },
  {
   "cell_type": "markdown",
   "id": "dfcbb41d-bd1b-4c07-9855-c61a0e9a3829",
   "metadata": {},
   "source": [
    "## Q8. Which type of plot can be used to display data in terms of range?"
   ]
  },
  {
   "cell_type": "markdown",
   "id": "2ff22d6d-e0b5-4617-bcd7-4f506cf90913",
   "metadata": {},
   "source": [
    "People often use histograms to illustrate statistics. For example, a histogram might display how many people belong to a certain age range within a population. The height or length of each bar in the histogram shows how many people are in each category."
   ]
  },
  {
   "cell_type": "markdown",
   "id": "7c8b9531-de91-4f99-b11d-181b0e6bf5bf",
   "metadata": {},
   "source": [
    "## Q9. Describe the difference between descriptive and inferential statistics. Give an example of each type of statistics and explain how they are used."
   ]
  },
  {
   "cell_type": "markdown",
   "id": "0c250bfc-bf3c-4a01-8c38-f115bcdd6115",
   "metadata": {},
   "source": [
    "What is the difference between descriptive and inferential statistics with examples?\n",
    "Inferential statistics helps to compare data, make hypotheses and predictions. Descriptive statistics explains already known data related to a particular sample or population of a small size. Inferential statistics, however, aims to draw inferences or conclusions about a whole population"
   ]
  },
  {
   "cell_type": "markdown",
   "id": "1e7d19fb-0b7f-4692-b3be-266896180c73",
   "metadata": {},
   "source": [
    "## Q10. What are some common measures of central tendency and variability used in statistics? Explain how each measure can be used to describe a dataset."
   ]
  },
  {
   "cell_type": "markdown",
   "id": "894aeee6-40bd-4148-9d13-719bc156fcef",
   "metadata": {},
   "source": [
    "The central tendency measure is defined as the number used to represent the center or middle of a set of data values. The three commonly used measures of central tendency are the mean, median, and mode. A statistic that tells us how the data values are dispersed or spread out is called the measure of dispersion."
   ]
  },
  {
   "cell_type": "code",
   "execution_count": null,
   "id": "8ace13b8-7fea-46c4-abd1-6b50ae3280c4",
   "metadata": {},
   "outputs": [],
   "source": []
  }
 ],
 "metadata": {
  "kernelspec": {
   "display_name": "Python 3 (ipykernel)",
   "language": "python",
   "name": "python3"
  },
  "language_info": {
   "codemirror_mode": {
    "name": "ipython",
    "version": 3
   },
   "file_extension": ".py",
   "mimetype": "text/x-python",
   "name": "python",
   "nbconvert_exporter": "python",
   "pygments_lexer": "ipython3",
   "version": "3.10.8"
  }
 },
 "nbformat": 4,
 "nbformat_minor": 5
}
