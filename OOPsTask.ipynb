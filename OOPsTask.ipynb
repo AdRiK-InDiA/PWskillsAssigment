{
 "cells": [
  {
   "cell_type": "markdown",
   "id": "05fc7133-0b4d-48ee-a84f-8f184ae6b19d",
   "metadata": {},
   "source": [
    "### Q1, Create a vehicle class with an init method having instance variables as name_of_vehicle, max_speed and average_of_vehicle."
   ]
  },
  {
   "cell_type": "code",
   "execution_count": 1,
   "id": "c8331c0b-2335-4e34-b0ed-b9713806b51f",
   "metadata": {},
   "outputs": [],
   "source": [
    "class vehicle :\n",
    "    \n",
    "    def __init__(self,name_of_vehicle,max_speed,average_of_vehicle):\n",
    "        \n",
    "        self.name_of_vehicle = name_of_vehicle\n",
    "        self.max_speed = max_speed\n",
    "        self.average_of_vehicle = average_of_vehicle\n",
    "        "
   ]
  },
  {
   "cell_type": "markdown",
   "id": "0da61e21-1364-4681-bd54-3ba7fe5abd4c",
   "metadata": {},
   "source": [
    "### Q2. Create a child class car from the vehicle class created in Que 1, which will inherit the vehicle class. Create a method named seating_capacity which takes capacity as an argument and returns the name of the vehicle and its seating capacity."
   ]
  },
  {
   "cell_type": "code",
   "execution_count": 2,
   "id": "466b125e-05e5-4413-8d5d-246119757f98",
   "metadata": {},
   "outputs": [],
   "source": [
    "class car(vehicle):\n",
    "    \n",
    "    def seating_capacity(self,seat):\n",
    "        return self.name_of_vehicle,seat"
   ]
  },
  {
   "cell_type": "code",
   "execution_count": 8,
   "id": "9067fea1-d06f-4e3b-91ca-18a7f9c5759c",
   "metadata": {},
   "outputs": [],
   "source": [
    "mycar = car('Maruti',200,100)"
   ]
  },
  {
   "cell_type": "code",
   "execution_count": 10,
   "id": "84448295-58ea-4146-a056-48b8a00c75c4",
   "metadata": {},
   "outputs": [
    {
     "data": {
      "text/plain": [
       "('Maruti', 40)"
      ]
     },
     "execution_count": 10,
     "metadata": {},
     "output_type": "execute_result"
    }
   ],
   "source": [
    "mycar.seating_capacity(40)"
   ]
  },
  {
   "cell_type": "markdown",
   "id": "cca9ba43-38a1-481a-8c51-3dd70f625188",
   "metadata": {},
   "source": [
    "### Q3. What is multiple inheritance? Write a python code to demonstrate multiple inheritance.\n",
    "\n",
    "When one class inherits multiple classes at the same time , it is known as multiple inheritance ."
   ]
  },
  {
   "cell_type": "code",
   "execution_count": 11,
   "id": "ce83ce25-ccc5-4c12-af64-76313481e26d",
   "metadata": {},
   "outputs": [],
   "source": [
    "class p1:\n",
    "    def hello(self):\n",
    "        print('Hello')\n",
    "class p2:\n",
    "    def world(self):\n",
    "        print('hello')\n",
    "\n",
    "class child(p1,p2):\n",
    "    pass\n"
   ]
  },
  {
   "cell_type": "code",
   "execution_count": 12,
   "id": "2b79299d-4670-48da-9060-93391d248559",
   "metadata": {},
   "outputs": [],
   "source": [
    "me  = child()"
   ]
  },
  {
   "cell_type": "code",
   "execution_count": 13,
   "id": "1421a67c-1c5c-4b88-83e0-fa149d5f1cda",
   "metadata": {},
   "outputs": [
    {
     "name": "stdout",
     "output_type": "stream",
     "text": [
      "Hello\n"
     ]
    }
   ],
   "source": [
    "me.hello()"
   ]
  },
  {
   "cell_type": "code",
   "execution_count": 14,
   "id": "77c92c42-6a0d-4ae0-b07c-8813031298e6",
   "metadata": {},
   "outputs": [
    {
     "name": "stdout",
     "output_type": "stream",
     "text": [
      "hello\n"
     ]
    }
   ],
   "source": [
    "me.world()"
   ]
  },
  {
   "cell_type": "markdown",
   "id": "d65b60a9-4174-4fd1-957d-da91c5b3486a",
   "metadata": {},
   "source": [
    "### Q4. What are getter and setter in python? Create a class and create a getter and a setter method in this class."
   ]
  },
  {
   "cell_type": "markdown",
   "id": "d65f1f5a-43b4-4588-abcb-48805b3eeeeb",
   "metadata": {},
   "source": [
    "In Python, getters and setters are not the same as those in other object-oriented programming languages. Basically, the main purpose of using getters and setters in object-oriented programs is to ensure data encapsulation. Private variables in python are not actually hidden fields like in other object oriented languages. Getters and Setters in python are often used when:\n",
    "\n",
    "We use getters & setters to add validation logic around getting and setting a value.\n",
    "To avoid direct access of a class field i.e. private variables cannot be accessed directly or modified by external user.\n",
    "Using normal function to achieve getters and se"
   ]
  },
  {
   "cell_type": "code",
   "execution_count": 15,
   "id": "58a194b2-8d1f-4388-8844-3b9e21bbded2",
   "metadata": {},
   "outputs": [],
   "source": [
    "class student:\n",
    "    \n",
    "    def __init__(self,class_,name):\n",
    "        self.__name = name \n",
    "        self.__class_ = class_\n",
    "     \n",
    "    def setAge(self,age): # sets the value . so its a setter \n",
    "        self.__age = age \n",
    "    \n",
    "    def getAge(self): # reutrns a vlaue so its a getter \n",
    "        return self.__age"
   ]
  },
  {
   "cell_type": "code",
   "execution_count": 16,
   "id": "c0f6fb56-b838-4e7c-81f4-3db839eca50f",
   "metadata": {},
   "outputs": [],
   "source": [
    "me = student(10,'adrik')"
   ]
  },
  {
   "cell_type": "code",
   "execution_count": 17,
   "id": "5d04f223-a1d2-4091-ac75-cf75a3fa8bcb",
   "metadata": {},
   "outputs": [],
   "source": [
    "me.setAge(14) # setting age "
   ]
  },
  {
   "cell_type": "code",
   "execution_count": 18,
   "id": "ccce7a25-6bf9-41bd-9b00-83b598065e88",
   "metadata": {},
   "outputs": [
    {
     "data": {
      "text/plain": [
       "14"
      ]
     },
     "execution_count": 18,
     "metadata": {},
     "output_type": "execute_result"
    }
   ],
   "source": [
    "me.getAge() # getting age "
   ]
  },
  {
   "cell_type": "markdown",
   "id": "21e643e0-9953-4403-a505-466b8f4b2139",
   "metadata": {},
   "source": [
    "### Q5.What is method overriding in python? Write a python code to demonstrate method overriding."
   ]
  },
  {
   "cell_type": "markdown",
   "id": "8894e68b-5328-47fc-91ba-388dda4d6e56",
   "metadata": {},
   "source": [
    "Method overriding is an ability of any object-oriented programming language that allows a subclass or child class to provide a specific implementation of a method that is already provided by one of its super-classes or parent classes. When a method in a subclass has the same name, same parameters or signature and same return type(or sub-type) as a method in its super-class, then the method in the subclass is said to override the method in the super-class."
   ]
  },
  {
   "cell_type": "code",
   "execution_count": 32,
   "id": "29df22dd-c9e8-4f17-80c9-f4a9ec3689ff",
   "metadata": {},
   "outputs": [],
   "source": [
    "class animal:\n",
    "    \n",
    "    def __init__(self,sound):\n",
    "        self.sound  = 'Moo'\n",
    "        \n",
    "    def makeSound(self):\n",
    "        return self.sound\n",
    "        "
   ]
  },
  {
   "cell_type": "code",
   "execution_count": 35,
   "id": "0bd9c760-bb26-45db-94db-b2e9748e9fea",
   "metadata": {},
   "outputs": [],
   "source": [
    "class dog(animal):\n",
    "    \n",
    "    def __init__(self,sound):\n",
    "        self.sound = sound\n",
    "        \n",
    "    def makeSound(self):\n",
    "        return self.sound"
   ]
  },
  {
   "cell_type": "code",
   "execution_count": 36,
   "id": "9adb9431-a5f3-4b5a-be98-251f49370423",
   "metadata": {},
   "outputs": [],
   "source": [
    "myDog = dog('Shhh')"
   ]
  },
  {
   "cell_type": "code",
   "execution_count": 38,
   "id": "bfadc3ef-2e71-4b06-9a93-99fc2d6bf104",
   "metadata": {},
   "outputs": [
    {
     "data": {
      "text/plain": [
       "'Shhh'"
      ]
     },
     "execution_count": 38,
     "metadata": {},
     "output_type": "execute_result"
    }
   ],
   "source": [
    "myDog.makeSound()"
   ]
  },
  {
   "cell_type": "code",
   "execution_count": null,
   "id": "bb5f436c-66f5-405a-aa68-61fcefb128f2",
   "metadata": {},
   "outputs": [],
   "source": []
  }
 ],
 "metadata": {
  "kernelspec": {
   "display_name": "Python 3 (ipykernel)",
   "language": "python",
   "name": "python3"
  },
  "language_info": {
   "codemirror_mode": {
    "name": "ipython",
    "version": 3
   },
   "file_extension": ".py",
   "mimetype": "text/x-python",
   "name": "python",
   "nbconvert_exporter": "python",
   "pygments_lexer": "ipython3",
   "version": "3.9.13"
  }
 },
 "nbformat": 4,
 "nbformat_minor": 5
}
