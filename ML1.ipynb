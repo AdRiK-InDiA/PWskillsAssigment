{
 "cells": [
  {
   "cell_type": "markdown",
   "id": "11361f5c-19ce-4895-8373-a78e6fbe4cf5",
   "metadata": {},
   "source": [
    "## Q1."
   ]
  },
  {
   "cell_type": "markdown",
   "id": "3a2beab2-d20b-4169-b83f-7ba915994c9e",
   "metadata": {},
   "source": [
    "1. AI - field which deals with the making of smart applications that can perform its own task.\n",
    "2. ML - making models which takes decisions on the basis of what was taught by test dataset.\n",
    "3. DL - mimicking the human brain."
   ]
  },
  {
   "cell_type": "markdown",
   "id": "2639eea4-2ef0-4b71-a545-866611e37649",
   "metadata": {},
   "source": [
    "## Q2"
   ]
  },
  {
   "cell_type": "markdown",
   "id": "99ff0876-3691-418c-9d59-173b8ba5c016",
   "metadata": {},
   "source": [
    "Supervised learning, also known as supervised machine learning, is a subcategory of machine learning and artificial intelligence. It is defined by its use of labeled datasets to train algorithms that to classify data or predict outcomes accurately."
   ]
  },
  {
   "cell_type": "markdown",
   "id": "93b4f3b1-989f-48f8-96bd-7cb241942849",
   "metadata": {},
   "source": [
    "## Q3. "
   ]
  },
  {
   "cell_type": "markdown",
   "id": "79be9ab2-206b-48d2-bf12-9843a666338e",
   "metadata": {},
   "source": [
    "Unsupervised learning, also known as unsupervised machine learning, uses machine learning algorithms to analyze and cluster unlabeled datasets. These algorithms discover hidden patterns or data groupings without the need for human intervention."
   ]
  },
  {
   "cell_type": "markdown",
   "id": "cbebed5b-6be3-48bb-9e65-c6be7c60faf4",
   "metadata": {},
   "source": [
    "## Q5. "
   ]
  },
  {
   "cell_type": "markdown",
   "id": "72bdf81e-df25-440c-b59d-fd66fa14528d",
   "metadata": {},
   "source": [
    "What is the difference between supervised and unsupervised learning?\n",
    "Image result for unsupervised vs supervised learning\n",
    "In supervised learning, input data is provided to the model along with the output. In unsupervised learning, only input data is provided to the model. The goal of supervised learning is to train the model so that it can predict the output when it is given new data."
   ]
  },
  {
   "cell_type": "markdown",
   "id": "7c0fa3ed-34a0-4a72-9fd5-576612e37d94",
   "metadata": {},
   "source": [
    "## Q6. "
   ]
  },
  {
   "cell_type": "markdown",
   "id": "d3b9b355-8030-4efd-a925-c33b3ba89976",
   "metadata": {},
   "source": [
    "Train-Valid-Test split is a technique to evaluate the performance of your machine learning model — classification or regression alike. You take a given dataset and divide it into three subsets. A brief description of the role of each of these datasets is below.\n",
    "\n",
    "Train Dataset\n",
    "\n",
    "Set of data used for learning (by the model), that is, to fit the parameters to the machine learning model\n",
    "Valid Dataset\n",
    "Set of data used to provide an unbiased evaluation of a model fitted on the training dataset while tuning model hyperparameters.\n",
    "Also play a role in other forms of model preparation, such as feature selection, threshold cut-off selection.\n",
    "\n",
    "Test Dataset\n",
    "\n",
    "Set of data used to provide an unbiased evaluation of a final model fitted on the training dataset.\n",
    "Read this article by Jason Brownlee if you want to know more about how experts in machine learning define train, test, and validation datasets."
   ]
  },
  {
   "cell_type": "markdown",
   "id": "4ae66dc4-929e-4703-aff6-5493e7406c59",
   "metadata": {},
   "source": [
    "## Q7."
   ]
  },
  {
   "cell_type": "code",
   "execution_count": 1,
   "id": "eca87cad-0996-4578-8745-fbdfc36a6163",
   "metadata": {},
   "outputs": [
    {
     "name": "stdout",
     "output_type": "stream",
     "text": [
      "hello\n"
     ]
    }
   ],
   "source": [
    "print('hello')"
   ]
  },
  {
   "cell_type": "markdown",
   "id": "763bce16-ee0a-401d-8031-2205c2611aa2",
   "metadata": {},
   "source": [
    "## Q8. "
   ]
  },
  {
   "cell_type": "markdown",
   "id": "609de2db-8f1b-4245-9a9e-abdfc1e0a20b",
   "metadata": {},
   "source": [
    "1. Linear regression.\n",
    "2. Logistic regression.\n",
    "3. Decision tree.\n",
    "4. SVM algorithm.\n",
    "5. Naive Bayes algorithm.\n",
    "6. KNN algorithm.\n",
    "7. K-means.\n",
    "8. Random forest algorithm."
   ]
  },
  {
   "cell_type": "code",
   "execution_count": null,
   "id": "ae8b46ec-bcb8-4c9f-824c-92b5ef5fc751",
   "metadata": {},
   "outputs": [],
   "source": []
  }
 ],
 "metadata": {
  "kernelspec": {
   "display_name": "Python 3 (ipykernel)",
   "language": "python",
   "name": "python3"
  },
  "language_info": {
   "codemirror_mode": {
    "name": "ipython",
    "version": 3
   },
   "file_extension": ".py",
   "mimetype": "text/x-python",
   "name": "python",
   "nbconvert_exporter": "python",
   "pygments_lexer": "ipython3",
   "version": "3.10.8"
  }
 },
 "nbformat": 4,
 "nbformat_minor": 5
}
