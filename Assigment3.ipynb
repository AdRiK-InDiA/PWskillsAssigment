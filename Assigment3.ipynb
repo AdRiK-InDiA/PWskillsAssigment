{
 "cells": [
  {
   "cell_type": "markdown",
   "id": "17a85edc-546e-4450-9433-27e917fe3828",
   "metadata": {},
   "source": [
    "### Q1. What are the characteristics of the tuples? Is tuple immutable?"
   ]
  },
  {
   "cell_type": "markdown",
   "id": "475ffcd9-f9e9-41fe-b945-86801b362bf4",
   "metadata": {},
   "source": [
    "#### Tuples are data structures which can act as a data collection \n",
    "#### General syntax :\n",
    "#### variable = (element1,element2...)"
   ]
  },
  {
   "cell_type": "markdown",
   "id": "5a217957-4fb4-47a4-b64c-9963e083f928",
   "metadata": {},
   "source": [
    "### Q2. What are the two tuple methods in python? Give an example of each method. Give a reason why tuples have only two in-built methods as compared to Lists."
   ]
  },
  {
   "cell_type": "markdown",
   "id": "58a20092-b4df-4ffd-a919-2b3c982a605d",
   "metadata": {},
   "source": [
    "There are only two tuple methods count() and index() that a tuple object can call.\n",
    "Tuples are immutable.\n"
   ]
  },
  {
   "cell_type": "markdown",
   "id": "17fc8a51-6bb8-4132-80d3-9eadad17bd64",
   "metadata": {},
   "source": [
    "### Q 3 .Which collection datatypes in python do not allow duplicate items? Write a code using a set to remove duplicates from the given list."
   ]
  },
  {
   "cell_type": "markdown",
   "id": "7e608e6c-39dc-47e0-a029-2f9189c718a6",
   "metadata": {},
   "source": [
    "Sets are collection datatypes in python do not allow duplicate items\n",
    "\n",
    "The code :"
   ]
  },
  {
   "cell_type": "code",
   "execution_count": 3,
   "id": "ec59d870-08c0-48c2-86ff-d37add5cea32",
   "metadata": {},
   "outputs": [
    {
     "name": "stdout",
     "output_type": "stream",
     "text": [
      "[1, 2, 3, 4]\n"
     ]
    }
   ],
   "source": [
    "list1 = List = [1, 1, 1, 2, 1, 3, 1, 4, 2, 1, 2, 2, 2, 3, 2, 4, 3, 1, 3, 2, 3, 3, 3, 4, 4, 1, 4, 2, 4, 3, 4, 4]\n",
    "\n",
    "list1 = list(set(list1)\n",
    "print(list1)"
   ]
  },
  {
   "cell_type": "markdown",
   "id": "350a97a6-75f7-4530-81da-137da66b6031",
   "metadata": {},
   "source": [
    "### Q4 . Explain the difference between the union() and update() methods for a set. Give an example of each method.\n",
    "\n",
    "update() adds all missing elements to the set on which it is called whereas set. union() creates a new set. Consequently, the return value of set."
   ]
  },
  {
   "cell_type": "code",
   "execution_count": 4,
   "id": "626a436e-90df-4dd4-9d66-837133f216ec",
   "metadata": {},
   "outputs": [
    {
     "data": {
      "text/plain": [
       "{1, 2, 3, 4, 5, 6}"
      ]
     },
     "execution_count": 4,
     "metadata": {},
     "output_type": "execute_result"
    }
   ],
   "source": [
    "set1 = {1,2,3}\n",
    "set2 = {4,5,6}\n",
    "\n",
    "set1.union(set2)"
   ]
  },
  {
   "cell_type": "code",
   "execution_count": 5,
   "id": "4716a0f9-1c6f-4838-be52-303746a60c73",
   "metadata": {},
   "outputs": [
    {
     "data": {
      "text/plain": [
       "{1, 2, 3}"
      ]
     },
     "execution_count": 5,
     "metadata": {},
     "output_type": "execute_result"
    }
   ],
   "source": [
    "set1  ## set1 remains same "
   ]
  },
  {
   "cell_type": "code",
   "execution_count": 6,
   "id": "bade72e9-3da5-48ae-a442-6a996b507222",
   "metadata": {},
   "outputs": [],
   "source": [
    "set1.update(set2)"
   ]
  },
  {
   "cell_type": "code",
   "execution_count": 7,
   "id": "4559f89c-2157-4ece-b109-301e621d5f44",
   "metadata": {},
   "outputs": [
    {
     "data": {
      "text/plain": [
       "{1, 2, 3, 4, 5, 6}"
      ]
     },
     "execution_count": 7,
     "metadata": {},
     "output_type": "execute_result"
    }
   ],
   "source": [
    "set1 ## set1 changes "
   ]
  },
  {
   "cell_type": "markdown",
   "id": "e28dc796-bdd1-4e7e-9187-45bb73704138",
   "metadata": {},
   "source": [
    "### Q5. What is a dictionary? Give an example. Also, state whether a dictionary is ordered or unordered.\n",
    "\n",
    "The dictionary is an unordered collection that contains key:value pairs separated by commas inside curly brackets. Dictionaries are optimized to retrieve values when the key is known. The following declares a dictionary object"
   ]
  },
  {
   "cell_type": "markdown",
   "id": "726d24c7-d0a4-4ec4-956b-9a7c692b6c22",
   "metadata": {},
   "source": [
    "### Q6. Can we create a nested dictionary? If so, please give an example by creating a simple one-level nested dictionary.\n",
    "\n",
    "Yes . \n",
    "\n",
    "Ex: - "
   ]
  },
  {
   "cell_type": "code",
   "execution_count": 8,
   "id": "1a9caccb-445a-422f-bd58-443d9d23e92a",
   "metadata": {},
   "outputs": [
    {
     "data": {
      "text/plain": [
       "{'k1': 'adrik', 'k2': 'giri', 'k3': {'k5': 9, 'k6': 10}}"
      ]
     },
     "execution_count": 8,
     "metadata": {},
     "output_type": "execute_result"
    }
   ],
   "source": [
    "d16 = {'k1':'adrik',\n",
    "       'k2':'giri',\n",
    "       'k3' : {'k5':9,'k6':10}}\n",
    "\n",
    "d16"
   ]
  },
  {
   "cell_type": "markdown",
   "id": "bbbef65b-69f1-40d4-9d1e-b68ebae2db92",
   "metadata": {},
   "source": [
    "### Q7. Using setdefault() method, create key named topics in the given dictionary and also add the value of the key as this list ['Python', 'Machine Learning’, 'Deep Learning']"
   ]
  },
  {
   "cell_type": "code",
   "execution_count": 16,
   "id": "6684a9aa-3978-40de-942c-eba95e1da94a",
   "metadata": {},
   "outputs": [
    {
     "data": {
      "text/plain": [
       "['Python', 'Machine Learning ', 'Deep Learning']"
      ]
     },
     "execution_count": 16,
     "metadata": {},
     "output_type": "execute_result"
    }
   ],
   "source": [
    "d = {'language' : 'Python', 'course': 'Data Science Masters'}\n",
    "d.setdefault('Topics',['Python', 'Machine Learning ', 'Deep Learning'])"
   ]
  },
  {
   "cell_type": "code",
   "execution_count": 17,
   "id": "22988c3b-63dd-4376-a75f-0c60a0d22942",
   "metadata": {},
   "outputs": [
    {
     "data": {
      "text/plain": [
       "{'language': 'Python',\n",
       " 'course': 'Data Science Masters',\n",
       " 'Topics': ['Python', 'Machine Learning ', 'Deep Learning']}"
      ]
     },
     "execution_count": 17,
     "metadata": {},
     "output_type": "execute_result"
    }
   ],
   "source": [
    "d"
   ]
  },
  {
   "cell_type": "markdown",
   "id": "ffdf6a07-2ab3-4c8e-a809-4c2e566dc790",
   "metadata": {},
   "source": [
    "### Q8. What are the three view objects in dictionaries? Use the three in-built methods in python to display these three view objects for the given dictionary.\n",
    "\n",
    "### dict1 = {'Sport': 'Cricket' , 'Teams': ['India', 'Australia', 'England', 'South\n",
    "### Africa','Sri Lanka', 'New Zealand']}"
   ]
  },
  {
   "cell_type": "markdown",
   "id": "1819b973-a3dc-4d7f-ae16-8c0ce0c012df",
   "metadata": {},
   "source": [
    "ANSWER - The main view objects of dictionary in python are keys, values and items\n",
    "\n",
    "Methods used to view keys , values and items are keys() , values() and items()"
   ]
  },
  {
   "cell_type": "code",
   "execution_count": 2,
   "id": "76cb4db5-f05d-4b00-8f5b-ef509c0ce342",
   "metadata": {},
   "outputs": [],
   "source": [
    "dict1 = {'Sport': 'Cricket' , 'Teams': ['India', 'Australia', 'England', 'South Africa','Sri Lanka', 'New Zealand']}"
   ]
  },
  {
   "cell_type": "code",
   "execution_count": 5,
   "id": "24fc8dd3-80d8-4bc2-a69e-9132b01ce54a",
   "metadata": {},
   "outputs": [
    {
     "data": {
      "text/plain": [
       "['Sport', 'Teams']"
      ]
     },
     "execution_count": 5,
     "metadata": {},
     "output_type": "execute_result"
    }
   ],
   "source": [
    "dict1.keys() ##This method gives the keys of values\n",
    "\n",
    "list(dict1.keys()) ### converted the dict_key objcet to list "
   ]
  },
  {
   "cell_type": "code",
   "execution_count": 6,
   "id": "47423f2f-8679-4be9-a8af-cb054f3448a5",
   "metadata": {},
   "outputs": [
    {
     "data": {
      "text/plain": [
       "['Cricket',\n",
       " ['India', 'Australia', 'England', 'South Africa', 'Sri Lanka', 'New Zealand']]"
      ]
     },
     "execution_count": 6,
     "metadata": {},
     "output_type": "execute_result"
    }
   ],
   "source": [
    "dict1.values() ## this method gives the values of the keys \n",
    "\n",
    "list(dict1.values()) ## converted the dict_values object to list "
   ]
  },
  {
   "cell_type": "code",
   "execution_count": 9,
   "id": "5b1a3c4b-34dc-45d1-8fa4-0e24fee77673",
   "metadata": {},
   "outputs": [
    {
     "data": {
      "text/plain": [
       "[('Sport', 'Cricket'),\n",
       " ('Teams',\n",
       "  ['India',\n",
       "   'Australia',\n",
       "   'England',\n",
       "   'South Africa',\n",
       "   'Sri Lanka',\n",
       "   'New Zealand'])]"
      ]
     },
     "execution_count": 9,
     "metadata": {},
     "output_type": "execute_result"
    }
   ],
   "source": [
    "dict1.items() ## return the key and values in a tuple inside a dict_item object .\n",
    "list(dict1.items()) ## convert the dict_item object to list . "
   ]
  }
 ],
 "metadata": {
  "kernelspec": {
   "display_name": "Python 3 (ipykernel)",
   "language": "python",
   "name": "python3"
  },
  "language_info": {
   "codemirror_mode": {
    "name": "ipython",
    "version": 3
   },
   "file_extension": ".py",
   "mimetype": "text/x-python",
   "name": "python",
   "nbconvert_exporter": "python",
   "pygments_lexer": "ipython3",
   "version": "3.9.13"
  }
 },
 "nbformat": 4,
 "nbformat_minor": 5
}
