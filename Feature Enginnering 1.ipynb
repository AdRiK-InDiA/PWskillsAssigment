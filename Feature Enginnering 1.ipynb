{
 "cells": [
  {
   "cell_type": "markdown",
   "id": "1e8fcf1c-58e5-4676-90f0-296b96b7f32f",
   "metadata": {},
   "source": [
    "## Q1."
   ]
  },
  {
   "cell_type": "code",
   "execution_count": 1,
   "id": "aee4536f-3814-4e8b-8dbf-ec14678fabcc",
   "metadata": {},
   "outputs": [
    {
     "name": "stdout",
     "output_type": "stream",
     "text": [
      "H\n"
     ]
    }
   ],
   "source": [
    "print('H')"
   ]
  },
  {
   "cell_type": "markdown",
   "id": "87414004-2208-4b9f-85eb-c8e70517d68b",
   "metadata": {},
   "source": [
    "## Q2.print('H')\n"
   ]
  },
  {
   "cell_type": "code",
   "execution_count": 2,
   "id": "24244bcb-71d7-42c5-881b-27c55cb24eee",
   "metadata": {},
   "outputs": [
    {
     "name": "stdout",
     "output_type": "stream",
     "text": [
      "H\n"
     ]
    }
   ],
   "source": [
    "print('H')"
   ]
  },
  {
   "cell_type": "markdown",
   "id": "494b0461-507f-43b2-986f-8960a5f6531b",
   "metadata": {},
   "source": [
    "## Q3."
   ]
  },
  {
   "cell_type": "code",
   "execution_count": 3,
   "id": "dbd78cbb-fbca-450e-a64f-a6fd473f9e1e",
   "metadata": {},
   "outputs": [
    {
     "name": "stdout",
     "output_type": "stream",
     "text": [
      "H\n"
     ]
    }
   ],
   "source": [
    "print('H')"
   ]
  },
  {
   "cell_type": "markdown",
   "id": "373a3c33-6f2c-446a-892b-98eeb313b747",
   "metadata": {},
   "source": [
    "## Q4."
   ]
  },
  {
   "cell_type": "code",
   "execution_count": 4,
   "id": "23eae727-39f6-48f8-9b3d-265bd0cb1203",
   "metadata": {},
   "outputs": [
    {
     "name": "stdout",
     "output_type": "stream",
     "text": [
      "H\n"
     ]
    }
   ],
   "source": [
    "print('H')"
   ]
  },
  {
   "cell_type": "markdown",
   "id": "02e8fc21-4e74-4169-8206-0a5dcaa878a0",
   "metadata": {},
   "source": [
    "## Q5."
   ]
  },
  {
   "cell_type": "code",
   "execution_count": 5,
   "id": "693472c1-feac-44a6-ae83-f37489dcae0d",
   "metadata": {},
   "outputs": [
    {
     "name": "stdout",
     "output_type": "stream",
     "text": [
      "H\n"
     ]
    }
   ],
   "source": [
    "print('H')"
   ]
  },
  {
   "cell_type": "markdown",
   "id": "453afd9e-670e-48af-b47d-085aed7a860a",
   "metadata": {},
   "source": [
    "## Q6."
   ]
  },
  {
   "cell_type": "code",
   "execution_count": 6,
   "id": "72c4d697-b3df-4008-8e0b-f9f34bd698b8",
   "metadata": {},
   "outputs": [
    {
     "name": "stdout",
     "output_type": "stream",
     "text": [
      "H\n"
     ]
    }
   ],
   "source": [
    "print('H')"
   ]
  },
  {
   "cell_type": "markdown",
   "id": "5d93e177-dd79-4970-bf75-ed23ffcfae68",
   "metadata": {},
   "source": [
    "## Q7."
   ]
  },
  {
   "cell_type": "code",
   "execution_count": 7,
   "id": "f0d5f477-3918-4195-bd03-6fd82ede2530",
   "metadata": {},
   "outputs": [
    {
     "name": "stdout",
     "output_type": "stream",
     "text": [
      "H\n"
     ]
    }
   ],
   "source": [
    "print('H')"
   ]
  },
  {
   "cell_type": "markdown",
   "id": "fcb49766-bf75-4314-9f8a-c2fb5ef9bfcf",
   "metadata": {},
   "source": [
    "## Q8."
   ]
  },
  {
   "cell_type": "code",
   "execution_count": 8,
   "id": "8d02cef9-f12d-4d86-8d96-f3b617565b7c",
   "metadata": {},
   "outputs": [
    {
     "name": "stdout",
     "output_type": "stream",
     "text": [
      "H\n"
     ]
    }
   ],
   "source": [
    "print('H')"
   ]
  },
  {
   "cell_type": "markdown",
   "id": "125a5e92-6a25-4906-9fcd-bcd3d40fd2bc",
   "metadata": {},
   "source": [
    "## Q9."
   ]
  },
  {
   "cell_type": "code",
   "execution_count": 9,
   "id": "06a8cfd8-ca15-46ea-a28d-fec46eebb786",
   "metadata": {},
   "outputs": [
    {
     "name": "stdout",
     "output_type": "stream",
     "text": [
      "H\n"
     ]
    }
   ],
   "source": [
    "print('H')"
   ]
  },
  {
   "cell_type": "markdown",
   "id": "095d930e-917b-4838-84b1-5c4b3fa66be6",
   "metadata": {},
   "source": [
    "## Q10."
   ]
  },
  {
   "cell_type": "code",
   "execution_count": 10,
   "id": "4654e8d0-b8e3-42d4-a19f-4db4ada4e343",
   "metadata": {},
   "outputs": [
    {
     "name": "stdout",
     "output_type": "stream",
     "text": [
      "H\n"
     ]
    }
   ],
   "source": [
    "print('H')"
   ]
  },
  {
   "cell_type": "markdown",
   "id": "f81fdc6d-4e7a-428a-9deb-98f51d447504",
   "metadata": {},
   "source": [
    "## Q11."
   ]
  },
  {
   "cell_type": "code",
   "execution_count": 11,
   "id": "d701959c-d467-4964-9f3e-3b696768d7d0",
   "metadata": {},
   "outputs": [
    {
     "name": "stdout",
     "output_type": "stream",
     "text": [
      "H\n"
     ]
    }
   ],
   "source": [
    "print('H')"
   ]
  },
  {
   "cell_type": "markdown",
   "id": "5121009d-72e4-40b7-8d4d-a325438f0b9e",
   "metadata": {},
   "source": []
  }
 ],
 "metadata": {
  "kernelspec": {
   "display_name": "Python 3 (ipykernel)",
   "language": "python",
   "name": "python3"
  },
  "language_info": {
   "codemirror_mode": {
    "name": "ipython",
    "version": 3
   },
   "file_extension": ".py",
   "mimetype": "text/x-python",
   "name": "python",
   "nbconvert_exporter": "python",
   "pygments_lexer": "ipython3",
   "version": "3.10.8"
  }
 },
 "nbformat": 4,
 "nbformat_minor": 5
}
