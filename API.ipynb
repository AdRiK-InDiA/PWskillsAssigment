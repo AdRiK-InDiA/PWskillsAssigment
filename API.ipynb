{
 "cells": [
  {
   "cell_type": "markdown",
   "id": "c4809a38-5487-463c-9fc3-6f55d1270a70",
   "metadata": {},
   "source": [
    "## Q1. What is an API? Give an example, where an API is used in real life.\n"
   ]
  },
  {
   "cell_type": "markdown",
   "id": "e8bdef82-2590-4b56-a47e-8534112115a2",
   "metadata": {},
   "source": [
    "What is API with real life example?\n",
    "Image result for q1. what is an api? give an example, where an api is used in real life.\n",
    "APIs are used in web applications to connect user-facing front ends with critical back-end functionality and data. APIs are used to deliver material by streaming services such as Spotify and Netflix. APIs are used by automakers such as Tesla to provide software upgrades."
   ]
  },
  {
   "cell_type": "markdown",
   "id": "3d7e70f0-cff6-4023-9f71-41ad10a94daa",
   "metadata": {},
   "source": [
    "## Q2. Give advantages and disadvantages of using API.\n"
   ]
  },
  {
   "cell_type": "markdown",
   "id": "da31bc0b-7a8c-4dd7-ac0f-96c33cba8119",
   "metadata": {},
   "source": [
    "Efficiency: When you have content that is automatically published and made available on different channels simultaneously, APIs allow for more efficient data distribution. Adaptability: One of the greatest benefits of APIs is the ability it has to adapt to changes through data migration and flexibility of services."
   ]
  },
  {
   "cell_type": "markdown",
   "id": "5bccfb34-76ac-474f-8688-8c70b12271a9",
   "metadata": {},
   "source": [
    "## Q3. What is a Web API? Differentiate between API and Web API."
   ]
  },
  {
   "cell_type": "markdown",
   "id": "111d4be8-e7fd-46e8-924b-42b50aec63ae",
   "metadata": {},
   "source": [
    "What is the difference between API and Web API?\n",
    "Image result for what is a web api? difference between api and web api\n",
    "Both APIs and web services are technologies that enable the transfer of data between separate software applications. API is an interface that exposes an application's data to outside software, whereas web applications are one type of API with stricter requirements."
   ]
  },
  {
   "cell_type": "markdown",
   "id": "ac707b2c-163a-44a6-9fe8-d75ed14e348c",
   "metadata": {},
   "source": [
    "## Q4. Explain REST and SOAP Architecture. Mention shortcomings of SOAP.\n"
   ]
  },
  {
   "cell_type": "markdown",
   "id": "2be99e17-be65-498e-9aa3-dab4235263b4",
   "metadata": {},
   "source": [
    "What is SOAP & REST?\n",
    "Representational state transfer (REST) is a set of architectural principles. Simple object access protocol (SOAP) is an official protocol maintained by the World Wide Web Consortium (W3C). The main difference is that SOAP is a protocol while REST is not."
   ]
  },
  {
   "cell_type": "markdown",
   "id": "b3f93b40-65ca-4530-8f66-f3d00674d15e",
   "metadata": {},
   "source": [
    "## Q5. Differentiate between REST and SOAP."
   ]
  },
  {
   "cell_type": "markdown",
   "id": "e700642e-f262-40c6-b91c-f04a757aafaf",
   "metadata": {},
   "source": [
    "REST is a set of guidelines that offers flexible implementation, whereas SOAP is a protocol with specific requirements like XML messaging. REST APIs are lightweight, making them ideal for newer contexts like the Internet of Things (IoT), mobile application development, and serverless computing"
   ]
  },
  {
   "cell_type": "code",
   "execution_count": null,
   "id": "64ffaac6-73ad-4379-84dd-39905295814f",
   "metadata": {},
   "outputs": [],
   "source": []
  }
 ],
 "metadata": {
  "kernelspec": {
   "display_name": "",
   "name": ""
  },
  "language_info": {
   "name": ""
  }
 },
 "nbformat": 4,
 "nbformat_minor": 5
}
