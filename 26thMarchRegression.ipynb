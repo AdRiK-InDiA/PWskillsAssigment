{
 "cells": [
  {
   "cell_type": "markdown",
   "id": "8d6a569b-20d0-42d3-a5dc-da17faed672b",
   "metadata": {},
   "source": [
    "## Q1. Explain the difference between simple linear regression and multiple linear regression. Provide an example of each.\n"
   ]
  },
  {
   "cell_type": "markdown",
   "id": "2e94c8fa-488a-443d-971e-a35014011284",
   "metadata": {},
   "source": [
    "Simple linear regression has only one x and one y variable. Multiple linear regression has one y and two or more x variables. For instance, when we predict rent based on square feet alone that is simple linear regression."
   ]
  },
  {
   "cell_type": "markdown",
   "id": "3d00741f-8a73-4a81-a414-14e13a545963",
   "metadata": {},
   "source": [
    "## Q2. Discuss the assumptions of linear regression. How can you check whether these assumptions hold in a given dataset?\n"
   ]
  },
  {
   "cell_type": "markdown",
   "id": "c1959644-dff7-4c68-a6f5-25504d155b49",
   "metadata": {},
   "source": [
    "- Assumption One: Linearity of the Data.\n",
    "- Assumption Two: Predictors (x) are Independent & Observed with Negligible Error.\n",
    "- Assumption Three: Residual Errors have a Mean Value of Zero.\n",
    "- Assumption Four: Residual Errors have Constant Variance."
   ]
  },
  {
   "cell_type": "markdown",
   "id": "7b569c9c-c636-446f-9661-44187d9d290e",
   "metadata": {},
   "source": [
    "## Q3. How do you interpret the slope and intercept in a linear regression model? Provide an example using a real-world scenario.\n"
   ]
  },
  {
   "cell_type": "markdown",
   "id": "81b97589-0368-4d8c-8c88-1e6189017895",
   "metadata": {},
   "source": [
    "How do you interpret slope and intercept in linear regression?\n",
    "Image result for How do you interpret the slope and intercept in a linear regression model? Provide an example using a real-world scenario.\n",
    "The slope indicates the steepness of a line and the intercept indicates the location where it intersects an axis. The slope and the intercept define the linear relationship between two variables, and can be used to estimate an average rate of change."
   ]
  },
  {
   "cell_type": "markdown",
   "id": "67f011a4-4ac9-4779-9004-efd78b76181f",
   "metadata": {},
   "source": [
    "## Q4. Explain the concept of gradient descent. How is it used in machine learning?\n"
   ]
  },
  {
   "cell_type": "markdown",
   "id": "7caba460-c80c-4038-a7b1-3f9ef786514a",
   "metadata": {},
   "source": [
    "Gradient descent is an optimization algorithm which is commonly-used to train machine learning models and neural networks. Training data helps these models learn over time, and the cost function within gradient descent specifically acts as a barometer, gauging its accuracy with each iteration of parameter updates."
   ]
  },
  {
   "cell_type": "markdown",
   "id": "0a14b93b-c883-4f20-ac75-fecf5f41cc0e",
   "metadata": {},
   "source": [
    "## Q5. Describe the multiple linear regression model. How does it differ from simple linear regression?\n"
   ]
  },
  {
   "cell_type": "markdown",
   "id": "663a8959-daa7-4f83-9b08-b3ee964df9fa",
   "metadata": {},
   "source": [
    "Multiple regression is a broader class of regressions that encompasses linear and nonlinear regressions with multiple explanatory variables. Whereas linear regress only has one independent variable impacting the slope of the relationship, multiple regression incorporates multiple independent variables."
   ]
  },
  {
   "cell_type": "markdown",
   "id": "1865d2ad-afba-4422-b01a-9663d39cf11d",
   "metadata": {},
   "source": [
    "## Q6. Explain the concept of multicollinearity in multiple linear regression. How can you detect and address this issue?\n"
   ]
  },
  {
   "cell_type": "markdown",
   "id": "b111c435-ee13-429e-96b6-a52b41af9ddc",
   "metadata": {},
   "source": [
    "Multicollinearity happens when independent variables in the regression model are highly correlated to each other. It makes it hard to interpret of model and also creates an overfitting problem. It is a common assumption that people test before selecting the variables into the regression model."
   ]
  },
  {
   "cell_type": "markdown",
   "id": "6a701489-cc20-44bc-8ad2-33693534d764",
   "metadata": {},
   "source": [
    "## Q7. Describe the polynomial regression model. How is it different from linear regression?\n"
   ]
  },
  {
   "cell_type": "markdown",
   "id": "afb4e0de-6995-4aed-9019-ad1ccab19482",
   "metadata": {},
   "source": [
    "Polynomial regression is a form of Linear regression where only due to the Non-linear relationship between dependent and independent variables, we add some polynomial terms to linear regression to convert it into Polynomial regression."
   ]
  },
  {
   "cell_type": "markdown",
   "id": "0a7104a0-a742-4218-a8a8-cdb561e590da",
   "metadata": {},
   "source": [
    "## Q8. What are the advantages and disadvantages of polynomial regression compared to linear regression? In what situations would you prefer to use polynomial regression?"
   ]
  },
  {
   "cell_type": "markdown",
   "id": "0acd93ab-b992-4661-9460-cfe2c8c892cd",
   "metadata": {},
   "source": [
    "Advantages of using Polynomial Regression:\n",
    "\n",
    "Polynomial provides the best approximation of the relationship between the dependent and independent variable. A Broad range of function can be fit under it. Polynomial basically fits a wide range of curvature."
   ]
  },
  {
   "cell_type": "code",
   "execution_count": null,
   "id": "9db1b8a0-a826-478a-99db-03f547b4d838",
   "metadata": {},
   "outputs": [],
   "source": []
  }
 ],
 "metadata": {
  "kernelspec": {
   "display_name": "Python 3 (ipykernel)",
   "language": "python",
   "name": "python3"
  },
  "language_info": {
   "codemirror_mode": {
    "name": "ipython",
    "version": 3
   },
   "file_extension": ".py",
   "mimetype": "text/x-python",
   "name": "python",
   "nbconvert_exporter": "python",
   "pygments_lexer": "ipython3",
   "version": "3.10.8"
  }
 },
 "nbformat": 4,
 "nbformat_minor": 5
}
