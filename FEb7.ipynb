{
 "cells": [
  {
   "cell_type": "markdown",
   "id": "7ea57e45-b8b3-4bb4-a4ce-929b69ac432a",
   "metadata": {},
   "source": [
    "### Q1. You are writing code for a company. The requirement of the company is that you create a python\n",
    "### function that will check whether the password entered by the user is correct or not. The  function should\n",
    "### take the password as input and return the string “Valid Password” if the entered password follows the\n",
    "### below-given password guidelines else it should return “Invalid Password”.\n",
    "### Note: 1. The Password should contain at least two uppercase letters and at least two lowercase letters.\n",
    "2. The Password should contain at least a number and three special characters.\n",
    "3. The length of the password should be 10 characters long."
   ]
  },
  {
   "cell_type": "code",
   "execution_count": 26,
   "id": "a937476e-d542-4395-912b-955e61369631",
   "metadata": {},
   "outputs": [],
   "source": [
    "def PassCheck(password):\n",
    "    \n",
    "    password = password.strip()\n",
    "    \n",
    "    if len(password) < 10 :\n",
    "        print('Invalid Password')\n",
    "    \n",
    "    else:\n",
    "        Up = 0\n",
    "        Low = 0 \n",
    "        num = 0\n",
    "        sp = 0 \n",
    "        for ch in password:\n",
    "            if ch.isalpha():\n",
    "                if ch.isupper():\n",
    "                    Up+=1\n",
    "                elif ch.islower():\n",
    "                    Low+=1\n",
    "                    \n",
    "            elif ch.isnumeric():\n",
    "                num+=1\n",
    "            else :\n",
    "                sp+=1\n",
    "        \n",
    "        if Up>=2 and Low>=2 and num>=1 and sp>=3 :\n",
    "            print('Valid Password')\n",
    "        else :\n",
    "            print('Invalid Password')\n",
    "\n",
    "            \n",
    "        "
   ]
  },
  {
   "cell_type": "code",
   "execution_count": 27,
   "id": "0edcabd6-4955-4bae-8f26-7aef47155f15",
   "metadata": {},
   "outputs": [
    {
     "name": "stdout",
     "output_type": "stream",
     "text": [
      "Valid Password\n"
     ]
    }
   ],
   "source": [
    "PassCheck('ADrik12@@@giri')"
   ]
  },
  {
   "cell_type": "markdown",
   "id": "c8dd3dc7-8c10-429f-ac62-3f73d3dc0fce",
   "metadata": {},
   "source": [
    "### Q2. Solve the below-given questions using at least one of the following:\n",
    "1. Lambda function\n",
    "2. Filter function\n",
    "3. Map function\n",
    "4. List Comprehension\n",
    " Check if the string starts with a particular letter\n",
    " Check if the string is numeric\n",
    " Sort a list of tuples having fruit names and their quantity. [(\"mango\",99),(\"orange\",80), (\"grapes\", 1000)-\n",
    " Find the squares of numbers from 1 to 10Y\n",
    " Find the cube root of numbers from 1 to 10Y\n",
    " Check if a given number is evenY\n",
    " Filter odd numbers from the given list.\n",
    "[1,2,3,4,5,6,7,8,9,10-\n",
    " Sort a list of integers into positive and negative integers lists.\n",
    "[1,2,3,4,5,6,-1,-2,-3,-4,-5,0]"
   ]
  },
  {
   "cell_type": "code",
   "execution_count": 30,
   "id": "de6cdfc0-1429-4d4a-addc-83bba8d97626",
   "metadata": {},
   "outputs": [
    {
     "data": {
      "text/plain": [
       "True"
      ]
     },
     "execution_count": 30,
     "metadata": {},
     "output_type": "execute_result"
    }
   ],
   "source": [
    "### code to check if the string starts with a particular letter\n",
    "\n",
    "starts = lambda s,c : s.startswith(c)\n",
    "\n",
    "starts('adrik','a')"
   ]
  },
  {
   "cell_type": "code",
   "execution_count": 32,
   "id": "42da5758-2a37-4c1e-bfda-158bfbef3af0",
   "metadata": {},
   "outputs": [
    {
     "data": {
      "text/plain": [
       "True"
      ]
     },
     "execution_count": 32,
     "metadata": {},
     "output_type": "execute_result"
    }
   ],
   "source": [
    "### Check if the string is numeric\n",
    "\n",
    "isNumeric = lambda s : s.isnumeric()\n",
    "\n",
    "isNumeric('12')"
   ]
  },
  {
   "cell_type": "code",
   "execution_count": 34,
   "id": "a7e3f053-ade5-4d08-b46b-5592f5d2cc9a",
   "metadata": {},
   "outputs": [
    {
     "name": "stdout",
     "output_type": "stream",
     "text": [
      "Original list of tuples:\n",
      "[('mango', 99), ('orange', 80), ('grapes', 1000)]\n",
      "\n",
      "Sorting the List of Tuples:\n",
      "[('orange', 80), ('mango', 99), ('grapes', 1000)]\n"
     ]
    }
   ],
   "source": [
    "### Sort a list of tuples having fruit names and their quantity. [(\"mango\",99),(\"orange\",80), (\"grapes\", 1000)\n",
    "f =  [(\"mango\",99),(\"orange\",80), (\"grapes\", 1000)]\n",
    "print(\"Original list of tuples:\")\n",
    "print(f)\n",
    "f.sort(key = lambda x: x[1])\n",
    "print(\"\\nSorting the List of Tuples:\")\n",
    "print(f)"
   ]
  },
  {
   "cell_type": "code",
   "execution_count": 35,
   "id": "1e0b86be-a4f1-497d-9cd5-7c52aed9caee",
   "metadata": {},
   "outputs": [
    {
     "data": {
      "text/plain": [
       "[1, 4, 9, 16, 25, 36, 49, 64, 81, 100]"
      ]
     },
     "execution_count": 35,
     "metadata": {},
     "output_type": "execute_result"
    }
   ],
   "source": [
    "### Find the squares of numbers from 1 to 10\n",
    "\n",
    "[i**2 for i in range(1,11)]"
   ]
  },
  {
   "cell_type": "code",
   "execution_count": 37,
   "id": "2a10409c-d3df-488e-8e1f-f4be003303b5",
   "metadata": {},
   "outputs": [
    {
     "data": {
      "text/plain": [
       "[1.0,\n",
       " 1.2599210498948732,\n",
       " 1.4422495703074083,\n",
       " 1.5874010519681994,\n",
       " 1.7099759466766968,\n",
       " 1.8171205928321397,\n",
       " 1.912931182772389,\n",
       " 2.0,\n",
       " 2.080083823051904,\n",
       " 2.154434690031884]"
      ]
     },
     "execution_count": 37,
     "metadata": {},
     "output_type": "execute_result"
    }
   ],
   "source": [
    "### Find the cube root of numbers from 1 to 10\n",
    "\n",
    "[i**(1/3) for i in range(1,11)]"
   ]
  },
  {
   "cell_type": "code",
   "execution_count": 40,
   "id": "02b4179d-80aa-499b-b195-62eda68fb985",
   "metadata": {},
   "outputs": [
    {
     "data": {
      "text/plain": [
       "False"
      ]
     },
     "execution_count": 40,
     "metadata": {},
     "output_type": "execute_result"
    }
   ],
   "source": [
    "### Check if a given number is even\n",
    "\n",
    "even = lambda x : x%2==0\n",
    "\n",
    "even(3)"
   ]
  },
  {
   "cell_type": "code",
   "execution_count": 41,
   "id": "47f0f3fe-bf47-4a99-9875-c6eab98a47fa",
   "metadata": {},
   "outputs": [
    {
     "data": {
      "text/plain": [
       "[1, 3, 5, 7, 9]"
      ]
     },
     "execution_count": 41,
     "metadata": {},
     "output_type": "execute_result"
    }
   ],
   "source": [
    "### Filter odd numbers from the given list. [1,2,3,4,5,6,7,8,9,10]\n",
    "\n",
    "l =  [1,2,3,4,5,6,7,8,9,10]\n",
    "\n",
    "list(filter(lambda x : x%2!=0 , l))"
   ]
  },
  {
   "cell_type": "code",
   "execution_count": 47,
   "id": "27b28568-5e03-4766-9faf-700b2f744db0",
   "metadata": {},
   "outputs": [
    {
     "name": "stdout",
     "output_type": "stream",
     "text": [
      "[[1, 2, 3, 4, 5, 6, 0], [-1, -2, -3, -4, -5]]\n"
     ]
    }
   ],
   "source": [
    "### Sort a list of integers into positive and negative integers lists. [1,2,3,4,5,6,-1,-2,-3,-4,-5,0]l\n",
    "l = [1,2,3,4,5,6,-1,-2,-3,-4,-5,0]\n",
    "\n",
    "lp = list(filter(lambda x : x>=0 , l))\n",
    "ln = list(filter(lambda x : x<0 , l))\n",
    "\n",
    "ls = [lp,ln]\n",
    "\n",
    "print(ls)"
   ]
  },
  {
   "cell_type": "code",
   "execution_count": null,
   "id": "f62dd97a-8d50-4a98-a23f-fada20b18fce",
   "metadata": {},
   "outputs": [],
   "source": []
  }
 ],
 "metadata": {
  "kernelspec": {
   "display_name": "Python 3 (ipykernel)",
   "language": "python",
   "name": "python3"
  },
  "language_info": {
   "codemirror_mode": {
    "name": "ipython",
    "version": 3
   },
   "file_extension": ".py",
   "mimetype": "text/x-python",
   "name": "python",
   "nbconvert_exporter": "python",
   "pygments_lexer": "ipython3",
   "version": "3.9.13"
  }
 },
 "nbformat": 4,
 "nbformat_minor": 5
}
