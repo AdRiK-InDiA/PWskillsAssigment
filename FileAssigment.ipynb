{
 "cells": [
  {
   "cell_type": "markdown",
   "id": "80139ec3-67c5-45a8-b9de-bab779fcb82a",
   "metadata": {},
   "source": [
    "### Q1. Which function is used to open a file? What are the different modes of opening a file? Explain each mode of file opening."
   ]
  },
  {
   "cell_type": "markdown",
   "id": "e817e0c5-25dc-400d-b506-462eac563327",
   "metadata": {},
   "source": [
    "#### open() function is used to open a file \n",
    "\n",
    "#### syntax :-\n",
    "\n",
    "#### *object_name* = open(*filename*,*mode*)\n",
    "\n",
    "#### different modes  - \n",
    "\n",
    "#### 'w' - write into a file , but first remove all contents \n",
    "\n",
    "#### 'r' - read all contents of a file\n",
    "\n",
    "#### 'a' - open a file and write into it but dont deleting the existing data "
   ]
  },
  {
   "cell_type": "markdown",
   "id": "ffb0c483-8b61-41de-a536-0fad2d4ffd11",
   "metadata": {},
   "source": [
    "### Q2. Why close() function is used? Why is it important to close a file?"
   ]
  },
  {
   "cell_type": "markdown",
   "id": "747cdde2-fd0d-432d-aa5b-22da6f482e24",
   "metadata": {},
   "source": [
    "if we dont close a file after writing then the changes will not reflect to the file . close() functions marks the end of the our writing . "
   ]
  },
  {
   "cell_type": "markdown",
   "id": "57ba0982-0300-4fe4-a7aa-d9f7a1682507",
   "metadata": {},
   "source": [
    "## Q3. Write a python program to create a text file. Write ‘I want to become a Data Scientist’ in that file. Then close the file. Open this file and read the content of the file."
   ]
  },
  {
   "cell_type": "code",
   "execution_count": 2,
   "id": "08a06b4b-f633-4a54-870c-1c6d2213c9cf",
   "metadata": {},
   "outputs": [],
   "source": [
    "with open('ds.txt','w') as f :\n",
    "    \n",
    "    f.write('I want to become a Data Scientist')\n"
   ]
  },
  {
   "cell_type": "markdown",
   "id": "9c6e9616-98ac-4925-9595-2dade4ae42ec",
   "metadata": {},
   "source": [
    "### Q4. Explain the following with python code: read(), readline() and readlines()."
   ]
  },
  {
   "cell_type": "markdown",
   "id": "953d5c85-1a54-4040-8efc-80312ab1f6ee",
   "metadata": {},
   "source": [
    "__read()__ --> retuen all the content of the file in form a string \n",
    "\n",
    "__readline()___ --> return a particuar line a string \n",
    "\n",
    "__readlines()__ --> returns the lines in list form ."
   ]
  },
  {
   "cell_type": "markdown",
   "id": "90421a79-858b-4440-8535-28efc133ff3b",
   "metadata": {},
   "source": [
    "### Q5. Explain why with statement is used with open(). What is the advantage of using with statement and open() together?"
   ]
  },
  {
   "cell_type": "markdown",
   "id": "bd5853e5-be4b-4f2b-8d8d-deb4d39e8d3b",
   "metadata": {},
   "source": [
    "if we use __with open()__ we can skip the close() statement .\n",
    "\n",
    "this is the main advantages . sometimes we may forget to close the file . using __with__ close the file as you leave the block."
   ]
  },
  {
   "cell_type": "markdown",
   "id": "f5002e05-a130-473c-87bf-d95152c16dd4",
   "metadata": {},
   "source": [
    "### Q6. Explain the write() and writelines() functions. Give a suitable example."
   ]
  },
  {
   "cell_type": "markdown",
   "id": "dbda7111-67c5-4bac-9151-e1e786103c3a",
   "metadata": {},
   "source": [
    "The only difference between the write() and writelines() is that write() is used to write a string to an already opened file while writelines() method is used to write a list of strings in an opened file."
   ]
  },
  {
   "cell_type": "code",
   "execution_count": 3,
   "id": "2951be7b-78f7-4c8e-a6af-4168905f773d",
   "metadata": {},
   "outputs": [],
   "source": [
    "with open('ds.txt' , 'w') as f :\n",
    "    \n",
    "    f.writelines(['adrik\\n','soham\\n'])\n",
    "    \n",
    "## writelines can take a list as input .\n",
    "### but write only takes string "
   ]
  },
  {
   "cell_type": "code",
   "execution_count": null,
   "id": "e41dd93f-445d-402a-ab88-cb692d184bfb",
   "metadata": {},
   "outputs": [],
   "source": []
  }
 ],
 "metadata": {
  "kernelspec": {
   "display_name": "Python 3 (ipykernel)",
   "language": "python",
   "name": "python3"
  },
  "language_info": {
   "codemirror_mode": {
    "name": "ipython",
    "version": 3
   },
   "file_extension": ".py",
   "mimetype": "text/x-python",
   "name": "python",
   "nbconvert_exporter": "python",
   "pygments_lexer": "ipython3",
   "version": "3.9.13"
  }
 },
 "nbformat": 4,
 "nbformat_minor": 5
}
