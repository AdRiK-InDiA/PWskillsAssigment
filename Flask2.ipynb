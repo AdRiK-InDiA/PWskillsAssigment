{
 "cells": [
  {
   "cell_type": "markdown",
   "id": "53788fb3-0574-41bd-8b47-40fb9b3f02b5",
   "metadata": {},
   "source": [
    "## Q1. Explain GET and POST methods.\n"
   ]
  },
  {
   "cell_type": "markdown",
   "id": "565f6ae0-9bee-4854-82a3-f5693a5001e0",
   "metadata": {},
   "source": [
    "Get and Post methods are the HTTP request methods used inside the 'form' tag to send form data to the server. HTTP protocol enables the communication between the client and the server where a browser can be the client, and an application running on a computer system that hosts your website can be the server."
   ]
  },
  {
   "cell_type": "markdown",
   "id": "2f595d1f-c8ed-40d9-90d5-3f2d401d5e59",
   "metadata": {},
   "source": [
    "## Q2. Why is request used in Flask?\n"
   ]
  },
  {
   "cell_type": "markdown",
   "id": "2c860dd6-0eac-4057-8016-633f8f7801af",
   "metadata": {},
   "source": [
    "The Request, in Flask, is an object that contains all the data sent from the Client to Server. This data can be recovered using the GET/POST Methods."
   ]
  },
  {
   "cell_type": "markdown",
   "id": "d9d7fef2-a3e7-49f1-8e94-5801d245c02e",
   "metadata": {},
   "source": [
    "## Q3. Why is redirect() used in Flask?\n"
   ]
  },
  {
   "cell_type": "markdown",
   "id": "e89b2373-121a-4287-a134-40ccc880ffd9",
   "metadata": {},
   "source": [
    "Redirection in Flask can be done by returning a redirect response object, created by invoking the redirect() function. The same method is used for redirecting to other routes on the same application and external websites."
   ]
  },
  {
   "cell_type": "markdown",
   "id": "67bc8d6c-9b84-4ced-8a94-a87e00abe07d",
   "metadata": {},
   "source": [
    "## Q4. What are templates in Flask? Why is the render_template() function used?\n"
   ]
  },
  {
   "cell_type": "markdown",
   "id": "27e95021-8fd9-40fe-9cc8-e19b0f77671f",
   "metadata": {},
   "source": [
    "render_template is a Flask function from the flask. templating package. render_template is used to generate output from a template file based on the Jinja2 engine that is found in the application's templates folder. Note that render_template is typically imported directly from the flask package instead of from flask."
   ]
  },
  {
   "cell_type": "markdown",
   "id": "a2bd5e5a-368b-4695-b01a-b6c3617aa7df",
   "metadata": {},
   "source": [
    "## Q5. Create a simple API. Use Postman to test it. Attach the screenshot of the output in the Jupyter Notebook."
   ]
  },
  {
   "cell_type": "markdown",
   "id": "ca4553a7-7999-40b0-b83d-710c5ac460c1",
   "metadata": {},
   "source": [
    "<img src='an3/work/img1.png'>"
   ]
  },
  {
   "cell_type": "code",
   "execution_count": null,
   "id": "2fbdd3d7-1b65-4cd5-a9f9-3f845d75808a",
   "metadata": {},
   "outputs": [],
   "source": []
  }
 ],
 "metadata": {
  "kernelspec": {
   "display_name": "Python 3 (ipykernel)",
   "language": "python",
   "name": "python3"
  },
  "language_info": {
   "codemirror_mode": {
    "name": "ipython",
    "version": 3
   },
   "file_extension": ".py",
   "mimetype": "text/x-python",
   "name": "python",
   "nbconvert_exporter": "python",
   "pygments_lexer": "ipython3",
   "version": "3.9.13"
  }
 },
 "nbformat": 4,
 "nbformat_minor": 5
}
