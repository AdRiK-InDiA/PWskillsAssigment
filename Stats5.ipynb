{
 "cells": [
  {
   "cell_type": "markdown",
   "id": "6a3eb702-6e14-4de9-ab59-8c7c1623bdee",
   "metadata": {},
   "source": [
    "## Q1: What is Estimation Statistics? Explain point estimate and interval estimate."
   ]
  },
  {
   "cell_type": "markdown",
   "id": "a08fdc48-acad-4a52-b065-09524db9372b",
   "metadata": {},
   "source": [
    "A point estimate is a single value estimate of a parameter. For instance, a sample mean is a point estimate of a population mean. An interval estimate gives you a range of values where the parameter is expected to lie. A confidence interval is the most common type of interval estimate."
   ]
  },
  {
   "cell_type": "markdown",
   "id": "14b2830c-d35f-405d-8e81-5586c569bb02",
   "metadata": {},
   "source": [
    "## Q2. Write a Python function to estimate the population mean using a sample mean and standard deviation."
   ]
  },
  {
   "cell_type": "code",
   "execution_count": 1,
   "id": "a3948a82-c9e6-4913-84b1-db32b03b6c66",
   "metadata": {},
   "outputs": [],
   "source": [
    "numbers = [4,10,29,33,42,67]\n",
    "def find_mean(list_of_numbers):\n",
    "    sum_n = sum(list_of_numbers)\n",
    "    len_n = len(list_of_numbers)\n",
    "    mean = sum_n/len_n\n",
    "    return mean\n",
    "    \n",
    "result = find_mean(numbers)"
   ]
  },
  {
   "cell_type": "markdown",
   "id": "8e9b3215-2cd0-46ff-b6b9-8e678a16193a",
   "metadata": {},
   "source": [
    "## Q3: What is Hypothesis testing? Why is it used? State the importance of Hypothesis testing."
   ]
  },
  {
   "cell_type": "markdown",
   "id": "27b8cf9d-5581-4070-8cad-7be2b6732ac4",
   "metadata": {},
   "source": [
    "Hypothesis testing is the process used to evaluate the strength of evidence from the sample and provides a framework for making determinations related to the population, ie, it provides a method for understanding how reliably one can extrapolate observed findings in a sample under study to the larger population from"
   ]
  },
  {
   "cell_type": "markdown",
   "id": "e24837b0-094e-452e-af14-4e9a8bbdf377",
   "metadata": {},
   "source": [
    "## Q4. Create a hypothesis that states whether the average weight of male college students is greater than the average weight of female college students."
   ]
  },
  {
   "cell_type": "markdown",
   "id": "a01aa750-e91f-45de-ba4d-72c170cff686",
   "metadata": {},
   "source": [
    "1. Null Hyptothesis : Ho = weight_male > weight_female\n",
    "2. Alternate Hyptothesis : Hi = weight_male !> weight_female"
   ]
  },
  {
   "cell_type": "markdown",
   "id": "fcc2c347-f5ec-4a45-8da2-bf73779a2490",
   "metadata": {},
   "source": [
    "## Q5. Write a Python script to conduct a hypothesis test on the difference between two population means, given a sample from each population."
   ]
  },
  {
   "cell_type": "code",
   "execution_count": 12,
   "id": "8567197c-b911-4e4f-a057-ad596522d6fb",
   "metadata": {},
   "outputs": [
    {
     "name": "stdout",
     "output_type": "stream",
     "text": [
      "3.554557145661787\n"
     ]
    }
   ],
   "source": [
    "import scipy.stats as st\n",
    "sample1 = [9,8,7,8,8,9,8]\n",
    "sample2 = [7,6,6,7,7,6,8]\n",
    "sample3 = [4,3,2,3,3,2,4]\n",
    "significance_val = 0.05\n",
    "\n",
    "df_b = 2\n",
    "df_w = len(sample1)+len(sample2)+len(sample3)-3\n",
    "\n",
    "critical_value = st.f.ppf(q=1-significance_val, dfn=df_b, dfd=df_w)\n",
    "print(critical_value)"
   ]
  },
  {
   "cell_type": "code",
   "execution_count": 15,
   "id": "2a3d5b9d-415a-4be3-b299-c92c84c79977",
   "metadata": {},
   "outputs": [],
   "source": [
    "f,p=st.f_oneway(sample1,sample2,sample3)"
   ]
  },
  {
   "cell_type": "code",
   "execution_count": 17,
   "id": "46497499-45db-4e23-a15c-e414f3a33522",
   "metadata": {},
   "outputs": [
    {
     "name": "stdout",
     "output_type": "stream",
     "text": [
      "Poplulation means are not equal\n"
     ]
    }
   ],
   "source": [
    "if f > critical_value:\n",
    "    print('Poplulation means are not equal')\n",
    "else:\n",
    "    print('Population means are equal')"
   ]
  },
  {
   "cell_type": "markdown",
   "id": "c71740ee-b6e1-412f-a915-7463aeb44f89",
   "metadata": {},
   "source": [
    "## Q6: What is a null and alternative hypothesis? Give some examples."
   ]
  },
  {
   "cell_type": "markdown",
   "id": "f4d0bafd-d90d-471d-864d-c3611db6825a",
   "metadata": {},
   "source": [
    "When the research question asks “Does the independent variable affect the dependent variable?”: The null hypothesis (H0) answers “No, there's no effect in the population.” The alternative hypothesis (Ha) answers “Yes, there is an effect in the population.”"
   ]
  },
  {
   "cell_type": "markdown",
   "id": "b24ace07-7a24-41e1-bd42-75678b19cf86",
   "metadata": {},
   "source": [
    "## Q7: Write down the steps involved in hypothesis testing.  "
   ]
  },
  {
   "cell_type": "markdown",
   "id": "a5dd3d8f-00d7-4642-b648-29487b083305",
   "metadata": {},
   "source": [
    "What are 5 step of hypothesis testing?\n",
    "Stating the research and null hypotheses and selecting (setting) alpha. Selecting the sampling distribution and specifying the test statistic. Computing the test statistic. Making a decision and interpreting the results."
   ]
  },
  {
   "cell_type": "markdown",
   "id": "07f7a3f7-f577-4ac7-8485-c90d8482fb8a",
   "metadata": {},
   "source": [
    "Key Takeaways. A p-value is a statistical measurement used to validate a hypothesis against observed data. A p-value measures the probability of obtaining the observed results, assuming that the null hypothesis is true. The lower the p-value, the greater the statistical significance of the observed difference.\n"
   ]
  },
  {
   "cell_type": "markdown",
   "id": "95d72fbb-29a0-40a3-9b3c-878c933f75d0",
   "metadata": {},
   "source": [
    "## Q9. Generate a Student's t-distribution plot using Python's matplotlib library, with the degrees of freedom parameter set to 10."
   ]
  },
  {
   "cell_type": "code",
   "execution_count": 20,
   "id": "917eec06-87e3-47b9-891e-c088526083c8",
   "metadata": {},
   "outputs": [
    {
     "data": {
      "text/plain": [
       "[<matplotlib.lines.Line2D at 0x7f56816d8b80>,\n",
       " <matplotlib.lines.Line2D at 0x7f56816d8c70>]"
      ]
     },
     "execution_count": 20,
     "metadata": {},
     "output_type": "execute_result"
    },
    {
     "data": {
      "image/png": "[encoded data removed]",
      "text/plain": [
       "<Figure size 640x480 with 1 Axes>"
      ]
     },
     "metadata": {},
     "output_type": "display_data"
    }
   ],
   "source": [
    "from scipy.stats import t\n",
    "import matplotlib.pyplot as plt\n",
    "import numpy as np\n",
    "\t\n",
    "x = np.linspace(0, 5, 10)\n",
    "\t\n",
    "# Varying positional arguments\n",
    "y1 = t .pdf(x, 1, 3, 5)\n",
    "y2 = t .pdf(x, 1, 4, 4)\n",
    "plt.plot(x, y1, \"*\", x, y2, \"r--\")\n"
   ]
  },
  {
   "cell_type": "markdown",
   "id": "aa32753c-a5d0-40bd-a82d-09c087d93b15",
   "metadata": {},
   "source": [
    "## Q10. Write a Python program to calculate the two-sample t-test for independent samples, given two random samples of equal size and a null hypothesis that the population means are equal.\n"
   ]
  },
  {
   "cell_type": "code",
   "execution_count": 21,
   "id": "2ff07f72-f251-4c47-a27d-52f6d2737933",
   "metadata": {},
   "outputs": [
    {
     "name": "stdout",
     "output_type": "stream",
     "text": [
      "hello\n"
     ]
    }
   ],
   "source": [
    "print('hello')"
   ]
  },
  {
   "cell_type": "markdown",
   "id": "1271aeab-bb4d-44cd-9704-6e8aa8455456",
   "metadata": {},
   "source": [
    "## Q11: What is Student’s t distribution? When to use the t-Distribution.\n"
   ]
  },
  {
   "cell_type": "markdown",
   "id": "01b32137-4ced-4c4a-b884-e55e56648479",
   "metadata": {},
   "source": [
    "The t-distribution is used when data are approximately normally distributed, which means the data follow a bell shape but the population variance is unknown. The variance in a t-distribution is estimated based on the degrees of freedom of the data set (total number of observations minus 1)."
   ]
  },
  {
   "cell_type": "markdown",
   "id": "269ce990-3235-4930-a172-30a30418ff57",
   "metadata": {},
   "source": [
    "## Q12: What is t-statistic? State the formula for t-statistic.\n"
   ]
  },
  {
   "cell_type": "markdown",
   "id": "9cc0e8f1-1d24-4870-8e40-915440a30aa6",
   "metadata": {},
   "source": [
    "You can calculate a t-value using a common t-test with the formula: t = (X‾ - μ0) / (s / √n), where X‾ is the sample mean, μ0 represents the population mean, s is the standard deviation of the sample and n stands for the size of the sample"
   ]
  },
  {
   "cell_type": "markdown",
   "id": "6069d109-377c-49c1-8d2c-3a6fb599b44c",
   "metadata": {},
   "source": [
    "## Q13. A coffee shop owner wants to estimate the average daily revenue for their shop. They take a random sample of 50 days and find the sample mean revenue to be 500 with a standard deviation of $50. Estimate the population mean revenue with a 95% confidence interval.\n"
   ]
  },
  {
   "cell_type": "markdown",
   "id": "ebaa8602-1a3d-4d17-8a14-ff2554a097a2",
   "metadata": {},
   "source": [
    "yes"
   ]
  },
  {
   "cell_type": "markdown",
   "id": "3066312b-ac79-4397-8090-7d236923ba55",
   "metadata": {},
   "source": [
    "## Q14. A researcher hypothesizes that a new drug will decrease blood pressure by 10 mmHg. They conduct a clinical trial with 100 patients and find that the sample mean decrease in blood pressure is 8 mmHg with a standard deviation of 3 mmHg. Test the hypothesis with a significance level of 0.05.\n"
   ]
  },
  {
   "cell_type": "markdown",
   "id": "7630c60d-1a8f-4aac-ac16-f9601822143e",
   "metadata": {},
   "source": [
    "no"
   ]
  },
  {
   "cell_type": "markdown",
   "id": "ad1348c6-09f5-4c15-96ca-e6b474c5abd4",
   "metadata": {},
   "source": [
    "## Q15. An electronics company produces a certain type of product with a mean weight of 5 pounds and a standard deviation of 0.5 pounds. A random sample of 25 products is taken, and the sample mean weight is found to be 4.8 pounds. Test the hypothesis that the true mean weight of the products is less than 5 pounds with a significance level of 0.01.\n"
   ]
  },
  {
   "cell_type": "markdown",
   "id": "dffab6a5-2201-4854-98ee-36bcd5b80c02",
   "metadata": {},
   "source": [
    "no"
   ]
  },
  {
   "cell_type": "markdown",
   "id": "d17252f3-a388-44a9-b410-d1a30f6add05",
   "metadata": {},
   "source": [
    "## Q16. Two groups of students are given different study materials to prepare for a test. The first group (n1 =30) has a mean score of 80 with a standard deviation of 10, and the second group (n2 = 40) has a meanscore of 75 with a standard deviation of 8. Test the hypothesis that the population means for the two groups are equal with a significance level of 0.01.\n"
   ]
  },
  {
   "cell_type": "markdown",
   "id": "ed7d06da-a3a4-4cdd-ac21-f34586784c0e",
   "metadata": {},
   "source": [
    "yes"
   ]
  },
  {
   "cell_type": "markdown",
   "id": "8a57ef0f-b673-4c53-9dbd-d1a92498b624",
   "metadata": {},
   "source": [
    "## Q17. A marketing company wants to estimate the average number of ads watched by viewers during a TV program. They take a random sample of 50 viewers and find that the sample mean is 4 with a standard deviation of 1.5. Estimate the population mean with a 99% confidence interval. "
   ]
  },
  {
   "cell_type": "markdown",
   "id": "2c7c6a89-2ea3-465d-80f3-4cffe0b9c396",
   "metadata": {},
   "source": [
    "no"
   ]
  }
 ],
 "metadata": {
  "kernelspec": {
   "display_name": "Python 3 (ipykernel)",
   "language": "python",
   "name": "python3"
  },
  "language_info": {
   "codemirror_mode": {
    "name": "ipython",
    "version": 3
   },
   "file_extension": ".py",
   "mimetype": "text/x-python",
   "name": "python",
   "nbconvert_exporter": "python",
   "pygments_lexer": "ipython3",
   "version": "3.10.8"
  }
 },
 "nbformat": 4,
 "nbformat_minor": 5
}
