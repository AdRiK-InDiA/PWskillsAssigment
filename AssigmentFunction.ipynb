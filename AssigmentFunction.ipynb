{
 "cells": [
  {
   "cell_type": "markdown",
   "id": "1b2e87f2-6226-4940-a4a7-9f764204180f",
   "metadata": {},
   "source": [
    "#### Q1. Which keyword is used to create a function? Create a function to return a list of odd numbers in the range of 1 to 25."
   ]
  },
  {
   "cell_type": "markdown",
   "id": "8eb19dfd-59b5-49f0-a2b4-c1107f3a3e8d",
   "metadata": {},
   "source": [
    " def keyword is used to create function.\n",
    " \n",
    " a function to return a list of odd numbers in the range of 1 to 25 :"
   ]
  },
  {
   "cell_type": "code",
   "execution_count": 6,
   "id": "75936b13-67d4-48af-a04f-c1834b7d50d8",
   "metadata": {},
   "outputs": [
    {
     "data": {
      "text/plain": [
       "[1, 3, 5, 7, 9, 11, 13, 15, 17, 19, 21, 23, 25]"
      ]
     },
     "execution_count": 6,
     "metadata": {},
     "output_type": "execute_result"
    }
   ],
   "source": [
    "def odd():\n",
    "    return [i for i in range(1,26)  if i%2!=0]\n",
    "\n",
    "odd()"
   ]
  },
  {
   "cell_type": "markdown",
   "id": "0f50b12d-a5cb-497a-b341-56c10eb53351",
   "metadata": {},
   "source": [
    "### Q2. Why *args and **kwargs is used in some functions? Create a function each for *args and **kwargs to demonstrate their use."
   ]
  },
  {
   "cell_type": "markdown",
   "id": "7fbc3c08-935a-4a6f-865c-d8cf67bdca77",
   "metadata": {},
   "source": [
    "*args is used to take multiple paramater data and convert them into tuple \n",
    "\n",
    "**kwargs is used to take multipe parameters and store them in a dictonary.\n",
    "\n",
    "code:"
   ]
  },
  {
   "cell_type": "code",
   "execution_count": 8,
   "id": "d7d886ea-0e94-4bbc-9d80-d0a21909122e",
   "metadata": {},
   "outputs": [
    {
     "data": {
      "text/plain": [
       "(1, 2, 3, 4)"
      ]
     },
     "execution_count": 8,
     "metadata": {},
     "output_type": "execute_result"
    }
   ],
   "source": [
    "def summ(*args):\n",
    "    return args\n",
    "    \n",
    "summ(1,2,3,4)"
   ]
  },
  {
   "cell_type": "code",
   "execution_count": 9,
   "id": "5618e642-2e02-4a6a-8b78-7e13040b812f",
   "metadata": {},
   "outputs": [
    {
     "data": {
      "text/plain": [
       "{'a': 'a', 'b': 5, 'c': 'adrik', 'd': 9}"
      ]
     },
     "execution_count": 9,
     "metadata": {},
     "output_type": "execute_result"
    }
   ],
   "source": [
    "def dic(**kwargs):\n",
    "    return kwargs\n",
    "\n",
    "dic(a='a',b=5,c='adrik',d=9)"
   ]
  },
  {
   "cell_type": "markdown",
   "id": "37fbbde8-7456-4fdd-ba1e-60227d60eebf",
   "metadata": {},
   "source": [
    "### Q3. What is an iterator in python? Name the method used to initialise the iterator object and the method used for iteration. Use these methods to print the first five elements of the ### given list [2, 4, 6, 8, 10, 12, 14, 16, 18, 20].\n",
    "\n",
    "Iterator in Python is an object that is used to iterate over iterable objects like lists, tuples, dicts, and sets. The iterator object is initialized using the iter() method. It uses the next() method for iteration. __next__(): The next method returns the next value for the iterable."
   ]
  },
  {
   "cell_type": "code",
   "execution_count": 11,
   "id": "f9a81e01-0d7a-43cc-b7ca-189ffb8d6214",
   "metadata": {},
   "outputs": [
    {
     "name": "stdout",
     "output_type": "stream",
     "text": [
      "2\n",
      "4\n",
      "6\n",
      "8\n",
      "10\n"
     ]
    }
   ],
   "source": [
    "list_g = [2, 4, 6, 8, 10, 12, 14, 16, 18, 20]\n",
    "\n",
    "it = iter(list_g)\n",
    "\n",
    "for i in range(5):\n",
    "    print(next(it))\n"
   ]
  },
  {
   "cell_type": "markdown",
   "id": "f2b4b9a3-53ec-4653-ad47-0c39c2cffc97",
   "metadata": {},
   "source": [
    "### What is a generator function in python? Why yield keyword is used? Give an example of a generator function.\n",
    "\n",
    "Generator functions are a special kind of function that return a lazy iterator called a generator iterator. These are objects that you can loop over like a list. However, unlike lists, lazy iterators do not store their contents in memory.\n",
    "\n",
    "yeild make a function generator\n",
    "\n",
    "ex : range() "
   ]
  },
  {
   "cell_type": "markdown",
   "id": "460f010d-4f7b-4d75-8f42-234541bca703",
   "metadata": {},
   "source": [
    "### Create a generator function for prime numbers less than 1000. Use the next() method to print the first 20 prime numbers."
   ]
  },
  {
   "cell_type": "code",
   "execution_count": 14,
   "id": "a73b3e95-359e-450b-99d4-023521d1f916",
   "metadata": {},
   "outputs": [
    {
     "name": "stdout",
     "output_type": "stream",
     "text": [
      "2\n",
      "3\n",
      "5\n",
      "7\n",
      "11\n",
      "13\n",
      "17\n",
      "19\n"
     ]
    }
   ],
   "source": [
    "def prime(n):\n",
    "    \n",
    "    for i in range(2,n):\n",
    "        c = 0 \n",
    "        for j in range(1,i+1):\n",
    "            \n",
    "            if i%j==0:\n",
    "                c+=1\n",
    "        if c==2: \n",
    "            yield i \n",
    "\n",
    "for i in prime(20):\n",
    "    print(i)"
   ]
  },
  {
   "cell_type": "code",
   "execution_count": null,
   "id": "04e8c237-8faf-4c40-9a18-169c302457d7",
   "metadata": {},
   "outputs": [],
   "source": []
  }
 ],
 "metadata": {
  "kernelspec": {
   "display_name": "Python 3 (ipykernel)",
   "language": "python",
   "name": "python3"
  },
  "language_info": {
   "codemirror_mode": {
    "name": "ipython",
    "version": 3
   },
   "file_extension": ".py",
   "mimetype": "text/x-python",
   "name": "python",
   "nbconvert_exporter": "python",
   "pygments_lexer": "ipython3",
   "version": "3.9.13"
  }
 },
 "nbformat": 4,
 "nbformat_minor": 5
}
