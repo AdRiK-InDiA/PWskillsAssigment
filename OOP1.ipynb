{
 "cells": [
  {
   "cell_type": "markdown",
   "id": "ec09089f-6afc-482b-97a9-fe423ee1aea8",
   "metadata": {},
   "source": [
    "## Q1. Explain Class and Object with respect to Object-Oriented Programming. Give a suitable example."
   ]
  },
  {
   "cell_type": "markdown",
   "id": "5eb0d3b2-443a-4d97-9db5-06d89249863a",
   "metadata": {},
   "source": [
    "### class is a collection of object . An object is something with has some chracteristics .\n",
    "\n",
    "### ex - apple is red , banana is yellow, pears are green . These all have certain  charcteristics . They have all been classified in a single group called \"fruites\""
   ]
  },
  {
   "cell_type": "markdown",
   "id": "c5378856-a090-4a2c-aac6-b6d0a7e61663",
   "metadata": {},
   "source": [
    "## Q2. Name the four pillars of OOPs."
   ]
  },
  {
   "cell_type": "markdown",
   "id": "955d23dd-72f4-4b41-87ac-b1b48c3047aa",
   "metadata": {},
   "source": [
    "### The four pillars for OOP are:\n",
    "1. Abstraction.\n",
    "2. Encapsulation.\n",
    "3. Inheritance.\n",
    "4. Polymorphism."
   ]
  },
  {
   "cell_type": "markdown",
   "id": "beca0fef-4cdf-4463-a6fc-5d44820ac79f",
   "metadata": {},
   "source": [
    "## Q3. Explain why the __init__() function is used. Give a suitable example."
   ]
  },
  {
   "cell_type": "markdown",
   "id": "bb655d2e-8fa2-4311-89ae-b92d5d20c047",
   "metadata": {},
   "source": [
    "___ init ____ function is used to create a constructor for the class . so that the user can give input for his object ."
   ]
  },
  {
   "cell_type": "code",
   "execution_count": 10,
   "id": "88f5b1a1-0ea6-420b-8e19-dd1d2b7a2543",
   "metadata": {},
   "outputs": [],
   "source": [
    "class vehicle:\n",
    "    def __init__(self,speed,weight,passangers):\n",
    "        self.speed = speed\n",
    "        self.weight = weight\n",
    "        self.passangers = passangers\n",
    "\n",
    "bus = vehicle(30,300,120)"
   ]
  },
  {
   "cell_type": "code",
   "execution_count": 11,
   "id": "d08ecb24-d930-4316-88bd-314d5635d29b",
   "metadata": {},
   "outputs": [
    {
     "data": {
      "text/plain": [
       "30"
      ]
     },
     "execution_count": 11,
     "metadata": {},
     "output_type": "execute_result"
    }
   ],
   "source": [
    "bus.speed"
   ]
  },
  {
   "cell_type": "code",
   "execution_count": 12,
   "id": "f1501484-2866-47bf-8adb-b7729f18f60e",
   "metadata": {},
   "outputs": [
    {
     "data": {
      "text/plain": [
       "300"
      ]
     },
     "execution_count": 12,
     "metadata": {},
     "output_type": "execute_result"
    }
   ],
   "source": [
    "bus.weight"
   ]
  },
  {
   "cell_type": "code",
   "execution_count": 14,
   "id": "7d76ebf2-1a90-4640-b707-1c1e2d3ea155",
   "metadata": {},
   "outputs": [
    {
     "data": {
      "text/plain": [
       "120"
      ]
     },
     "execution_count": 14,
     "metadata": {},
     "output_type": "execute_result"
    }
   ],
   "source": [
    "bus.passangers"
   ]
  },
  {
   "cell_type": "markdown",
   "id": "4e0f8e2b-e4b1-4811-aab4-31c85f7503a6",
   "metadata": {},
   "source": [
    "## Why self is used in OOPs?"
   ]
  },
  {
   "cell_type": "markdown",
   "id": "da5c74b8-7c0e-4b55-8cac-29dbe8e7447b",
   "metadata": {},
   "source": [
    "#### self is not a keyword but it is used to give inform the comipler that the function or a  variable belongs to it . self binds the functions and variable with the class . "
   ]
  },
  {
   "cell_type": "markdown",
   "id": "720a07ed-a7cc-49ae-9778-65365045c28d",
   "metadata": {},
   "source": [
    "## Q5. What is inheritance? Give an example for each type of inheritance."
   ]
  },
  {
   "cell_type": "markdown",
   "id": "0a0fa581-013c-460e-8e27-928b6e2486a8",
   "metadata": {},
   "source": [
    "#### Inheritance is a mechanism of acquiring the features and behaviors of a class by another class. The class whose members are inherited is called the base class, and the class that inherits those members is called the derived class. Inheritance implements the IS-A relationship"
   ]
  },
  {
   "cell_type": "code",
   "execution_count": null,
   "id": "ab8e6987-b4d0-4347-928c-a643f128786a",
   "metadata": {},
   "outputs": [],
   "source": []
  }
 ],
 "metadata": {
  "kernelspec": {
   "display_name": "Python 3 (ipykernel)",
   "language": "python",
   "name": "python3"
  },
  "language_info": {
   "codemirror_mode": {
    "name": "ipython",
    "version": 3
   },
   "file_extension": ".py",
   "mimetype": "text/x-python",
   "name": "python",
   "nbconvert_exporter": "python",
   "pygments_lexer": "ipython3",
   "version": "3.9.13"
  }
 },
 "nbformat": 4,
 "nbformat_minor": 5
}
