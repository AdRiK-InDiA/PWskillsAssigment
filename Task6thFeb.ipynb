{
 "cells": [
  {
   "cell_type": "markdown",
   "id": "ce8501ee-f4da-4e41-8384-f59a9d778331",
   "metadata": {},
   "source": [
    "### Q1. Create a function which will take a list as an argument and return the product of all the numbers after creating a flat list.\n",
    "### Use the below-given list as an argument for your function.\n",
    "### list1 = [1,2,3,4, [44,55,66, True], False, (34,56,78,89,34), {1,2,3,3,2,1}, {1:34, \n",
    "###  \"key2\": [55, 67, 78, 89], 4: (45,\n",
    "### 22, 61, 34)}, [56, 'data science'], 'Machine Learning']"
   ]
  },
  {
   "cell_type": "code",
   "execution_count": 10,
   "id": "9545130e-1611-4d62-ad99-0673682d63f2",
   "metadata": {},
   "outputs": [],
   "source": [
    "def Numbers(l):\n",
    "    sum_ = 0 \n",
    "    for e in l: # going through the list\n",
    "        t = type(e)\n",
    "        \n",
    "        if t is int :\n",
    "            sum_+=e\n",
    "        \n",
    "        elif t is list : # extracting numbers from the lsit \n",
    "            \n",
    "            for el in e:\n",
    "                \n",
    "                if type(el) is int :\n",
    "                    sum_+=el \n",
    "        \n",
    "        elif t is tuple:  # extracting numbers from tuples \n",
    "            for et in e :\n",
    "                if type(et) is int :\n",
    "                    sum_+=et \n",
    "        \n",
    "        elif t is set : # extracting numbers from sets \n",
    "            \n",
    "            for es in e :\n",
    "                if type(es) is int :\n",
    "                    sum_+=es\n",
    "                    \n",
    "        elif t is dict:   # extracting numbers from dictionaries \n",
    "            \n",
    "            for ed in e.keys():\n",
    "                \n",
    "                if type(ed) is int :\n",
    "                    sum_+=ed\n",
    "            \n",
    "            for ev in e.values():\n",
    "                \n",
    "                if type(ev) is int :\n",
    "                    sum_+=ev\n",
    "\n",
    "    return sum_\n",
    "                \n",
    "        "
   ]
  },
  {
   "cell_type": "code",
   "execution_count": 9,
   "id": "dba39add-8ee4-47aa-866c-7b69484117c8",
   "metadata": {},
   "outputs": [
    {
     "data": {
      "text/plain": [
       "567"
      ]
     },
     "execution_count": 9,
     "metadata": {},
     "output_type": "execute_result"
    }
   ],
   "source": [
    "Numbers([1,2,3,4, [44,55,66, True], False, (34,56,78,89,34), {1,2,3,3,2,1}, {1:34,\"key2\": [55, 67, 78, 89], 4: (45,22, 61, 34)}, [56, 'data science'], 'Machine Learning'])"
   ]
  },
  {
   "cell_type": "markdown",
   "id": "d68f0894-3fd2-4e80-a3e7-5e443828be67",
   "metadata": {},
   "source": [
    "### Q2. Write a python program for encrypting a message sent to you by your friend. The logic of encryption\n",
    "### should be such that, for a the output should be z. For b, the output should be y. For c, the output should\n",
    "### be x respectively. Also, the whitespace should be replaced with a dollar sign. Keep the punctuation\n",
    "### marks unchanged.\n",
    "### Input Sentence: I want to become a Data Scientist.\n",
    "### Encrypt the above input sentence using the program you just created."
   ]
  },
  {
   "cell_type": "code",
   "execution_count": 28,
   "id": "c310f36c-106f-4bd7-8051-a2b22f8ad057",
   "metadata": {},
   "outputs": [],
   "source": [
    "def Encryptor(string):\n",
    "    string  = string.lower()\n",
    "    l = ['a', 'b', 'c', 'd', 'e', 'f', 'g', 'h', 'i', 'j', 'k', 'l', 'm', 'n', 'o', 'p', 'q', 'r', 's', 't', 'u', 'v', 'w', 'x', 'y', 'z']\n",
    "    s2 = ''\n",
    "    \n",
    "    for char in string :\n",
    "        \n",
    "        if char == ' ':\n",
    "            s2+='$'\n",
    "        elif char.isalpha() :\n",
    "            \n",
    "            c = l[-(l.index(char)+1)]\n",
    "            s2+=c\n",
    "        else :\n",
    "            pass\n",
    "    return s2"
   ]
  },
  {
   "cell_type": "code",
   "execution_count": 31,
   "id": "c06f944c-070c-417a-8be4-99df8e410770",
   "metadata": {},
   "outputs": [
    {
     "data": {
      "text/plain": [
       "'r$dzmg$gl$yvxlnv$z$wzgz$hxrvmgrhg'"
      ]
     },
     "execution_count": 31,
     "metadata": {},
     "output_type": "execute_result"
    }
   ],
   "source": [
    "Encryptor('I want to Become a Data Scientist')"
   ]
  },
  {
   "cell_type": "code",
   "execution_count": null,
   "id": "ce2e522a-640b-42fa-8765-2e3e409d80e2",
   "metadata": {},
   "outputs": [],
   "source": []
  }
 ],
 "metadata": {
  "kernelspec": {
   "display_name": "Python 3 (ipykernel)",
   "language": "python",
   "name": "python3"
  },
  "language_info": {
   "codemirror_mode": {
    "name": "ipython",
    "version": 3
   },
   "file_extension": ".py",
   "mimetype": "text/x-python",
   "name": "python",
   "nbconvert_exporter": "python",
   "pygments_lexer": "ipython3",
   "version": "3.9.13"
  }
 },
 "nbformat": 4,
 "nbformat_minor": 5
}
