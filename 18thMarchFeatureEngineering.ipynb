{
 "cells": [
  {
   "cell_type": "markdown",
   "id": "cf20e7a8-ef16-4817-b7a0-2c07833630dd",
   "metadata": {},
   "source": [
    "## Q1. What is the Filter method in feature selection, and how does it work?\n"
   ]
  },
  {
   "cell_type": "markdown",
   "id": "b6905bd7-ef1e-46ff-b503-97d8cd97f9a8",
   "metadata": {},
   "source": [
    "Filter methods measure the relevance of features by their correlation with dependent variable while wrapper methods measure the usefulness of a subset of feature by actually training a model on it. Filter methods are much faster compared to wrapper methods as they do not involve training the models."
   ]
  },
  {
   "cell_type": "markdown",
   "id": "c41edf39-06b5-4e8e-95d2-e5269a43163a",
   "metadata": {},
   "source": [
    "## Q2. How does the Wrapper method differ from the Filter method in feature selection?\n"
   ]
  },
  {
   "cell_type": "markdown",
   "id": "3edfd383-863a-4884-a8ae-e45572a56e4d",
   "metadata": {},
   "source": [
    "The main differences between the filter and wrapper methods for feature selection are: Filter methods measure the relevance of features by their correlation with dependent variable while wrapper methods measure the usefulness of a subset of feature by actually training a model on it."
   ]
  },
  {
   "cell_type": "markdown",
   "id": "b5a012bd-d8d8-499d-b533-2cfbdd87d66e",
   "metadata": {},
   "source": [
    "## Q3. What are some common techniques used in Embedded feature selection methods?\n"
   ]
  },
  {
   "cell_type": "markdown",
   "id": "84551b4a-494a-464c-8d95-0d0bcc6eefa1",
   "metadata": {},
   "source": [
    "ome examples of embedded methods include decision tree-based algorithms (e.g., decision tree, random forest, gradient boosting), and feature selection using regularization models (e.g., LASSO or elastic net)."
   ]
  },
  {
   "cell_type": "markdown",
   "id": "48abb21b-64be-4ec4-8a99-2cb553e2f054",
   "metadata": {},
   "source": [
    "## Q4. What are some drawbacks of using the Filter method for feature selection?\n"
   ]
  },
  {
   "cell_type": "markdown",
   "id": "69a62c41-97fa-41e2-b49f-04daf5150d13",
   "metadata": {},
   "source": [
    "The common disadvantage of filter methods is that they ignore the interaction with the classifier and each feature is considered independently thus ignoring feature dependencies In addition, it is not clear how to determine the threshold point for rankings to select only the required features and exclude noise."
   ]
  },
  {
   "cell_type": "markdown",
   "id": "062a489a-071d-4968-8b7c-7d4b03587c70",
   "metadata": {},
   "source": [
    "## Q5. In which situations would you prefer using the Filter method over the Wrapper method for feature selection?\n"
   ]
  },
  {
   "cell_type": "markdown",
   "id": "1e4d06d2-eac8-4b91-9622-20fc98ccb2a0",
   "metadata": {},
   "source": [
    "Filter methods are much faster compared to wrapper methods as they do not involve training the models. On the other hand, wrapper methods are computationally very expensive as well. Filter methods use statistical methods for evaluation of a subset of features while wrapper methods use cross validation."
   ]
  },
  {
   "cell_type": "markdown",
   "id": "b59fcccc-0992-4c20-be9f-7e4358e504e4",
   "metadata": {},
   "source": [
    "## Q6. In a telecom company, you are working on a project to develop a predictive model for customer churn. You are unsure of which features to include in the model because the dataset contains several different ones. Describe how you would choose the most pertinent attributes for the model using the Filter Method.\n"
   ]
  },
  {
   "cell_type": "markdown",
   "id": "72f150d0-ed2c-40cc-a1d6-3ec808362c14",
   "metadata": {},
   "source": []
  },
  {
   "cell_type": "markdown",
   "id": "ca3fd61b-9b76-499d-b17a-607d19d23d0e",
   "metadata": {},
   "source": [
    "## Q7. You are working on a project to predict the outcome of a soccer match. You have a large dataset with many features, including player statistics and team rankings. Explain how you would use the Embedded method to select the most relevant features for the model.\n"
   ]
  },
  {
   "cell_type": "markdown",
   "id": "c779302e-4b7d-4d13-9950-4e08cabf188f",
   "metadata": {},
   "source": []
  },
  {
   "cell_type": "markdown",
   "id": "2331e253-c97e-4a61-9541-43cbe8c91ed8",
   "metadata": {},
   "source": [
    "## Q8. You are working on a project to predict the price of a house based on its features, such as size, location, and age. You have a limited number of features, and you want to ensure that you select the most important ones for the model. Explain how you would use the Wrapper method to select the best set of features for the predictor."
   ]
  },
  {
   "cell_type": "markdown",
   "id": "89238f08-1af2-41d2-b7e8-56ff271b3778",
   "metadata": {},
   "source": []
  }
 ],
 "metadata": {
  "kernelspec": {
   "display_name": "Python 3 (ipykernel)",
   "language": "python",
   "name": "python3"
  },
  "language_info": {
   "codemirror_mode": {
    "name": "ipython",
    "version": 3
   },
   "file_extension": ".py",
   "mimetype": "text/x-python",
   "name": "python",
   "nbconvert_exporter": "python",
   "pygments_lexer": "ipython3",
   "version": "3.10.8"
  }
 },
 "nbformat": 4,
 "nbformat_minor": 5
}
