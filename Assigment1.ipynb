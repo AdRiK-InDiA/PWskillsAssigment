{
 "cells": [
  {
   "cell_type": "markdown",
   "id": "d67d0c2b-3f92-4b9d-b6d4-7e08e8372563",
   "metadata": {},
   "source": [
    "### who developed python programming language ?"
   ]
  },
  {
   "cell_type": "markdown",
   "id": "c1985a36-7dc0-402f-bb85-60c3075857cf",
   "metadata": {},
   "source": [
    "Ans - Guido van Rossum"
   ]
  },
  {
   "cell_type": "markdown",
   "id": "4f1b6545-4837-4efc-9ea8-dfe8fed054a5",
   "metadata": {},
   "source": [
    "### What type of programming does python support ? "
   ]
  },
  {
   "cell_type": "markdown",
   "id": "cfb08897-1a77-4053-8583-a1e8d61d6ada",
   "metadata": {},
   "source": [
    "Ans - Object Oriented Programming "
   ]
  },
  {
   "cell_type": "markdown",
   "id": "26a67293-3e50-449b-be45-5b1cd7c81b5d",
   "metadata": {},
   "source": [
    "### Is Python Case sensitive ?"
   ]
  },
  {
   "cell_type": "markdown",
   "id": "9bd101f8-a545-4c3b-8e0f-453be6547327",
   "metadata": {},
   "source": [
    "Ans - Yes "
   ]
  },
  {
   "cell_type": "markdown",
   "id": "e52188e5-364b-4c3d-a3eb-35198c65b396",
   "metadata": {},
   "source": [
    "### Extension of Python File ?"
   ]
  },
  {
   "cell_type": "markdown",
   "id": "dfb7bb4a-2d38-4b1b-ac60-42040a1c0eee",
   "metadata": {},
   "source": [
    "Ans - .py "
   ]
  },
  {
   "cell_type": "markdown",
   "id": "d22941a6-8cf5-4e70-8a3e-17b0df349508",
   "metadata": {},
   "source": [
    "### Is Python code compiled or interpreted ?\n",
    "\n",
    "ans - compilation and interpretion are the same thing . Yes Python code is compiled "
   ]
  },
  {
   "cell_type": "markdown",
   "id": "582f69fe-3014-49dd-acc7-d960a067aaad",
   "metadata": {},
   "source": [
    "### name of few blocks of codes used to define Python language\n",
    "\n",
    "Indentation is used to define a block of code in python. Braces {} are used to define a block of code in most programming languages, like C, C++, and Java. But this indentation makes python unique among all programming languages.\n",
    "\n",
    "This indentation highlights the block of code. In Python, indentation is done with whitespace. All statements with the same right-hand distance belong to the same code block. If a block needs to be more nested, it is indented to the right.\n",
    "\n",
    "Indentation is only used in most other programming languages to help make the code look nice. However, it is required in Python to indicate which block of code a statement belongs to."
   ]
  },
  {
   "cell_type": "markdown",
   "id": "ed007149-5f3f-4ecf-84d9-13fd904c8de2",
   "metadata": {},
   "source": [
    "### State character used to give single line comments in Python\n",
    "\n",
    "Hash character(#) is used to comment the line in the Python program. Comments does not have to be text to explain the code, it can also be used to prevent Python from executing code."
   ]
  },
  {
   "cell_type": "markdown",
   "id": "02b95d51-7a93-4a05-a5c5-3b2c57fdfdfe",
   "metadata": {},
   "source": [
    "### name the function that helps us to find the version of python we are working on ?\n",
    "\n",
    "function sys.version"
   ]
  },
  {
   "cell_type": "markdown",
   "id": "26d6cbbd-04da-4332-9579-b9376ca2c637",
   "metadata": {},
   "source": [
    "### Python allows creation of anonymous functions at runtime by a construct known as ?\n",
    "\n",
    "Python supports the creation of anonymous functions (i.e. functions that are not bound to a name) at runtime, using a construct called lambda."
   ]
  },
  {
   "cell_type": "markdown",
   "id": "01681278-0731-4021-8287-097a33c33f3a",
   "metadata": {},
   "source": [
    "### what does PIP stand for in Python ?\n",
    "\n",
    "ans - preferred installer program"
   ]
  },
  {
   "cell_type": "markdown",
   "id": "6a7e2b0c-7278-4709-a2d9-34adfeb9832a",
   "metadata": {},
   "source": [
    "### mention a few built in functions in Python ?\n",
    "\n",
    "Python Built-in Functions\n",
    "1. print( ) function.\n",
    "2. type( ) function.\n",
    "3. input( ) function.\n",
    "4. abs( ) function.\n",
    "5. pow( ) function.\n",
    "6. dir( ) function.\n",
    "7. sorted( ) function.\n",
    "8. max( ) function."
   ]
  },
  {
   "cell_type": "markdown",
   "id": "ba201eca-2714-4087-bbc5-2ddfb164b83d",
   "metadata": {},
   "source": [
    "### what is the maximum possible length of an identifier in Python ?\n",
    "\n",
    "ans -  An identifier can have a maximum length of 79 characters in Python."
   ]
  },
  {
   "cell_type": "markdown",
   "id": "3c3efad1-45ac-4bb6-b015-3f24d186ca77",
   "metadata": {},
   "source": [
    "### what are the benefits of using python ?\n",
    "\n",
    "Top Reasons to Learn Python\n",
    "1. Data science.\n",
    "2. Scientific and mathematical computing.\n",
    "3. Web development.\n",
    "4. Finance and trading.\n",
    "5. System automation and administration.\n",
    "6. Computer graphics.\n",
    "7. Basic game development.\n",
    "8. Security and penetration testing."
   ]
  },
  {
   "cell_type": "markdown",
   "id": "8db73af3-476e-4305-b88a-282ef49dda16",
   "metadata": {},
   "source": [
    "### how is memory managed in Python?\n",
    "\n",
    "Memory management in Python involves a private heap containing all Python objects and data structures. The management of this private heap is ensured internally by the Python memory manager."
   ]
  },
  {
   "cell_type": "markdown",
   "id": "9f190cda-d816-4196-91e3-daf0b1bffef3",
   "metadata": {},
   "source": [
    "### is indentation required in Python ?\n",
    "\n",
    "Indentation refers to the spaces at the beginning of a code line. Where in other programming languages the indentation in code is for readability only, the indentation in Python is very important. Python uses indentation to indicate a block of code."
   ]
  },
  {
   "cell_type": "markdown",
   "id": "8c429103-224b-460e-ad4b-a3f7767f7ab8",
   "metadata": {},
   "source": [
    "### how to install Python and set path variable ?\n",
    "\n",
    "In the section entitled User Variables, double-click on the entry that says Path. Another window will pop up showing a list of paths. Click the New button and paste the path to your Python executable there. Once that's inserted, select your newly added path and click the Move Up button until it's at the top"
   ]
  },
  {
   "cell_type": "code",
   "execution_count": null,
   "id": "76f9c2e8-bfa2-4020-81ab-dfafcf833e27",
   "metadata": {},
   "outputs": [],
   "source": []
  }
 ],
 "metadata": {
  "kernelspec": {
   "display_name": "Python 3 (ipykernel)",
   "language": "python",
   "name": "python3"
  },
  "language_info": {
   "codemirror_mode": {
    "name": "ipython",
    "version": 3
   },
   "file_extension": ".py",
   "mimetype": "text/x-python",
   "name": "python",
   "nbconvert_exporter": "python",
   "pygments_lexer": "ipython3",
   "version": "3.9.13"
  }
 },
 "nbformat": 4,
 "nbformat_minor": 5
}
