{
 "cells": [
  {
   "cell_type": "markdown",
   "id": "d9c880fc-d360-4cd0-8dfc-339e79ab2c96",
   "metadata": {},
   "source": [
    "## Q1: What are the Probability Mass Function (PMF) and Probability Density Function (PDF)? Explain with an example."
   ]
  },
  {
   "cell_type": "markdown",
   "id": "584fa6fe-55a8-43a3-a16c-0ec15691eb14",
   "metadata": {},
   "source": [
    "The probability mass function (PMF) is used to describe discrete probability distributions. In contrast, the probability density function (PDF) is applied to describe continuous probability distributions."
   ]
  },
  {
   "cell_type": "markdown",
   "id": "6b88d261-ea6b-4d04-9e03-481af3ba73b9",
   "metadata": {},
   "source": [
    "## Q2: What is Cumulative Density Function (CDF)? Explain with an example. Why CDF is used?"
   ]
  },
  {
   "cell_type": "markdown",
   "id": "6b68e6d0-9447-404b-8424-fd98dcdb714d",
   "metadata": {},
   "source": [
    "The Cumulative Distribution Function (CDF), of a real-valued random variable X, evaluated at x, is the probability function that X will take a value less than or equal to x. It is used to describe the probability distribution of random variables in a table."
   ]
  },
  {
   "cell_type": "markdown",
   "id": "89f6b6b4-320b-422e-b9ff-7039f7634c38",
   "metadata": {},
   "source": [
    "## Q3: What are some examples of situations where the normal distribution might be used as a model?Explain how the parameters of the normal distribution relate to the shape of the distribution."
   ]
  },
  {
   "cell_type": "markdown",
   "id": "521b89c7-48ac-401c-a994-5f51d76c3ea9",
   "metadata": {},
   "source": [
    "In what situation do we use normal distribution?\n",
    "We convert normal distributions into the standard normal distribution for several reasons: To find the probability of observations in a distribution falling above or below a given value. To find the probability that a sample mean significantly differs from a known population mean."
   ]
  },
  {
   "cell_type": "markdown",
   "id": "af4e2bf6-ccfe-4a46-84bb-f42774e4650c",
   "metadata": {},
   "source": [
    "## Q4: Explain the importance of Normal Distribution. Give a few real-life examples of Normal Distribution."
   ]
  },
  {
   "cell_type": "markdown",
   "id": "70331c66-7fa0-4fd4-8b7f-6ba4981da7fa",
   "metadata": {},
   "source": [
    "The height of people is an example of normal distribution. Most of the people in a specific population are of average height. The number of people taller and shorter than the average height people is almost equal, and a very small number of people are either extremely tall or extremely short."
   ]
  },
  {
   "cell_type": "markdown",
   "id": "6cca11b1-c5aa-48ac-b8e7-60fe2bcfca6a",
   "metadata": {},
   "source": [
    "## Q5: What is Bernaulli Distribution? Give an Example. What is the difference between Bernoulli Distribution and Binomial Distribution?"
   ]
  },
  {
   "cell_type": "markdown",
   "id": "f8c9c347-276b-4487-95de-8e3502416038",
   "metadata": {},
   "source": [
    "The Bernoulli distribution represents the success or failure of a single Bernoulli trial. The Binomial Distribution represents the number of successes and failures in n independent Bernoulli trials for some given value of n."
   ]
  },
  {
   "cell_type": "markdown",
   "id": "e27b5711-f6f9-45d7-80db-d98a5e6da5b5",
   "metadata": {},
   "source": [
    "## Q6. Consider a dataset with a mean of 50 and a standard deviation of 10. If we assume that the dataset is normally distributed, what is the probability that a randomly selected observation will be greater than 60? Use the appropriate formula and show your calculations."
   ]
  },
  {
   "cell_type": "markdown",
   "id": "3b27b11a-391f-4c1d-a484-59e76c893a03",
   "metadata": {},
   "source": [
    "the area will give the P(x).\n",
    "\n",
    "Total area = 1 \n",
    "\n",
    "Upto X=50. Area = 0.5\n",
    "\n",
    "Area between 50 and 60 = 68/2 = 0.34\n",
    "\n",
    "Hence, rest area = 0.16 . \n"
   ]
  },
  {
   "cell_type": "markdown",
   "id": "6207c5b7-0021-41e0-a65e-8411748f17a6",
   "metadata": {},
   "source": [
    "## Q7: Explain uniform Distribution with an example."
   ]
  },
  {
   "cell_type": "markdown",
   "id": "c22a674f-63d1-4939-b72d-8dfc6fe351fb",
   "metadata": {},
   "source": [
    "In statistics, uniform distribution refers to a type of probability distribution in which all outcomes are equally likely. A deck of cards has within it uniform distributions because the likelihood of drawing a heart, a club, a diamond, or a spade is equally likely."
   ]
  },
  {
   "cell_type": "markdown",
   "id": "ef2fa3f4-8c26-4d0c-a849-6371a5ae5fb9",
   "metadata": {},
   "source": [
    "## Q8: What is the z score? State the importance of the z score."
   ]
  },
  {
   "cell_type": "markdown",
   "id": "79503cf1-a92e-4c87-b56b-f12bb26f0fda",
   "metadata": {},
   "source": [
    "A z-score is important because it tells where your data lies in the data distribution. For example, if a z-score is 1.5, it is 1.5 standard deviations away from the mean."
   ]
  },
  {
   "cell_type": "markdown",
   "id": "7f0d636a-72cd-493a-98a5-85906d85ee6d",
   "metadata": {},
   "source": [
    "## Q9: What is Central Limit Theorem? State the significance of the Central Limit Theorem."
   ]
  },
  {
   "cell_type": "markdown",
   "id": "4ec59ef7-5c30-4125-831f-09ae3c49248c",
   "metadata": {},
   "source": [
    "The CLT is a statistical theory that states that - if you take a sufficiently large sample size from a population with a finite level of variance, the mean of all samples from that population will be roughly equal to the population mean."
   ]
  },
  {
   "cell_type": "markdown",
   "id": "8bb7b89b-2521-460b-a0f0-4f3dd7be2d98",
   "metadata": {},
   "source": [
    "## Q10: State the assumptions of the Central Limit Theorem."
   ]
  },
  {
   "cell_type": "markdown",
   "id": "627bccdb-f50e-4225-a863-50240af613fc",
   "metadata": {},
   "source": [
    "It needs to be sampled at random. The samples should be unrelated to one another. One sample should not impact the others. When taking samples without replacement, the sample size should not exceed 10% of the population."
   ]
  },
  {
   "cell_type": "code",
   "execution_count": null,
   "id": "59df5b95-d3a6-435c-984a-ee657ce024e2",
   "metadata": {},
   "outputs": [],
   "source": []
  }
 ],
 "metadata": {
  "kernelspec": {
   "display_name": "Python 3 (ipykernel)",
   "language": "python",
   "name": "python3"
  },
  "language_info": {
   "codemirror_mode": {
    "name": "ipython",
    "version": 3
   },
   "file_extension": ".py",
   "mimetype": "text/x-python",
   "name": "python",
   "nbconvert_exporter": "python",
   "pygments_lexer": "ipython3",
   "version": "3.10.8"
  }
 },
 "nbformat": 4,
 "nbformat_minor": 5
}
